{
 "cells": [
  {
   "cell_type": "markdown",
   "metadata": {},
   "source": [
    "### **Telco Customer Churn**\n",
    "\n",
    "![alt text](<ai customer service predictions (3).webp>)\n",
    "\n",
    "by TSR"
   ]
  },
  {
   "cell_type": "markdown",
   "metadata": {},
   "source": [
    "### **Data Preparation**"
   ]
  },
  {
   "cell_type": "code",
   "execution_count": 2,
   "metadata": {},
   "outputs": [],
   "source": [
    "import pandas as pd\n",
    "import numpy as np\n",
    "import matplotlib.pyplot as plt\n",
    "import seaborn as sns"
   ]
  },
  {
   "cell_type": "code",
   "execution_count": 3,
   "metadata": {},
   "outputs": [
    {
     "data": {
      "text/html": [
       "<div>\n",
       "<style scoped>\n",
       "    .dataframe tbody tr th:only-of-type {\n",
       "        vertical-align: middle;\n",
       "    }\n",
       "\n",
       "    .dataframe tbody tr th {\n",
       "        vertical-align: top;\n",
       "    }\n",
       "\n",
       "    .dataframe thead th {\n",
       "        text-align: right;\n",
       "    }\n",
       "</style>\n",
       "<table border=\"1\" class=\"dataframe\">\n",
       "  <thead>\n",
       "    <tr style=\"text-align: right;\">\n",
       "      <th></th>\n",
       "      <th>customerID</th>\n",
       "      <th>gender</th>\n",
       "      <th>SeniorCitizen</th>\n",
       "      <th>Partner</th>\n",
       "      <th>Dependents</th>\n",
       "      <th>tenure</th>\n",
       "      <th>PhoneService</th>\n",
       "      <th>MultipleLines</th>\n",
       "      <th>InternetService</th>\n",
       "      <th>OnlineSecurity</th>\n",
       "      <th>...</th>\n",
       "      <th>DeviceProtection</th>\n",
       "      <th>TechSupport</th>\n",
       "      <th>StreamingTV</th>\n",
       "      <th>StreamingMovies</th>\n",
       "      <th>Contract</th>\n",
       "      <th>PaperlessBilling</th>\n",
       "      <th>PaymentMethod</th>\n",
       "      <th>MonthlyCharges</th>\n",
       "      <th>TotalCharges</th>\n",
       "      <th>Churn</th>\n",
       "    </tr>\n",
       "  </thead>\n",
       "  <tbody>\n",
       "    <tr>\n",
       "      <th>0</th>\n",
       "      <td>7590-VHVEG</td>\n",
       "      <td>Female</td>\n",
       "      <td>0</td>\n",
       "      <td>Yes</td>\n",
       "      <td>No</td>\n",
       "      <td>1</td>\n",
       "      <td>No</td>\n",
       "      <td>No phone service</td>\n",
       "      <td>DSL</td>\n",
       "      <td>No</td>\n",
       "      <td>...</td>\n",
       "      <td>No</td>\n",
       "      <td>No</td>\n",
       "      <td>No</td>\n",
       "      <td>No</td>\n",
       "      <td>Month-to-month</td>\n",
       "      <td>Yes</td>\n",
       "      <td>Electronic check</td>\n",
       "      <td>29.85</td>\n",
       "      <td>29.85</td>\n",
       "      <td>No</td>\n",
       "    </tr>\n",
       "    <tr>\n",
       "      <th>1</th>\n",
       "      <td>5575-GNVDE</td>\n",
       "      <td>Male</td>\n",
       "      <td>0</td>\n",
       "      <td>No</td>\n",
       "      <td>No</td>\n",
       "      <td>34</td>\n",
       "      <td>Yes</td>\n",
       "      <td>No</td>\n",
       "      <td>DSL</td>\n",
       "      <td>Yes</td>\n",
       "      <td>...</td>\n",
       "      <td>Yes</td>\n",
       "      <td>No</td>\n",
       "      <td>No</td>\n",
       "      <td>No</td>\n",
       "      <td>One year</td>\n",
       "      <td>No</td>\n",
       "      <td>Mailed check</td>\n",
       "      <td>56.95</td>\n",
       "      <td>1889.5</td>\n",
       "      <td>No</td>\n",
       "    </tr>\n",
       "    <tr>\n",
       "      <th>2</th>\n",
       "      <td>3668-QPYBK</td>\n",
       "      <td>Male</td>\n",
       "      <td>0</td>\n",
       "      <td>No</td>\n",
       "      <td>No</td>\n",
       "      <td>2</td>\n",
       "      <td>Yes</td>\n",
       "      <td>No</td>\n",
       "      <td>DSL</td>\n",
       "      <td>Yes</td>\n",
       "      <td>...</td>\n",
       "      <td>No</td>\n",
       "      <td>No</td>\n",
       "      <td>No</td>\n",
       "      <td>No</td>\n",
       "      <td>Month-to-month</td>\n",
       "      <td>Yes</td>\n",
       "      <td>Mailed check</td>\n",
       "      <td>53.85</td>\n",
       "      <td>108.15</td>\n",
       "      <td>Yes</td>\n",
       "    </tr>\n",
       "    <tr>\n",
       "      <th>3</th>\n",
       "      <td>7795-CFOCW</td>\n",
       "      <td>Male</td>\n",
       "      <td>0</td>\n",
       "      <td>No</td>\n",
       "      <td>No</td>\n",
       "      <td>45</td>\n",
       "      <td>No</td>\n",
       "      <td>No phone service</td>\n",
       "      <td>DSL</td>\n",
       "      <td>Yes</td>\n",
       "      <td>...</td>\n",
       "      <td>Yes</td>\n",
       "      <td>Yes</td>\n",
       "      <td>No</td>\n",
       "      <td>No</td>\n",
       "      <td>One year</td>\n",
       "      <td>No</td>\n",
       "      <td>Bank transfer (automatic)</td>\n",
       "      <td>42.30</td>\n",
       "      <td>1840.75</td>\n",
       "      <td>No</td>\n",
       "    </tr>\n",
       "    <tr>\n",
       "      <th>4</th>\n",
       "      <td>9237-HQITU</td>\n",
       "      <td>Female</td>\n",
       "      <td>0</td>\n",
       "      <td>No</td>\n",
       "      <td>No</td>\n",
       "      <td>2</td>\n",
       "      <td>Yes</td>\n",
       "      <td>No</td>\n",
       "      <td>Fiber optic</td>\n",
       "      <td>No</td>\n",
       "      <td>...</td>\n",
       "      <td>No</td>\n",
       "      <td>No</td>\n",
       "      <td>No</td>\n",
       "      <td>No</td>\n",
       "      <td>Month-to-month</td>\n",
       "      <td>Yes</td>\n",
       "      <td>Electronic check</td>\n",
       "      <td>70.70</td>\n",
       "      <td>151.65</td>\n",
       "      <td>Yes</td>\n",
       "    </tr>\n",
       "  </tbody>\n",
       "</table>\n",
       "<p>5 rows × 21 columns</p>\n",
       "</div>"
      ],
      "text/plain": [
       "   customerID  gender  SeniorCitizen Partner Dependents  tenure PhoneService  \\\n",
       "0  7590-VHVEG  Female              0     Yes         No       1           No   \n",
       "1  5575-GNVDE    Male              0      No         No      34          Yes   \n",
       "2  3668-QPYBK    Male              0      No         No       2          Yes   \n",
       "3  7795-CFOCW    Male              0      No         No      45           No   \n",
       "4  9237-HQITU  Female              0      No         No       2          Yes   \n",
       "\n",
       "      MultipleLines InternetService OnlineSecurity  ... DeviceProtection  \\\n",
       "0  No phone service             DSL             No  ...               No   \n",
       "1                No             DSL            Yes  ...              Yes   \n",
       "2                No             DSL            Yes  ...               No   \n",
       "3  No phone service             DSL            Yes  ...              Yes   \n",
       "4                No     Fiber optic             No  ...               No   \n",
       "\n",
       "  TechSupport StreamingTV StreamingMovies        Contract PaperlessBilling  \\\n",
       "0          No          No              No  Month-to-month              Yes   \n",
       "1          No          No              No        One year               No   \n",
       "2          No          No              No  Month-to-month              Yes   \n",
       "3         Yes          No              No        One year               No   \n",
       "4          No          No              No  Month-to-month              Yes   \n",
       "\n",
       "               PaymentMethod MonthlyCharges  TotalCharges Churn  \n",
       "0           Electronic check          29.85         29.85    No  \n",
       "1               Mailed check          56.95        1889.5    No  \n",
       "2               Mailed check          53.85        108.15   Yes  \n",
       "3  Bank transfer (automatic)          42.30       1840.75    No  \n",
       "4           Electronic check          70.70        151.65   Yes  \n",
       "\n",
       "[5 rows x 21 columns]"
      ]
     },
     "execution_count": 3,
     "metadata": {},
     "output_type": "execute_result"
    }
   ],
   "source": [
    "df = pd.read_csv(\"Telco_Customer_Churn_Dataset.csv\")\n",
    "df.head()"
   ]
  },
  {
   "cell_type": "code",
   "execution_count": 4,
   "metadata": {},
   "outputs": [
    {
     "name": "stdout",
     "output_type": "stream",
     "text": [
      "<class 'pandas.core.frame.DataFrame'>\n",
      "RangeIndex: 7043 entries, 0 to 7042\n",
      "Data columns (total 21 columns):\n",
      " #   Column            Non-Null Count  Dtype  \n",
      "---  ------            --------------  -----  \n",
      " 0   customerID        7043 non-null   object \n",
      " 1   gender            7043 non-null   object \n",
      " 2   SeniorCitizen     7043 non-null   int64  \n",
      " 3   Partner           7043 non-null   object \n",
      " 4   Dependents        7043 non-null   object \n",
      " 5   tenure            7043 non-null   int64  \n",
      " 6   PhoneService      7043 non-null   object \n",
      " 7   MultipleLines     7043 non-null   object \n",
      " 8   InternetService   7043 non-null   object \n",
      " 9   OnlineSecurity    7043 non-null   object \n",
      " 10  OnlineBackup      7043 non-null   object \n",
      " 11  DeviceProtection  7043 non-null   object \n",
      " 12  TechSupport       7043 non-null   object \n",
      " 13  StreamingTV       7043 non-null   object \n",
      " 14  StreamingMovies   7043 non-null   object \n",
      " 15  Contract          7043 non-null   object \n",
      " 16  PaperlessBilling  7043 non-null   object \n",
      " 17  PaymentMethod     7043 non-null   object \n",
      " 18  MonthlyCharges    7043 non-null   float64\n",
      " 19  TotalCharges      7043 non-null   object \n",
      " 20  Churn             7043 non-null   object \n",
      "dtypes: float64(1), int64(2), object(18)\n",
      "memory usage: 1.1+ MB\n"
     ]
    }
   ],
   "source": [
    "df.info()"
   ]
  },
  {
   "cell_type": "code",
   "execution_count": 5,
   "metadata": {},
   "outputs": [
    {
     "data": {
      "text/html": [
       "<div>\n",
       "<style scoped>\n",
       "    .dataframe tbody tr th:only-of-type {\n",
       "        vertical-align: middle;\n",
       "    }\n",
       "\n",
       "    .dataframe tbody tr th {\n",
       "        vertical-align: top;\n",
       "    }\n",
       "\n",
       "    .dataframe thead th {\n",
       "        text-align: right;\n",
       "    }\n",
       "</style>\n",
       "<table border=\"1\" class=\"dataframe\">\n",
       "  <thead>\n",
       "    <tr style=\"text-align: right;\">\n",
       "      <th></th>\n",
       "      <th>SeniorCitizen</th>\n",
       "      <th>tenure</th>\n",
       "      <th>MonthlyCharges</th>\n",
       "    </tr>\n",
       "  </thead>\n",
       "  <tbody>\n",
       "    <tr>\n",
       "      <th>count</th>\n",
       "      <td>7043.000000</td>\n",
       "      <td>7043.000000</td>\n",
       "      <td>7043.000000</td>\n",
       "    </tr>\n",
       "    <tr>\n",
       "      <th>mean</th>\n",
       "      <td>0.162147</td>\n",
       "      <td>32.371149</td>\n",
       "      <td>64.761692</td>\n",
       "    </tr>\n",
       "    <tr>\n",
       "      <th>std</th>\n",
       "      <td>0.368612</td>\n",
       "      <td>24.559481</td>\n",
       "      <td>30.090047</td>\n",
       "    </tr>\n",
       "    <tr>\n",
       "      <th>min</th>\n",
       "      <td>0.000000</td>\n",
       "      <td>0.000000</td>\n",
       "      <td>18.250000</td>\n",
       "    </tr>\n",
       "    <tr>\n",
       "      <th>25%</th>\n",
       "      <td>0.000000</td>\n",
       "      <td>9.000000</td>\n",
       "      <td>35.500000</td>\n",
       "    </tr>\n",
       "    <tr>\n",
       "      <th>50%</th>\n",
       "      <td>0.000000</td>\n",
       "      <td>29.000000</td>\n",
       "      <td>70.350000</td>\n",
       "    </tr>\n",
       "    <tr>\n",
       "      <th>75%</th>\n",
       "      <td>0.000000</td>\n",
       "      <td>55.000000</td>\n",
       "      <td>89.850000</td>\n",
       "    </tr>\n",
       "    <tr>\n",
       "      <th>max</th>\n",
       "      <td>1.000000</td>\n",
       "      <td>72.000000</td>\n",
       "      <td>118.750000</td>\n",
       "    </tr>\n",
       "  </tbody>\n",
       "</table>\n",
       "</div>"
      ],
      "text/plain": [
       "       SeniorCitizen       tenure  MonthlyCharges\n",
       "count    7043.000000  7043.000000     7043.000000\n",
       "mean        0.162147    32.371149       64.761692\n",
       "std         0.368612    24.559481       30.090047\n",
       "min         0.000000     0.000000       18.250000\n",
       "25%         0.000000     9.000000       35.500000\n",
       "50%         0.000000    29.000000       70.350000\n",
       "75%         0.000000    55.000000       89.850000\n",
       "max         1.000000    72.000000      118.750000"
      ]
     },
     "execution_count": 5,
     "metadata": {},
     "output_type": "execute_result"
    }
   ],
   "source": [
    "df.describe()"
   ]
  },
  {
   "cell_type": "code",
   "execution_count": 6,
   "metadata": {},
   "outputs": [],
   "source": [
    "df['TotalCharges'] = pd.to_numeric(df['TotalCharges'], errors='coerce')"
   ]
  },
  {
   "cell_type": "code",
   "execution_count": 7,
   "metadata": {},
   "outputs": [
    {
     "data": {
      "text/plain": [
       "dtype('float64')"
      ]
     },
     "execution_count": 7,
     "metadata": {},
     "output_type": "execute_result"
    }
   ],
   "source": [
    "df.TotalCharges.dtype"
   ]
  },
  {
   "cell_type": "code",
   "execution_count": 8,
   "metadata": {},
   "outputs": [
    {
     "data": {
      "text/plain": [
       "11"
      ]
     },
     "execution_count": 8,
     "metadata": {},
     "output_type": "execute_result"
    }
   ],
   "source": [
    "df.TotalCharges.isnull().sum()"
   ]
  },
  {
   "cell_type": "code",
   "execution_count": 9,
   "metadata": {},
   "outputs": [
    {
     "data": {
      "text/plain": [
       "(7043, 21)"
      ]
     },
     "execution_count": 9,
     "metadata": {},
     "output_type": "execute_result"
    }
   ],
   "source": [
    "df.shape"
   ]
  },
  {
   "cell_type": "code",
   "execution_count": 10,
   "metadata": {},
   "outputs": [],
   "source": [
    "df.dropna(axis=0, inplace=True)"
   ]
  },
  {
   "cell_type": "code",
   "execution_count": 11,
   "metadata": {},
   "outputs": [
    {
     "name": "stdout",
     "output_type": "stream",
     "text": [
      "(7032, 21)\n",
      "customerID          0\n",
      "gender              0\n",
      "SeniorCitizen       0\n",
      "Partner             0\n",
      "Dependents          0\n",
      "tenure              0\n",
      "PhoneService        0\n",
      "MultipleLines       0\n",
      "InternetService     0\n",
      "OnlineSecurity      0\n",
      "OnlineBackup        0\n",
      "DeviceProtection    0\n",
      "TechSupport         0\n",
      "StreamingTV         0\n",
      "StreamingMovies     0\n",
      "Contract            0\n",
      "PaperlessBilling    0\n",
      "PaymentMethod       0\n",
      "MonthlyCharges      0\n",
      "TotalCharges        0\n",
      "Churn               0\n",
      "dtype: int64\n"
     ]
    }
   ],
   "source": [
    "print(df.shape)\n",
    "\n",
    "print(df.isnull().sum())"
   ]
  },
  {
   "cell_type": "code",
   "execution_count": 12,
   "metadata": {},
   "outputs": [],
   "source": [
    "df1 = df.drop(['customerID'], axis=1)"
   ]
  },
  {
   "cell_type": "code",
   "execution_count": 13,
   "metadata": {},
   "outputs": [
    {
     "data": {
      "text/plain": [
       "Index(['gender', 'SeniorCitizen', 'Partner', 'Dependents', 'tenure',\n",
       "       'PhoneService', 'MultipleLines', 'InternetService', 'OnlineSecurity',\n",
       "       'OnlineBackup', 'DeviceProtection', 'TechSupport', 'StreamingTV',\n",
       "       'StreamingMovies', 'Contract', 'PaperlessBilling', 'PaymentMethod',\n",
       "       'MonthlyCharges', 'TotalCharges', 'Churn'],\n",
       "      dtype='object')"
      ]
     },
     "execution_count": 13,
     "metadata": {},
     "output_type": "execute_result"
    }
   ],
   "source": [
    "df1.columns"
   ]
  },
  {
   "cell_type": "code",
   "execution_count": 14,
   "metadata": {},
   "outputs": [
    {
     "data": {
      "text/html": [
       "<div>\n",
       "<style scoped>\n",
       "    .dataframe tbody tr th:only-of-type {\n",
       "        vertical-align: middle;\n",
       "    }\n",
       "\n",
       "    .dataframe tbody tr th {\n",
       "        vertical-align: top;\n",
       "    }\n",
       "\n",
       "    .dataframe thead th {\n",
       "        text-align: right;\n",
       "    }\n",
       "</style>\n",
       "<table border=\"1\" class=\"dataframe\">\n",
       "  <thead>\n",
       "    <tr style=\"text-align: right;\">\n",
       "      <th></th>\n",
       "      <th>gender</th>\n",
       "      <th>SeniorCitizen</th>\n",
       "      <th>Partner</th>\n",
       "      <th>Dependents</th>\n",
       "      <th>tenure</th>\n",
       "      <th>PhoneService</th>\n",
       "      <th>MultipleLines</th>\n",
       "      <th>InternetService</th>\n",
       "      <th>OnlineSecurity</th>\n",
       "      <th>OnlineBackup</th>\n",
       "      <th>DeviceProtection</th>\n",
       "      <th>TechSupport</th>\n",
       "      <th>StreamingTV</th>\n",
       "      <th>StreamingMovies</th>\n",
       "      <th>Contract</th>\n",
       "      <th>PaperlessBilling</th>\n",
       "      <th>PaymentMethod</th>\n",
       "      <th>MonthlyCharges</th>\n",
       "      <th>TotalCharges</th>\n",
       "      <th>Churn</th>\n",
       "    </tr>\n",
       "  </thead>\n",
       "  <tbody>\n",
       "    <tr>\n",
       "      <th>713</th>\n",
       "      <td>Female</td>\n",
       "      <td>0</td>\n",
       "      <td>No</td>\n",
       "      <td>Yes</td>\n",
       "      <td>14</td>\n",
       "      <td>Yes</td>\n",
       "      <td>Yes</td>\n",
       "      <td>Fiber optic</td>\n",
       "      <td>Yes</td>\n",
       "      <td>No</td>\n",
       "      <td>No</td>\n",
       "      <td>Yes</td>\n",
       "      <td>No</td>\n",
       "      <td>No</td>\n",
       "      <td>Month-to-month</td>\n",
       "      <td>Yes</td>\n",
       "      <td>Mailed check</td>\n",
       "      <td>86.00</td>\n",
       "      <td>1164.05</td>\n",
       "      <td>No</td>\n",
       "    </tr>\n",
       "    <tr>\n",
       "      <th>4656</th>\n",
       "      <td>Female</td>\n",
       "      <td>0</td>\n",
       "      <td>Yes</td>\n",
       "      <td>Yes</td>\n",
       "      <td>22</td>\n",
       "      <td>Yes</td>\n",
       "      <td>Yes</td>\n",
       "      <td>Fiber optic</td>\n",
       "      <td>No</td>\n",
       "      <td>No</td>\n",
       "      <td>No</td>\n",
       "      <td>No</td>\n",
       "      <td>No</td>\n",
       "      <td>No</td>\n",
       "      <td>Month-to-month</td>\n",
       "      <td>Yes</td>\n",
       "      <td>Bank transfer (automatic)</td>\n",
       "      <td>75.80</td>\n",
       "      <td>1615.10</td>\n",
       "      <td>No</td>\n",
       "    </tr>\n",
       "    <tr>\n",
       "      <th>3344</th>\n",
       "      <td>Male</td>\n",
       "      <td>0</td>\n",
       "      <td>No</td>\n",
       "      <td>No</td>\n",
       "      <td>10</td>\n",
       "      <td>Yes</td>\n",
       "      <td>Yes</td>\n",
       "      <td>Fiber optic</td>\n",
       "      <td>No</td>\n",
       "      <td>No</td>\n",
       "      <td>No</td>\n",
       "      <td>No</td>\n",
       "      <td>No</td>\n",
       "      <td>No</td>\n",
       "      <td>Month-to-month</td>\n",
       "      <td>Yes</td>\n",
       "      <td>Mailed check</td>\n",
       "      <td>74.15</td>\n",
       "      <td>811.80</td>\n",
       "      <td>Yes</td>\n",
       "    </tr>\n",
       "    <tr>\n",
       "      <th>1367</th>\n",
       "      <td>Male</td>\n",
       "      <td>1</td>\n",
       "      <td>Yes</td>\n",
       "      <td>No</td>\n",
       "      <td>61</td>\n",
       "      <td>Yes</td>\n",
       "      <td>Yes</td>\n",
       "      <td>Fiber optic</td>\n",
       "      <td>No</td>\n",
       "      <td>Yes</td>\n",
       "      <td>No</td>\n",
       "      <td>No</td>\n",
       "      <td>No</td>\n",
       "      <td>No</td>\n",
       "      <td>Month-to-month</td>\n",
       "      <td>Yes</td>\n",
       "      <td>Electronic check</td>\n",
       "      <td>82.15</td>\n",
       "      <td>4904.85</td>\n",
       "      <td>No</td>\n",
       "    </tr>\n",
       "    <tr>\n",
       "      <th>3204</th>\n",
       "      <td>Male</td>\n",
       "      <td>0</td>\n",
       "      <td>No</td>\n",
       "      <td>Yes</td>\n",
       "      <td>40</td>\n",
       "      <td>Yes</td>\n",
       "      <td>No</td>\n",
       "      <td>No</td>\n",
       "      <td>No internet service</td>\n",
       "      <td>No internet service</td>\n",
       "      <td>No internet service</td>\n",
       "      <td>No internet service</td>\n",
       "      <td>No internet service</td>\n",
       "      <td>No internet service</td>\n",
       "      <td>One year</td>\n",
       "      <td>Yes</td>\n",
       "      <td>Bank transfer (automatic)</td>\n",
       "      <td>20.40</td>\n",
       "      <td>854.90</td>\n",
       "      <td>No</td>\n",
       "    </tr>\n",
       "  </tbody>\n",
       "</table>\n",
       "</div>"
      ],
      "text/plain": [
       "      gender  SeniorCitizen Partner Dependents  tenure PhoneService  \\\n",
       "713   Female              0      No        Yes      14          Yes   \n",
       "4656  Female              0     Yes        Yes      22          Yes   \n",
       "3344    Male              0      No         No      10          Yes   \n",
       "1367    Male              1     Yes         No      61          Yes   \n",
       "3204    Male              0      No        Yes      40          Yes   \n",
       "\n",
       "     MultipleLines InternetService       OnlineSecurity         OnlineBackup  \\\n",
       "713            Yes     Fiber optic                  Yes                   No   \n",
       "4656           Yes     Fiber optic                   No                   No   \n",
       "3344           Yes     Fiber optic                   No                   No   \n",
       "1367           Yes     Fiber optic                   No                  Yes   \n",
       "3204            No              No  No internet service  No internet service   \n",
       "\n",
       "         DeviceProtection          TechSupport          StreamingTV  \\\n",
       "713                    No                  Yes                   No   \n",
       "4656                   No                   No                   No   \n",
       "3344                   No                   No                   No   \n",
       "1367                   No                   No                   No   \n",
       "3204  No internet service  No internet service  No internet service   \n",
       "\n",
       "          StreamingMovies        Contract PaperlessBilling  \\\n",
       "713                    No  Month-to-month              Yes   \n",
       "4656                   No  Month-to-month              Yes   \n",
       "3344                   No  Month-to-month              Yes   \n",
       "1367                   No  Month-to-month              Yes   \n",
       "3204  No internet service        One year              Yes   \n",
       "\n",
       "                  PaymentMethod  MonthlyCharges  TotalCharges Churn  \n",
       "713                Mailed check           86.00       1164.05    No  \n",
       "4656  Bank transfer (automatic)           75.80       1615.10    No  \n",
       "3344               Mailed check           74.15        811.80   Yes  \n",
       "1367           Electronic check           82.15       4904.85    No  \n",
       "3204  Bank transfer (automatic)           20.40        854.90    No  "
      ]
     },
     "execution_count": 14,
     "metadata": {},
     "output_type": "execute_result"
    }
   ],
   "source": [
    "df1.sample(5)"
   ]
  },
  {
   "cell_type": "code",
   "execution_count": 15,
   "metadata": {},
   "outputs": [
    {
     "name": "stdout",
     "output_type": "stream",
     "text": [
      "gender: ['Female' 'Male']\n",
      "SeniorCitizen: [0 1]\n",
      "Partner: ['Yes' 'No']\n",
      "Dependents: ['No' 'Yes']\n",
      "tenure: [ 1 34  2 45  8 22 10 28 62 13 16 58 49 25 69 52 71 21 12 30 47 72 17 27\n",
      "  5 46 11 70 63 43 15 60 18 66  9  3 31 50 64 56  7 42 35 48 29 65 38 68\n",
      " 32 55 37 36 41  6  4 33 67 23 57 61 14 20 53 40 59 24 44 19 54 51 26 39]\n",
      "PhoneService: ['No' 'Yes']\n",
      "MultipleLines: ['No phone service' 'No' 'Yes']\n",
      "InternetService: ['DSL' 'Fiber optic' 'No']\n",
      "OnlineSecurity: ['No' 'Yes' 'No internet service']\n",
      "OnlineBackup: ['Yes' 'No' 'No internet service']\n",
      "DeviceProtection: ['No' 'Yes' 'No internet service']\n",
      "TechSupport: ['No' 'Yes' 'No internet service']\n",
      "StreamingTV: ['No' 'Yes' 'No internet service']\n",
      "StreamingMovies: ['No' 'Yes' 'No internet service']\n",
      "Contract: ['Month-to-month' 'One year' 'Two year']\n",
      "PaperlessBilling: ['Yes' 'No']\n",
      "PaymentMethod: ['Electronic check' 'Mailed check' 'Bank transfer (automatic)'\n",
      " 'Credit card (automatic)']\n",
      "MonthlyCharges: [29.85 56.95 53.85 ... 63.1  44.2  78.7 ]\n",
      "TotalCharges: [  29.85 1889.5   108.15 ...  346.45  306.6  6844.5 ]\n",
      "Churn: ['No' 'Yes']\n"
     ]
    }
   ],
   "source": [
    "def col_data(df):\n",
    "    for col in df:\n",
    "        print(f\"{col}: {df[col].unique()}\")\n",
    "\n",
    "col_data(df1)"
   ]
  },
  {
   "cell_type": "code",
   "execution_count": 16,
   "metadata": {},
   "outputs": [],
   "source": [
    "df1.replace({'No phone service':'No', 'No internet service':'No'}, inplace=True)"
   ]
  },
  {
   "cell_type": "code",
   "execution_count": 17,
   "metadata": {},
   "outputs": [
    {
     "name": "stdout",
     "output_type": "stream",
     "text": [
      "gender: ['Female' 'Male']\n",
      "SeniorCitizen: [0 1]\n",
      "Partner: ['Yes' 'No']\n",
      "Dependents: ['No' 'Yes']\n",
      "tenure: [ 1 34  2 45  8 22 10 28 62 13 16 58 49 25 69 52 71 21 12 30 47 72 17 27\n",
      "  5 46 11 70 63 43 15 60 18 66  9  3 31 50 64 56  7 42 35 48 29 65 38 68\n",
      " 32 55 37 36 41  6  4 33 67 23 57 61 14 20 53 40 59 24 44 19 54 51 26 39]\n",
      "PhoneService: ['No' 'Yes']\n",
      "MultipleLines: ['No' 'Yes']\n",
      "InternetService: ['DSL' 'Fiber optic' 'No']\n",
      "OnlineSecurity: ['No' 'Yes']\n",
      "OnlineBackup: ['Yes' 'No']\n",
      "DeviceProtection: ['No' 'Yes']\n",
      "TechSupport: ['No' 'Yes']\n",
      "StreamingTV: ['No' 'Yes']\n",
      "StreamingMovies: ['No' 'Yes']\n",
      "Contract: ['Month-to-month' 'One year' 'Two year']\n",
      "PaperlessBilling: ['Yes' 'No']\n",
      "PaymentMethod: ['Electronic check' 'Mailed check' 'Bank transfer (automatic)'\n",
      " 'Credit card (automatic)']\n",
      "MonthlyCharges: [29.85 56.95 53.85 ... 63.1  44.2  78.7 ]\n",
      "TotalCharges: [  29.85 1889.5   108.15 ...  346.45  306.6  6844.5 ]\n",
      "Churn: ['No' 'Yes']\n"
     ]
    }
   ],
   "source": [
    "col_data(df1)"
   ]
  },
  {
   "cell_type": "code",
   "execution_count": 18,
   "metadata": {},
   "outputs": [
    {
     "data": {
      "text/plain": [
       "(1506,)"
      ]
     },
     "execution_count": 18,
     "metadata": {},
     "output_type": "execute_result"
    }
   ],
   "source": [
    "df1[df1.InternetService=='No'].value_counts().shape"
   ]
  },
  {
   "cell_type": "code",
   "execution_count": 19,
   "metadata": {},
   "outputs": [],
   "source": [
    "df1['gender'].replace({'Male':1, 'Female':0}, inplace=True)"
   ]
  },
  {
   "cell_type": "code",
   "execution_count": 20,
   "metadata": {},
   "outputs": [],
   "source": [
    "columns_to_replace = [\n",
    "    'Partner', 'Dependents', 'PhoneService', 'MultipleLines',\n",
    "    'OnlineSecurity', 'OnlineBackup', 'DeviceProtection', 'TechSupport',\n",
    "    'StreamingTV', 'StreamingMovies', 'PaperlessBilling', 'Churn'\n",
    "]\n",
    "\n",
    "replacement_mapping = {'Yes': 1, 'No': 0}\n",
    "\n",
    "df1[columns_to_replace] = df1[columns_to_replace].replace(replacement_mapping)"
   ]
  },
  {
   "cell_type": "code",
   "execution_count": 21,
   "metadata": {},
   "outputs": [
    {
     "name": "stdout",
     "output_type": "stream",
     "text": [
      "gender: [0 1]\n",
      "SeniorCitizen: [0 1]\n",
      "Partner: [1 0]\n",
      "Dependents: [0 1]\n",
      "tenure: [ 1 34  2 45  8 22 10 28 62 13 16 58 49 25 69 52 71 21 12 30 47 72 17 27\n",
      "  5 46 11 70 63 43 15 60 18 66  9  3 31 50 64 56  7 42 35 48 29 65 38 68\n",
      " 32 55 37 36 41  6  4 33 67 23 57 61 14 20 53 40 59 24 44 19 54 51 26 39]\n",
      "PhoneService: [0 1]\n",
      "MultipleLines: [0 1]\n",
      "InternetService: ['DSL' 'Fiber optic' 'No']\n",
      "OnlineSecurity: [0 1]\n",
      "OnlineBackup: [1 0]\n",
      "DeviceProtection: [0 1]\n",
      "TechSupport: [0 1]\n",
      "StreamingTV: [0 1]\n",
      "StreamingMovies: [0 1]\n",
      "Contract: ['Month-to-month' 'One year' 'Two year']\n",
      "PaperlessBilling: [1 0]\n",
      "PaymentMethod: ['Electronic check' 'Mailed check' 'Bank transfer (automatic)'\n",
      " 'Credit card (automatic)']\n",
      "MonthlyCharges: [29.85 56.95 53.85 ... 63.1  44.2  78.7 ]\n",
      "TotalCharges: [  29.85 1889.5   108.15 ...  346.45  306.6  6844.5 ]\n",
      "Churn: [0 1]\n"
     ]
    }
   ],
   "source": [
    "col_data(df1)"
   ]
  },
  {
   "cell_type": "code",
   "execution_count": 22,
   "metadata": {},
   "outputs": [],
   "source": [
    "df2 = pd.get_dummies(df1, columns=['InternetService', 'Contract', 'PaymentMethod'])"
   ]
  },
  {
   "cell_type": "code",
   "execution_count": 23,
   "metadata": {},
   "outputs": [
    {
     "data": {
      "text/html": [
       "<div>\n",
       "<style scoped>\n",
       "    .dataframe tbody tr th:only-of-type {\n",
       "        vertical-align: middle;\n",
       "    }\n",
       "\n",
       "    .dataframe tbody tr th {\n",
       "        vertical-align: top;\n",
       "    }\n",
       "\n",
       "    .dataframe thead th {\n",
       "        text-align: right;\n",
       "    }\n",
       "</style>\n",
       "<table border=\"1\" class=\"dataframe\">\n",
       "  <thead>\n",
       "    <tr style=\"text-align: right;\">\n",
       "      <th></th>\n",
       "      <th>gender</th>\n",
       "      <th>SeniorCitizen</th>\n",
       "      <th>Partner</th>\n",
       "      <th>Dependents</th>\n",
       "      <th>tenure</th>\n",
       "      <th>PhoneService</th>\n",
       "      <th>MultipleLines</th>\n",
       "      <th>OnlineSecurity</th>\n",
       "      <th>OnlineBackup</th>\n",
       "      <th>DeviceProtection</th>\n",
       "      <th>...</th>\n",
       "      <th>InternetService_DSL</th>\n",
       "      <th>InternetService_Fiber optic</th>\n",
       "      <th>InternetService_No</th>\n",
       "      <th>Contract_Month-to-month</th>\n",
       "      <th>Contract_One year</th>\n",
       "      <th>Contract_Two year</th>\n",
       "      <th>PaymentMethod_Bank transfer (automatic)</th>\n",
       "      <th>PaymentMethod_Credit card (automatic)</th>\n",
       "      <th>PaymentMethod_Electronic check</th>\n",
       "      <th>PaymentMethod_Mailed check</th>\n",
       "    </tr>\n",
       "  </thead>\n",
       "  <tbody>\n",
       "    <tr>\n",
       "      <th>4874</th>\n",
       "      <td>0</td>\n",
       "      <td>0</td>\n",
       "      <td>0</td>\n",
       "      <td>0</td>\n",
       "      <td>38</td>\n",
       "      <td>1</td>\n",
       "      <td>0</td>\n",
       "      <td>1</td>\n",
       "      <td>1</td>\n",
       "      <td>1</td>\n",
       "      <td>...</td>\n",
       "      <td>0</td>\n",
       "      <td>1</td>\n",
       "      <td>0</td>\n",
       "      <td>1</td>\n",
       "      <td>0</td>\n",
       "      <td>0</td>\n",
       "      <td>0</td>\n",
       "      <td>1</td>\n",
       "      <td>0</td>\n",
       "      <td>0</td>\n",
       "    </tr>\n",
       "    <tr>\n",
       "      <th>2241</th>\n",
       "      <td>0</td>\n",
       "      <td>0</td>\n",
       "      <td>1</td>\n",
       "      <td>1</td>\n",
       "      <td>56</td>\n",
       "      <td>1</td>\n",
       "      <td>1</td>\n",
       "      <td>0</td>\n",
       "      <td>0</td>\n",
       "      <td>0</td>\n",
       "      <td>...</td>\n",
       "      <td>0</td>\n",
       "      <td>0</td>\n",
       "      <td>1</td>\n",
       "      <td>0</td>\n",
       "      <td>0</td>\n",
       "      <td>1</td>\n",
       "      <td>0</td>\n",
       "      <td>1</td>\n",
       "      <td>0</td>\n",
       "      <td>0</td>\n",
       "    </tr>\n",
       "    <tr>\n",
       "      <th>2401</th>\n",
       "      <td>1</td>\n",
       "      <td>1</td>\n",
       "      <td>0</td>\n",
       "      <td>1</td>\n",
       "      <td>11</td>\n",
       "      <td>1</td>\n",
       "      <td>0</td>\n",
       "      <td>0</td>\n",
       "      <td>1</td>\n",
       "      <td>0</td>\n",
       "      <td>...</td>\n",
       "      <td>1</td>\n",
       "      <td>0</td>\n",
       "      <td>0</td>\n",
       "      <td>1</td>\n",
       "      <td>0</td>\n",
       "      <td>0</td>\n",
       "      <td>0</td>\n",
       "      <td>0</td>\n",
       "      <td>1</td>\n",
       "      <td>0</td>\n",
       "    </tr>\n",
       "    <tr>\n",
       "      <th>4786</th>\n",
       "      <td>1</td>\n",
       "      <td>0</td>\n",
       "      <td>0</td>\n",
       "      <td>0</td>\n",
       "      <td>72</td>\n",
       "      <td>1</td>\n",
       "      <td>1</td>\n",
       "      <td>0</td>\n",
       "      <td>1</td>\n",
       "      <td>1</td>\n",
       "      <td>...</td>\n",
       "      <td>0</td>\n",
       "      <td>1</td>\n",
       "      <td>0</td>\n",
       "      <td>0</td>\n",
       "      <td>0</td>\n",
       "      <td>1</td>\n",
       "      <td>0</td>\n",
       "      <td>0</td>\n",
       "      <td>1</td>\n",
       "      <td>0</td>\n",
       "    </tr>\n",
       "    <tr>\n",
       "      <th>4356</th>\n",
       "      <td>0</td>\n",
       "      <td>0</td>\n",
       "      <td>0</td>\n",
       "      <td>0</td>\n",
       "      <td>3</td>\n",
       "      <td>1</td>\n",
       "      <td>0</td>\n",
       "      <td>0</td>\n",
       "      <td>0</td>\n",
       "      <td>0</td>\n",
       "      <td>...</td>\n",
       "      <td>0</td>\n",
       "      <td>0</td>\n",
       "      <td>1</td>\n",
       "      <td>1</td>\n",
       "      <td>0</td>\n",
       "      <td>0</td>\n",
       "      <td>0</td>\n",
       "      <td>0</td>\n",
       "      <td>0</td>\n",
       "      <td>1</td>\n",
       "    </tr>\n",
       "  </tbody>\n",
       "</table>\n",
       "<p>5 rows × 27 columns</p>\n",
       "</div>"
      ],
      "text/plain": [
       "      gender  SeniorCitizen  Partner  Dependents  tenure  PhoneService  \\\n",
       "4874       0              0        0           0      38             1   \n",
       "2241       0              0        1           1      56             1   \n",
       "2401       1              1        0           1      11             1   \n",
       "4786       1              0        0           0      72             1   \n",
       "4356       0              0        0           0       3             1   \n",
       "\n",
       "      MultipleLines  OnlineSecurity  OnlineBackup  DeviceProtection  ...  \\\n",
       "4874              0               1             1                 1  ...   \n",
       "2241              1               0             0                 0  ...   \n",
       "2401              0               0             1                 0  ...   \n",
       "4786              1               0             1                 1  ...   \n",
       "4356              0               0             0                 0  ...   \n",
       "\n",
       "      InternetService_DSL  InternetService_Fiber optic  InternetService_No  \\\n",
       "4874                    0                            1                   0   \n",
       "2241                    0                            0                   1   \n",
       "2401                    1                            0                   0   \n",
       "4786                    0                            1                   0   \n",
       "4356                    0                            0                   1   \n",
       "\n",
       "      Contract_Month-to-month  Contract_One year  Contract_Two year  \\\n",
       "4874                        1                  0                  0   \n",
       "2241                        0                  0                  1   \n",
       "2401                        1                  0                  0   \n",
       "4786                        0                  0                  1   \n",
       "4356                        1                  0                  0   \n",
       "\n",
       "      PaymentMethod_Bank transfer (automatic)  \\\n",
       "4874                                        0   \n",
       "2241                                        0   \n",
       "2401                                        0   \n",
       "4786                                        0   \n",
       "4356                                        0   \n",
       "\n",
       "      PaymentMethod_Credit card (automatic)  PaymentMethod_Electronic check  \\\n",
       "4874                                      1                               0   \n",
       "2241                                      1                               0   \n",
       "2401                                      0                               1   \n",
       "4786                                      0                               1   \n",
       "4356                                      0                               0   \n",
       "\n",
       "      PaymentMethod_Mailed check  \n",
       "4874                           0  \n",
       "2241                           0  \n",
       "2401                           0  \n",
       "4786                           0  \n",
       "4356                           1  \n",
       "\n",
       "[5 rows x 27 columns]"
      ]
     },
     "execution_count": 23,
     "metadata": {},
     "output_type": "execute_result"
    }
   ],
   "source": [
    "df2.sample(5)"
   ]
  },
  {
   "cell_type": "code",
   "execution_count": 24,
   "metadata": {},
   "outputs": [
    {
     "data": {
      "text/html": [
       "<div>\n",
       "<style scoped>\n",
       "    .dataframe tbody tr th:only-of-type {\n",
       "        vertical-align: middle;\n",
       "    }\n",
       "\n",
       "    .dataframe tbody tr th {\n",
       "        vertical-align: top;\n",
       "    }\n",
       "\n",
       "    .dataframe thead th {\n",
       "        text-align: right;\n",
       "    }\n",
       "</style>\n",
       "<table border=\"1\" class=\"dataframe\">\n",
       "  <thead>\n",
       "    <tr style=\"text-align: right;\">\n",
       "      <th></th>\n",
       "      <th>tenure</th>\n",
       "      <th>MonthlyCharges</th>\n",
       "      <th>TotalCharges</th>\n",
       "    </tr>\n",
       "  </thead>\n",
       "  <tbody>\n",
       "    <tr>\n",
       "      <th>1957</th>\n",
       "      <td>0.633803</td>\n",
       "      <td>0.346766</td>\n",
       "      <td>0.281676</td>\n",
       "    </tr>\n",
       "    <tr>\n",
       "      <th>2605</th>\n",
       "      <td>0.169014</td>\n",
       "      <td>0.021393</td>\n",
       "      <td>0.027983</td>\n",
       "    </tr>\n",
       "    <tr>\n",
       "      <th>2339</th>\n",
       "      <td>0.281690</td>\n",
       "      <td>0.756219</td>\n",
       "      <td>0.225589</td>\n",
       "    </tr>\n",
       "    <tr>\n",
       "      <th>2160</th>\n",
       "      <td>1.000000</td>\n",
       "      <td>0.651244</td>\n",
       "      <td>0.701373</td>\n",
       "    </tr>\n",
       "    <tr>\n",
       "      <th>5006</th>\n",
       "      <td>0.197183</td>\n",
       "      <td>0.372637</td>\n",
       "      <td>0.101662</td>\n",
       "    </tr>\n",
       "  </tbody>\n",
       "</table>\n",
       "</div>"
      ],
      "text/plain": [
       "        tenure  MonthlyCharges  TotalCharges\n",
       "1957  0.633803        0.346766      0.281676\n",
       "2605  0.169014        0.021393      0.027983\n",
       "2339  0.281690        0.756219      0.225589\n",
       "2160  1.000000        0.651244      0.701373\n",
       "5006  0.197183        0.372637      0.101662"
      ]
     },
     "execution_count": 24,
     "metadata": {},
     "output_type": "execute_result"
    }
   ],
   "source": [
    "from sklearn.preprocessing import MinMaxScaler\n",
    "\n",
    "scaler = MinMaxScaler()\n",
    "\n",
    "df2[['tenure', 'MonthlyCharges', 'TotalCharges']] = scaler.fit_transform(df2[['tenure', 'MonthlyCharges', 'TotalCharges']])\n",
    "\n",
    "df2[['tenure', 'MonthlyCharges', 'TotalCharges']].sample(5)"
   ]
  },
  {
   "cell_type": "code",
   "execution_count": 25,
   "metadata": {},
   "outputs": [
    {
     "data": {
      "text/plain": [
       "Index(['gender', 'SeniorCitizen', 'Partner', 'Dependents', 'tenure',\n",
       "       'PhoneService', 'MultipleLines', 'OnlineSecurity', 'OnlineBackup',\n",
       "       'DeviceProtection', 'TechSupport', 'StreamingTV', 'StreamingMovies',\n",
       "       'PaperlessBilling', 'MonthlyCharges', 'TotalCharges', 'Churn',\n",
       "       'InternetService_DSL', 'InternetService_Fiber optic',\n",
       "       'InternetService_No', 'Contract_Month-to-month', 'Contract_One year',\n",
       "       'Contract_Two year', 'PaymentMethod_Bank transfer (automatic)',\n",
       "       'PaymentMethod_Credit card (automatic)',\n",
       "       'PaymentMethod_Electronic check', 'PaymentMethod_Mailed check'],\n",
       "      dtype='object')"
      ]
     },
     "execution_count": 25,
     "metadata": {},
     "output_type": "execute_result"
    }
   ],
   "source": [
    "df2.columns"
   ]
  },
  {
   "cell_type": "code",
   "execution_count": 26,
   "metadata": {},
   "outputs": [
    {
     "data": {
      "text/plain": [
       "gender                                       int64\n",
       "SeniorCitizen                                int64\n",
       "Partner                                      int64\n",
       "Dependents                                   int64\n",
       "tenure                                     float64\n",
       "PhoneService                                 int64\n",
       "MultipleLines                                int64\n",
       "OnlineSecurity                               int64\n",
       "OnlineBackup                                 int64\n",
       "DeviceProtection                             int64\n",
       "TechSupport                                  int64\n",
       "StreamingTV                                  int64\n",
       "StreamingMovies                              int64\n",
       "PaperlessBilling                             int64\n",
       "MonthlyCharges                             float64\n",
       "TotalCharges                               float64\n",
       "Churn                                        int64\n",
       "InternetService_DSL                          uint8\n",
       "InternetService_Fiber optic                  uint8\n",
       "InternetService_No                           uint8\n",
       "Contract_Month-to-month                      uint8\n",
       "Contract_One year                            uint8\n",
       "Contract_Two year                            uint8\n",
       "PaymentMethod_Bank transfer (automatic)      uint8\n",
       "PaymentMethod_Credit card (automatic)        uint8\n",
       "PaymentMethod_Electronic check               uint8\n",
       "PaymentMethod_Mailed check                   uint8\n",
       "dtype: object"
      ]
     },
     "execution_count": 26,
     "metadata": {},
     "output_type": "execute_result"
    }
   ],
   "source": [
    "df2.dtypes"
   ]
  },
  {
   "cell_type": "markdown",
   "metadata": {},
   "source": [
    "### **Exploratory Data Analysis**"
   ]
  },
  {
   "cell_type": "code",
   "execution_count": 27,
   "metadata": {},
   "outputs": [
    {
     "data": {
      "image/png": "[encoded data removed]",
      "text/plain": [
       "<Figure size 576x432 with 1 Axes>"
      ]
     },
     "metadata": {
      "needs_background": "light"
     },
     "output_type": "display_data"
    }
   ],
   "source": [
    "y_churn = (df1['Churn']).value_counts()[0]\n",
    "n_churn = (df1['Churn']).value_counts()[1]\n",
    "\n",
    "churn = pd.Series([y_churn, n_churn], index=['Not Churn', 'Churn'])\n",
    "\n",
    "churn.plot(kind='bar', color=['green', 'red'], figsize=(8, 6))\n",
    "plt.title('Churn Rate')\n",
    "plt.ylabel('Number of Customers')\n",
    "plt.xticks(rotation=0)\n",
    "plt.grid(axis='y', linestyle='--', alpha=0.7)\n",
    "plt.show()"
   ]
  },
  {
   "cell_type": "code",
   "execution_count": 28,
   "metadata": {
    "vscode": {
     "languageId": "javascript"
    }
   },
   "outputs": [
    {
     "data": {
      "image/png": "[encoded data removed]",
      "text/plain": [
       "<Figure size 720x432 with 1 Axes>"
      ]
     },
     "metadata": {
      "needs_background": "light"
     },
     "output_type": "display_data"
    }
   ],
   "source": [
    "churn_Gender = df1[df1['gender'] == 1]['Churn'].value_counts()\n",
    "nChurn_Gender = df1[df1['gender'] == 0]['Churn'].value_counts()\n",
    "\n",
    "churnGender = pd.DataFrame({\n",
    "    'Male': churn_Gender,\n",
    "    'Female': nChurn_Gender\n",
    "})\n",
    "\n",
    "churnGender.plot(kind='bar', figsize=(10, 6), color=['skyblue', 'pink'])\n",
    "plt.title('Churn status by Gender')\n",
    "plt.ylabel('Number of Customers')\n",
    "plt.xticks(ticks=[0, 1], labels=['Not Churn', 'Churn'], rotation=0)\n",
    "plt.grid(axis='y', linestyle='--', alpha=0.7)\n",
    "plt.legend(title='Status')\n",
    "plt.show()"
   ]
  },
  {
   "cell_type": "code",
   "execution_count": 29,
   "metadata": {
    "vscode": {
     "languageId": "javascript"
    }
   },
   "outputs": [
    {
     "data": {
      "image/png": "[encoded data removed]",
      "text/plain": [
       "<Figure size 720x432 with 1 Axes>"
      ]
     },
     "metadata": {
      "needs_background": "light"
     },
     "output_type": "display_data"
    }
   ],
   "source": [
    "churn_Partner = df1[df1['Partner'] == 1]['Churn'].value_counts()\n",
    "churn_notPartner = df1[df1['Partner'] == 0]['Churn'].value_counts()\n",
    "\n",
    "churnPartner = pd.DataFrame({\n",
    "    'Partner': churn_Partner,\n",
    "    'Not Partner': churn_notPartner\n",
    "})\n",
    "\n",
    "churnPartner.plot(kind='bar', figsize=(10, 6), color=['blue', 'red'])\n",
    "plt.title('Churn status by Partner')\n",
    "plt.ylabel('Number of Customers')\n",
    "plt.xticks(ticks=[0, 1], labels=['Not Churn', 'Churn'], rotation=0)\n",
    "plt.grid(axis='y', linestyle='--', alpha=0.7)\n",
    "plt.legend(title='Status')\n",
    "plt.show()"
   ]
  },
  {
   "cell_type": "code",
   "execution_count": 30,
   "metadata": {
    "vscode": {
     "languageId": "javascript"
    }
   },
   "outputs": [
    {
     "data": {
      "image/png": "[encoded data removed]",
      "text/plain": [
       "<Figure size 720x432 with 1 Axes>"
      ]
     },
     "metadata": {
      "needs_background": "light"
     },
     "output_type": "display_data"
    }
   ],
   "source": [
    "churn_Dependents = df1[df1['Dependents'] == 1]['Churn'].value_counts()\n",
    "churn_notDependents = df1[df1['Dependents'] == 0]['Churn'].value_counts()\n",
    "\n",
    "churnDependents = pd.DataFrame({\n",
    "    'Dependent': churn_Dependents,\n",
    "    'Not Dependent': churn_notDependents\n",
    "})\n",
    "\n",
    "churnDependents.plot(kind='bar', figsize=(10, 6), color=['red', 'blue'])\n",
    "plt.title('Churn status by Partner')\n",
    "plt.ylabel('Number of Customers')\n",
    "plt.xticks(ticks=[0,1], labels=['Not Churn', 'Churn'], rotation=0)\n",
    "plt.grid(axis='y', linestyle='--', alpha=0.7)\n",
    "plt.legend(title='Status')\n",
    "plt.show()"
   ]
  },
  {
   "cell_type": "code",
   "execution_count": 31,
   "metadata": {
    "vscode": {
     "languageId": "javascript"
    }
   },
   "outputs": [
    {
     "data": {
      "image/png": "[encoded data removed]",
      "text/plain": [
       "<Figure size 720x432 with 1 Axes>"
      ]
     },
     "metadata": {
      "needs_background": "light"
     },
     "output_type": "display_data"
    }
   ],
   "source": [
    "yChurn_contract = df1[df1['Churn'] == 1]['Contract']\n",
    "nChurn_contract = df1[df1['Churn'] == 0]['Contract']\n",
    "\n",
    "plt.figure(figsize=(10, 6))\n",
    "plt.hist([yChurn_contract, nChurn_contract], color=['red', 'blue'], label=['Churn', 'Not Churn'])\n",
    "plt.title('Churn status by Contract')\n",
    "plt.xlabel('Contract')\n",
    "plt.ylabel('Number of Customers')\n",
    "plt.grid(axis='y', linestyle='--', alpha=0.7)\n",
    "plt.legend()\n",
    "plt.show()"
   ]
  },
  {
   "cell_type": "code",
   "execution_count": 32,
   "metadata": {
    "vscode": {
     "languageId": "javascript"
    }
   },
   "outputs": [
    {
     "data": {
      "image/png": "[encoded data removed]",
      "text/plain": [
       "<Figure size 720x432 with 1 Axes>"
      ]
     },
     "metadata": {
      "needs_background": "light"
     },
     "output_type": "display_data"
    }
   ],
   "source": [
    "yChurn_paymentM = df1[df1['Churn'] == 1]['PaymentMethod']\n",
    "nChurn_paymentM = df1[df1['Churn'] == 0]['PaymentMethod']\n",
    "\n",
    "plt.figure(figsize=(10, 6))\n",
    "plt.hist([yChurn_paymentM, nChurn_paymentM], color=['red', 'blue'], label=['Churn', 'Not Churn'])\n",
    "plt.title('Churn status by Payment Method')\n",
    "plt.xlabel('Payment Method')\n",
    "plt.ylabel('Number of Customers')\n",
    "plt.legend(title='Status', loc='upper right')\n",
    "plt.show()"
   ]
  },
  {
   "cell_type": "code",
   "execution_count": 33,
   "metadata": {
    "vscode": {
     "languageId": "javascript"
    }
   },
   "outputs": [
    {
     "data": {
      "image/png": "[encoded data removed]",
      "text/plain": [
       "<Figure size 720x432 with 1 Axes>"
      ]
     },
     "metadata": {
      "needs_background": "light"
     },
     "output_type": "display_data"
    }
   ],
   "source": [
    "yChurn_tenure = df1[df1['Churn'] == 1]['tenure']\n",
    "nChur_tenure = df1[df1['Churn'] == 0]['tenure']\n",
    "\n",
    "plt.figure(figsize=(10, 6))\n",
    "plt.hist([yChurn_tenure, nChur_tenure], color=['red', 'blue'], label=['Churn', 'Not Churn'])\n",
    "plt.title('Churn status by Tenure')\n",
    "plt.xlabel('Tenure')\n",
    "plt.ylabel('Number of Customers')\n",
    "plt.legend(title='Status', loc='upper right')\n",
    "plt.show()"
   ]
  },
  {
   "cell_type": "markdown",
   "metadata": {},
   "source": [
    "### **Customer Segmentation**"
   ]
  },
  {
   "cell_type": "code",
   "execution_count": 34,
   "metadata": {
    "vscode": {
     "languageId": "javascript"
    }
   },
   "outputs": [
    {
     "data": {
      "image/png": "[encoded data removed]",
      "text/plain": [
       "<Figure size 720x432 with 1 Axes>"
      ]
     },
     "metadata": {
      "needs_background": "light"
     },
     "output_type": "display_data"
    }
   ],
   "source": [
    "yChurn_tenure = df1[df1['Churn'] == 1]['tenure']\n",
    "nChur_tenure = df1[df1['Churn'] == 0]['tenure']\n",
    "\n",
    "plt.figure(figsize=(10, 6))\n",
    "sns.kdeplot(yChurn_tenure, label='Churn', color='red', shade=False)\n",
    "sns.kdeplot(nChur_tenure, label='Not Churn', color='blue', shade=True)\n",
    "plt.title('Churn status by Tenure')\n",
    "plt.xlabel('Tenure')\n",
    "plt.ylabel('Density')\n",
    "plt.show()"
   ]
  },
  {
   "cell_type": "code",
   "execution_count": 35,
   "metadata": {
    "vscode": {
     "languageId": "javascript"
    }
   },
   "outputs": [
    {
     "data": {
      "image/png": "[encoded data removed]",
      "text/plain": [
       "<Figure size 720x432 with 1 Axes>"
      ]
     },
     "metadata": {
      "needs_background": "light"
     },
     "output_type": "display_data"
    }
   ],
   "source": [
    "yChurn_contract = df1[df1['Churn'] == 1]['Contract'].value_counts()\n",
    "nChurn_contract = df1[df1['Churn'] == 0]['Contract'].value_counts()\n",
    "\n",
    "churn_contract = pd.DataFrame({\n",
    "    'Churn': yChurn_contract,\n",
    "    'Not Churn': nChurn_contract\n",
    "})\n",
    "\n",
    "churn_contract.T.plot(kind='bar', figsize=(10, 6), color=['blue', 'red', 'green'])\n",
    "plt.title('Churn status by Contract')\n",
    "plt.ylabel('Number of Customers')\n",
    "plt.xticks(rotation=0)\n",
    "plt.grid(axis='y', linestyle='--', alpha=0.7)\n",
    "plt.legend(title='Status', labels=['Month-to-month', 'One year', 'Two year'])\n",
    "plt.show()"
   ]
  },
  {
   "cell_type": "code",
   "execution_count": 36,
   "metadata": {
    "vscode": {
     "languageId": "javascript"
    }
   },
   "outputs": [
    {
     "data": {
      "image/png": "[encoded data removed]",
      "text/plain": [
       "<Figure size 720x432 with 1 Axes>"
      ]
     },
     "metadata": {
      "needs_background": "light"
     },
     "output_type": "display_data"
    }
   ],
   "source": [
    "yChurn_paymentM = df1[df1['Churn'] == 1]['PaymentMethod'].value_counts()\n",
    "nChurn_paymentM = df1[df1['Churn'] == 0]['PaymentMethod'].value_counts()\n",
    "\n",
    "churn_payment = pd.DataFrame({\n",
    "    'Churn': yChurn_paymentM,\n",
    "    'Not Churn': nChurn_paymentM\n",
    "})\n",
    "\n",
    "churn_payment.T.plot(kind='bar', figsize=(10, 6), color=['blue', 'red', 'green', 'orange'])\n",
    "plt.title('Churn status by Payment Method')\n",
    "plt.ylabel('Number of Customers')\n",
    "plt.xticks(rotation=0)\n",
    "plt.grid(axis='y', linestyle='--', alpha=0.7)\n",
    "plt.legend(title='Status', labels=['Bank transfer (automatic)', 'Credit card (automatic)', 'Electronic check', 'Mailed check'])\n",
    "plt.show()"
   ]
  },
  {
   "cell_type": "code",
   "execution_count": 37,
   "metadata": {
    "vscode": {
     "languageId": "javascript"
    }
   },
   "outputs": [
    {
     "data": {
      "image/png": "[encoded data removed]",
      "text/plain": [
       "<Figure size 720x432 with 1 Axes>"
      ]
     },
     "metadata": {
      "needs_background": "light"
     },
     "output_type": "display_data"
    }
   ],
   "source": [
    "churn_monthlyCharges = df1[df1['Churn'] == 1]['MonthlyCharges']\n",
    "not_churn_monthlyCharges = df1[df1['Churn'] == 0]['MonthlyCharges']\n",
    "\n",
    "plt.figure(figsize=(10, 6))\n",
    "sns.kdeplot(churn_monthlyCharges, label='Churn', color='red', shade=False)\n",
    "sns.kdeplot(not_churn_monthlyCharges, label='Not Churn', color='blue', shade=True)\n",
    "plt.title('Churn status by Monthly Charges')\n",
    "plt.xlabel('Monthly Charges')\n",
    "plt.ylabel('Density')\n",
    "plt.show()"
   ]
  },
  {
   "cell_type": "code",
   "execution_count": 38,
   "metadata": {
    "vscode": {
     "languageId": "javascript"
    }
   },
   "outputs": [
    {
     "data": {
      "image/png": "[encoded data removed]",
      "text/plain": [
       "<Figure size 720x432 with 1 Axes>"
      ]
     },
     "metadata": {
      "needs_background": "light"
     },
     "output_type": "display_data"
    }
   ],
   "source": [
    "churn_totalCharges = df1[df1['Churn'] == 1]['TotalCharges']\n",
    "not_churn_totalCharges = df1[df1['Churn'] == 0]['TotalCharges']\n",
    "\n",
    "plt.figure(figsize=(10, 6))\n",
    "sns.kdeplot(churn_totalCharges, label='Churn', color='red', shade=False)\n",
    "sns.kdeplot(not_churn_totalCharges, label='Not Churn', color='blue', shade=True)\n",
    "plt.title('Churn status by Monthly Charges')\n",
    "plt.xlabel('Monthly Charges')\n",
    "plt.ylabel('Density')\n",
    "plt.show()"
   ]
  },
  {
   "cell_type": "markdown",
   "metadata": {},
   "source": [
    "### **Churn Prediction Model**"
   ]
  },
  {
   "cell_type": "code",
   "execution_count": 39,
   "metadata": {
    "vscode": {
     "languageId": "javascript"
    }
   },
   "outputs": [
    {
     "data": {
      "text/html": [
       "<div>\n",
       "<style scoped>\n",
       "    .dataframe tbody tr th:only-of-type {\n",
       "        vertical-align: middle;\n",
       "    }\n",
       "\n",
       "    .dataframe tbody tr th {\n",
       "        vertical-align: top;\n",
       "    }\n",
       "\n",
       "    .dataframe thead th {\n",
       "        text-align: right;\n",
       "    }\n",
       "</style>\n",
       "<table border=\"1\" class=\"dataframe\">\n",
       "  <thead>\n",
       "    <tr style=\"text-align: right;\">\n",
       "      <th></th>\n",
       "      <th>gender</th>\n",
       "      <th>SeniorCitizen</th>\n",
       "      <th>Partner</th>\n",
       "      <th>Dependents</th>\n",
       "      <th>tenure</th>\n",
       "      <th>PhoneService</th>\n",
       "      <th>MultipleLines</th>\n",
       "      <th>OnlineSecurity</th>\n",
       "      <th>OnlineBackup</th>\n",
       "      <th>DeviceProtection</th>\n",
       "      <th>...</th>\n",
       "      <th>InternetService_DSL</th>\n",
       "      <th>InternetService_Fiber optic</th>\n",
       "      <th>InternetService_No</th>\n",
       "      <th>Contract_Month-to-month</th>\n",
       "      <th>Contract_One year</th>\n",
       "      <th>Contract_Two year</th>\n",
       "      <th>PaymentMethod_Bank transfer (automatic)</th>\n",
       "      <th>PaymentMethod_Credit card (automatic)</th>\n",
       "      <th>PaymentMethod_Electronic check</th>\n",
       "      <th>PaymentMethod_Mailed check</th>\n",
       "    </tr>\n",
       "  </thead>\n",
       "  <tbody>\n",
       "    <tr>\n",
       "      <th>2460</th>\n",
       "      <td>0</td>\n",
       "      <td>0</td>\n",
       "      <td>1</td>\n",
       "      <td>1</td>\n",
       "      <td>0.661972</td>\n",
       "      <td>1</td>\n",
       "      <td>0</td>\n",
       "      <td>0</td>\n",
       "      <td>0</td>\n",
       "      <td>0</td>\n",
       "      <td>...</td>\n",
       "      <td>0</td>\n",
       "      <td>0</td>\n",
       "      <td>1</td>\n",
       "      <td>0</td>\n",
       "      <td>0</td>\n",
       "      <td>1</td>\n",
       "      <td>0</td>\n",
       "      <td>0</td>\n",
       "      <td>0</td>\n",
       "      <td>1</td>\n",
       "    </tr>\n",
       "    <tr>\n",
       "      <th>2964</th>\n",
       "      <td>1</td>\n",
       "      <td>0</td>\n",
       "      <td>1</td>\n",
       "      <td>0</td>\n",
       "      <td>0.323944</td>\n",
       "      <td>1</td>\n",
       "      <td>1</td>\n",
       "      <td>1</td>\n",
       "      <td>0</td>\n",
       "      <td>0</td>\n",
       "      <td>...</td>\n",
       "      <td>1</td>\n",
       "      <td>0</td>\n",
       "      <td>0</td>\n",
       "      <td>0</td>\n",
       "      <td>1</td>\n",
       "      <td>0</td>\n",
       "      <td>0</td>\n",
       "      <td>0</td>\n",
       "      <td>1</td>\n",
       "      <td>0</td>\n",
       "    </tr>\n",
       "    <tr>\n",
       "      <th>4843</th>\n",
       "      <td>1</td>\n",
       "      <td>0</td>\n",
       "      <td>1</td>\n",
       "      <td>1</td>\n",
       "      <td>0.957746</td>\n",
       "      <td>1</td>\n",
       "      <td>0</td>\n",
       "      <td>0</td>\n",
       "      <td>0</td>\n",
       "      <td>0</td>\n",
       "      <td>...</td>\n",
       "      <td>0</td>\n",
       "      <td>0</td>\n",
       "      <td>1</td>\n",
       "      <td>0</td>\n",
       "      <td>0</td>\n",
       "      <td>1</td>\n",
       "      <td>1</td>\n",
       "      <td>0</td>\n",
       "      <td>0</td>\n",
       "      <td>0</td>\n",
       "    </tr>\n",
       "    <tr>\n",
       "      <th>5576</th>\n",
       "      <td>0</td>\n",
       "      <td>0</td>\n",
       "      <td>0</td>\n",
       "      <td>0</td>\n",
       "      <td>0.000000</td>\n",
       "      <td>1</td>\n",
       "      <td>0</td>\n",
       "      <td>0</td>\n",
       "      <td>0</td>\n",
       "      <td>0</td>\n",
       "      <td>...</td>\n",
       "      <td>1</td>\n",
       "      <td>0</td>\n",
       "      <td>0</td>\n",
       "      <td>1</td>\n",
       "      <td>0</td>\n",
       "      <td>0</td>\n",
       "      <td>0</td>\n",
       "      <td>0</td>\n",
       "      <td>0</td>\n",
       "      <td>1</td>\n",
       "    </tr>\n",
       "    <tr>\n",
       "      <th>522</th>\n",
       "      <td>1</td>\n",
       "      <td>0</td>\n",
       "      <td>1</td>\n",
       "      <td>1</td>\n",
       "      <td>0.760563</td>\n",
       "      <td>1</td>\n",
       "      <td>1</td>\n",
       "      <td>0</td>\n",
       "      <td>0</td>\n",
       "      <td>0</td>\n",
       "      <td>...</td>\n",
       "      <td>0</td>\n",
       "      <td>1</td>\n",
       "      <td>0</td>\n",
       "      <td>1</td>\n",
       "      <td>0</td>\n",
       "      <td>0</td>\n",
       "      <td>1</td>\n",
       "      <td>0</td>\n",
       "      <td>0</td>\n",
       "      <td>0</td>\n",
       "    </tr>\n",
       "  </tbody>\n",
       "</table>\n",
       "<p>5 rows × 27 columns</p>\n",
       "</div>"
      ],
      "text/plain": [
       "      gender  SeniorCitizen  Partner  Dependents    tenure  PhoneService  \\\n",
       "2460       0              0        1           1  0.661972             1   \n",
       "2964       1              0        1           0  0.323944             1   \n",
       "4843       1              0        1           1  0.957746             1   \n",
       "5576       0              0        0           0  0.000000             1   \n",
       "522        1              0        1           1  0.760563             1   \n",
       "\n",
       "      MultipleLines  OnlineSecurity  OnlineBackup  DeviceProtection  ...  \\\n",
       "2460              0               0             0                 0  ...   \n",
       "2964              1               1             0                 0  ...   \n",
       "4843              0               0             0                 0  ...   \n",
       "5576              0               0             0                 0  ...   \n",
       "522               1               0             0                 0  ...   \n",
       "\n",
       "      InternetService_DSL  InternetService_Fiber optic  InternetService_No  \\\n",
       "2460                    0                            0                   1   \n",
       "2964                    1                            0                   0   \n",
       "4843                    0                            0                   1   \n",
       "5576                    1                            0                   0   \n",
       "522                     0                            1                   0   \n",
       "\n",
       "      Contract_Month-to-month  Contract_One year  Contract_Two year  \\\n",
       "2460                        0                  0                  1   \n",
       "2964                        0                  1                  0   \n",
       "4843                        0                  0                  1   \n",
       "5576                        1                  0                  0   \n",
       "522                         1                  0                  0   \n",
       "\n",
       "      PaymentMethod_Bank transfer (automatic)  \\\n",
       "2460                                        0   \n",
       "2964                                        0   \n",
       "4843                                        1   \n",
       "5576                                        0   \n",
       "522                                         1   \n",
       "\n",
       "      PaymentMethod_Credit card (automatic)  PaymentMethod_Electronic check  \\\n",
       "2460                                      0                               0   \n",
       "2964                                      0                               1   \n",
       "4843                                      0                               0   \n",
       "5576                                      0                               0   \n",
       "522                                       0                               0   \n",
       "\n",
       "      PaymentMethod_Mailed check  \n",
       "2460                           1  \n",
       "2964                           0  \n",
       "4843                           0  \n",
       "5576                           1  \n",
       "522                            0  \n",
       "\n",
       "[5 rows x 27 columns]"
      ]
     },
     "execution_count": 39,
     "metadata": {},
     "output_type": "execute_result"
    }
   ],
   "source": [
    "df2.sample(5)"
   ]
  },
  {
   "cell_type": "code",
   "execution_count": 40,
   "metadata": {
    "vscode": {
     "languageId": "javascript"
    }
   },
   "outputs": [],
   "source": [
    "x = df2.drop('Churn', axis=1)\n",
    "y = df2['Churn']"
   ]
  },
  {
   "cell_type": "code",
   "execution_count": 41,
   "metadata": {
    "vscode": {
     "languageId": "javascript"
    }
   },
   "outputs": [
    {
     "data": {
      "text/html": [
       "<div>\n",
       "<style scoped>\n",
       "    .dataframe tbody tr th:only-of-type {\n",
       "        vertical-align: middle;\n",
       "    }\n",
       "\n",
       "    .dataframe tbody tr th {\n",
       "        vertical-align: top;\n",
       "    }\n",
       "\n",
       "    .dataframe thead th {\n",
       "        text-align: right;\n",
       "    }\n",
       "</style>\n",
       "<table border=\"1\" class=\"dataframe\">\n",
       "  <thead>\n",
       "    <tr style=\"text-align: right;\">\n",
       "      <th></th>\n",
       "      <th>gender</th>\n",
       "      <th>SeniorCitizen</th>\n",
       "      <th>Partner</th>\n",
       "      <th>Dependents</th>\n",
       "      <th>tenure</th>\n",
       "      <th>PhoneService</th>\n",
       "      <th>MultipleLines</th>\n",
       "      <th>OnlineSecurity</th>\n",
       "      <th>OnlineBackup</th>\n",
       "      <th>DeviceProtection</th>\n",
       "      <th>...</th>\n",
       "      <th>InternetService_DSL</th>\n",
       "      <th>InternetService_Fiber optic</th>\n",
       "      <th>InternetService_No</th>\n",
       "      <th>Contract_Month-to-month</th>\n",
       "      <th>Contract_One year</th>\n",
       "      <th>Contract_Two year</th>\n",
       "      <th>PaymentMethod_Bank transfer (automatic)</th>\n",
       "      <th>PaymentMethod_Credit card (automatic)</th>\n",
       "      <th>PaymentMethod_Electronic check</th>\n",
       "      <th>PaymentMethod_Mailed check</th>\n",
       "    </tr>\n",
       "  </thead>\n",
       "  <tbody>\n",
       "    <tr>\n",
       "      <th>0</th>\n",
       "      <td>0</td>\n",
       "      <td>0</td>\n",
       "      <td>1</td>\n",
       "      <td>0</td>\n",
       "      <td>0.000000</td>\n",
       "      <td>0</td>\n",
       "      <td>0</td>\n",
       "      <td>0</td>\n",
       "      <td>1</td>\n",
       "      <td>0</td>\n",
       "      <td>...</td>\n",
       "      <td>1</td>\n",
       "      <td>0</td>\n",
       "      <td>0</td>\n",
       "      <td>1</td>\n",
       "      <td>0</td>\n",
       "      <td>0</td>\n",
       "      <td>0</td>\n",
       "      <td>0</td>\n",
       "      <td>1</td>\n",
       "      <td>0</td>\n",
       "    </tr>\n",
       "    <tr>\n",
       "      <th>1</th>\n",
       "      <td>1</td>\n",
       "      <td>0</td>\n",
       "      <td>0</td>\n",
       "      <td>0</td>\n",
       "      <td>0.464789</td>\n",
       "      <td>1</td>\n",
       "      <td>0</td>\n",
       "      <td>1</td>\n",
       "      <td>0</td>\n",
       "      <td>1</td>\n",
       "      <td>...</td>\n",
       "      <td>1</td>\n",
       "      <td>0</td>\n",
       "      <td>0</td>\n",
       "      <td>0</td>\n",
       "      <td>1</td>\n",
       "      <td>0</td>\n",
       "      <td>0</td>\n",
       "      <td>0</td>\n",
       "      <td>0</td>\n",
       "      <td>1</td>\n",
       "    </tr>\n",
       "    <tr>\n",
       "      <th>2</th>\n",
       "      <td>1</td>\n",
       "      <td>0</td>\n",
       "      <td>0</td>\n",
       "      <td>0</td>\n",
       "      <td>0.014085</td>\n",
       "      <td>1</td>\n",
       "      <td>0</td>\n",
       "      <td>1</td>\n",
       "      <td>1</td>\n",
       "      <td>0</td>\n",
       "      <td>...</td>\n",
       "      <td>1</td>\n",
       "      <td>0</td>\n",
       "      <td>0</td>\n",
       "      <td>1</td>\n",
       "      <td>0</td>\n",
       "      <td>0</td>\n",
       "      <td>0</td>\n",
       "      <td>0</td>\n",
       "      <td>0</td>\n",
       "      <td>1</td>\n",
       "    </tr>\n",
       "    <tr>\n",
       "      <th>3</th>\n",
       "      <td>1</td>\n",
       "      <td>0</td>\n",
       "      <td>0</td>\n",
       "      <td>0</td>\n",
       "      <td>0.619718</td>\n",
       "      <td>0</td>\n",
       "      <td>0</td>\n",
       "      <td>1</td>\n",
       "      <td>0</td>\n",
       "      <td>1</td>\n",
       "      <td>...</td>\n",
       "      <td>1</td>\n",
       "      <td>0</td>\n",
       "      <td>0</td>\n",
       "      <td>0</td>\n",
       "      <td>1</td>\n",
       "      <td>0</td>\n",
       "      <td>1</td>\n",
       "      <td>0</td>\n",
       "      <td>0</td>\n",
       "      <td>0</td>\n",
       "    </tr>\n",
       "    <tr>\n",
       "      <th>4</th>\n",
       "      <td>0</td>\n",
       "      <td>0</td>\n",
       "      <td>0</td>\n",
       "      <td>0</td>\n",
       "      <td>0.014085</td>\n",
       "      <td>1</td>\n",
       "      <td>0</td>\n",
       "      <td>0</td>\n",
       "      <td>0</td>\n",
       "      <td>0</td>\n",
       "      <td>...</td>\n",
       "      <td>0</td>\n",
       "      <td>1</td>\n",
       "      <td>0</td>\n",
       "      <td>1</td>\n",
       "      <td>0</td>\n",
       "      <td>0</td>\n",
       "      <td>0</td>\n",
       "      <td>0</td>\n",
       "      <td>1</td>\n",
       "      <td>0</td>\n",
       "    </tr>\n",
       "  </tbody>\n",
       "</table>\n",
       "<p>5 rows × 26 columns</p>\n",
       "</div>"
      ],
      "text/plain": [
       "   gender  SeniorCitizen  Partner  Dependents    tenure  PhoneService  \\\n",
       "0       0              0        1           0  0.000000             0   \n",
       "1       1              0        0           0  0.464789             1   \n",
       "2       1              0        0           0  0.014085             1   \n",
       "3       1              0        0           0  0.619718             0   \n",
       "4       0              0        0           0  0.014085             1   \n",
       "\n",
       "   MultipleLines  OnlineSecurity  OnlineBackup  DeviceProtection  ...  \\\n",
       "0              0               0             1                 0  ...   \n",
       "1              0               1             0                 1  ...   \n",
       "2              0               1             1                 0  ...   \n",
       "3              0               1             0                 1  ...   \n",
       "4              0               0             0                 0  ...   \n",
       "\n",
       "   InternetService_DSL  InternetService_Fiber optic  InternetService_No  \\\n",
       "0                    1                            0                   0   \n",
       "1                    1                            0                   0   \n",
       "2                    1                            0                   0   \n",
       "3                    1                            0                   0   \n",
       "4                    0                            1                   0   \n",
       "\n",
       "   Contract_Month-to-month  Contract_One year  Contract_Two year  \\\n",
       "0                        1                  0                  0   \n",
       "1                        0                  1                  0   \n",
       "2                        1                  0                  0   \n",
       "3                        0                  1                  0   \n",
       "4                        1                  0                  0   \n",
       "\n",
       "   PaymentMethod_Bank transfer (automatic)  \\\n",
       "0                                        0   \n",
       "1                                        0   \n",
       "2                                        0   \n",
       "3                                        1   \n",
       "4                                        0   \n",
       "\n",
       "   PaymentMethod_Credit card (automatic)  PaymentMethod_Electronic check  \\\n",
       "0                                      0                               1   \n",
       "1                                      0                               0   \n",
       "2                                      0                               0   \n",
       "3                                      0                               0   \n",
       "4                                      0                               1   \n",
       "\n",
       "   PaymentMethod_Mailed check  \n",
       "0                           0  \n",
       "1                           1  \n",
       "2                           1  \n",
       "3                           0  \n",
       "4                           0  \n",
       "\n",
       "[5 rows x 26 columns]"
      ]
     },
     "execution_count": 41,
     "metadata": {},
     "output_type": "execute_result"
    }
   ],
   "source": [
    "x[:5]"
   ]
  },
  {
   "cell_type": "code",
   "execution_count": 42,
   "metadata": {
    "vscode": {
     "languageId": "javascript"
    }
   },
   "outputs": [
    {
     "data": {
      "text/plain": [
       "0    0\n",
       "1    0\n",
       "2    1\n",
       "3    0\n",
       "4    1\n",
       "Name: Churn, dtype: int64"
      ]
     },
     "execution_count": 42,
     "metadata": {},
     "output_type": "execute_result"
    }
   ],
   "source": [
    "y[:5]"
   ]
  },
  {
   "cell_type": "code",
   "execution_count": 43,
   "metadata": {
    "vscode": {
     "languageId": "javascript"
    }
   },
   "outputs": [],
   "source": [
    "from sklearn.model_selection import train_test_split\n",
    "\n",
    "x_train, x_test, y_train, y_test = train_test_split(x, y, test_size=0.2, random_state=42)"
   ]
  },
  {
   "cell_type": "code",
   "execution_count": 44,
   "metadata": {
    "vscode": {
     "languageId": "javascript"
    }
   },
   "outputs": [
    {
     "data": {
      "text/plain": [
       "(5625, 26)"
      ]
     },
     "execution_count": 44,
     "metadata": {},
     "output_type": "execute_result"
    }
   ],
   "source": [
    "x_train.shape"
   ]
  },
  {
   "cell_type": "code",
   "execution_count": 45,
   "metadata": {
    "vscode": {
     "languageId": "javascript"
    }
   },
   "outputs": [
    {
     "data": {
      "text/plain": [
       "(1407, 26)"
      ]
     },
     "execution_count": 45,
     "metadata": {},
     "output_type": "execute_result"
    }
   ],
   "source": [
    "x_test.shape"
   ]
  },
  {
   "cell_type": "code",
   "execution_count": 46,
   "metadata": {
    "vscode": {
     "languageId": "javascript"
    }
   },
   "outputs": [],
   "source": [
    "import tensorflow as tf\n",
    "from tensorflow import keras\n",
    "\n",
    "model = keras.Sequential([\n",
    "    keras.layers.Dense(20, input_dim=26, activation='relu'),\n",
    "    keras.layers.Dropout(0.5),\n",
    "    keras.layers.Dense(1, activation='sigmoid')\n",
    "])\n",
    "\n",
    "model.compile(\n",
    "    optimizer='adam',\n",
    "    loss='binary_crossentropy',\n",
    "    metrics=['acc'])"
   ]
  },
  {
   "cell_type": "code",
   "execution_count": 47,
   "metadata": {
    "vscode": {
     "languageId": "javascript"
    }
   },
   "outputs": [
    {
     "name": "stdout",
     "output_type": "stream",
     "text": [
      "Epoch 1/100\n",
      "176/176 [==============================] - 0s 1ms/step - loss: 0.5441 - acc: 0.7241 - val_loss: 0.4712 - val_acc: 0.7804\n",
      "Epoch 2/100\n",
      "176/176 [==============================] - 0s 783us/step - loss: 0.4662 - acc: 0.7717 - val_loss: 0.4498 - val_acc: 0.7804\n",
      "Epoch 3/100\n",
      "176/176 [==============================] - 0s 786us/step - loss: 0.4505 - acc: 0.7831 - val_loss: 0.4450 - val_acc: 0.7832\n",
      "Epoch 4/100\n",
      "176/176 [==============================] - 0s 763us/step - loss: 0.4402 - acc: 0.7931 - val_loss: 0.4429 - val_acc: 0.7832\n",
      "Epoch 5/100\n",
      "176/176 [==============================] - 0s 756us/step - loss: 0.4400 - acc: 0.7870 - val_loss: 0.4404 - val_acc: 0.7839\n",
      "Epoch 6/100\n",
      "176/176 [==============================] - 0s 813us/step - loss: 0.4419 - acc: 0.7876 - val_loss: 0.4396 - val_acc: 0.7846\n",
      "Epoch 7/100\n",
      "176/176 [==============================] - 0s 815us/step - loss: 0.4356 - acc: 0.7941 - val_loss: 0.4384 - val_acc: 0.7854\n",
      "Epoch 8/100\n",
      "176/176 [==============================] - 0s 812us/step - loss: 0.4308 - acc: 0.7975 - val_loss: 0.4381 - val_acc: 0.7882\n",
      "Epoch 9/100\n",
      "176/176 [==============================] - 0s 837us/step - loss: 0.4289 - acc: 0.7998 - val_loss: 0.4371 - val_acc: 0.7889\n",
      "Epoch 10/100\n",
      "176/176 [==============================] - 0s 821us/step - loss: 0.4352 - acc: 0.7984 - val_loss: 0.4369 - val_acc: 0.7846\n",
      "Epoch 11/100\n",
      "176/176 [==============================] - 0s 905us/step - loss: 0.4287 - acc: 0.8021 - val_loss: 0.4364 - val_acc: 0.7882\n",
      "Epoch 12/100\n",
      "176/176 [==============================] - 0s 796us/step - loss: 0.4293 - acc: 0.7972 - val_loss: 0.4365 - val_acc: 0.7875\n",
      "Epoch 13/100\n",
      "176/176 [==============================] - 0s 828us/step - loss: 0.4275 - acc: 0.7988 - val_loss: 0.4364 - val_acc: 0.7839\n",
      "Epoch 14/100\n",
      "176/176 [==============================] - 0s 793us/step - loss: 0.4288 - acc: 0.7950 - val_loss: 0.4354 - val_acc: 0.7825\n",
      "Epoch 15/100\n",
      "176/176 [==============================] - 0s 796us/step - loss: 0.4308 - acc: 0.7986 - val_loss: 0.4356 - val_acc: 0.7818\n",
      "Epoch 16/100\n",
      "176/176 [==============================] - 0s 793us/step - loss: 0.4295 - acc: 0.8018 - val_loss: 0.4353 - val_acc: 0.7861\n",
      "Epoch 17/100\n",
      "176/176 [==============================] - 0s 845us/step - loss: 0.4288 - acc: 0.7988 - val_loss: 0.4351 - val_acc: 0.7811\n",
      "Epoch 18/100\n",
      "176/176 [==============================] - 0s 801us/step - loss: 0.4282 - acc: 0.8028 - val_loss: 0.4350 - val_acc: 0.7825\n",
      "Epoch 19/100\n",
      "176/176 [==============================] - 0s 810us/step - loss: 0.4273 - acc: 0.8004 - val_loss: 0.4354 - val_acc: 0.7818\n",
      "Epoch 20/100\n",
      "176/176 [==============================] - 0s 779us/step - loss: 0.4235 - acc: 0.8009 - val_loss: 0.4343 - val_acc: 0.7811\n",
      "Epoch 21/100\n",
      "176/176 [==============================] - 0s 723us/step - loss: 0.4220 - acc: 0.8007 - val_loss: 0.4344 - val_acc: 0.7804\n",
      "Epoch 22/100\n",
      "176/176 [==============================] - 0s 760us/step - loss: 0.4203 - acc: 0.8085 - val_loss: 0.4346 - val_acc: 0.7846\n",
      "Epoch 23/100\n",
      "176/176 [==============================] - 0s 743us/step - loss: 0.4272 - acc: 0.7947 - val_loss: 0.4338 - val_acc: 0.7825\n",
      "Epoch 24/100\n",
      "176/176 [==============================] - 0s 886us/step - loss: 0.4227 - acc: 0.8020 - val_loss: 0.4342 - val_acc: 0.7825\n",
      "Epoch 25/100\n",
      "176/176 [==============================] - 0s 786us/step - loss: 0.4260 - acc: 0.7995 - val_loss: 0.4339 - val_acc: 0.7811\n",
      "Epoch 26/100\n",
      "176/176 [==============================] - 0s 812us/step - loss: 0.4195 - acc: 0.8014 - val_loss: 0.4347 - val_acc: 0.7839\n",
      "Epoch 27/100\n",
      "176/176 [==============================] - 0s 842us/step - loss: 0.4222 - acc: 0.8030 - val_loss: 0.4339 - val_acc: 0.7818\n",
      "Epoch 28/100\n",
      "176/176 [==============================] - 0s 810us/step - loss: 0.4224 - acc: 0.8007 - val_loss: 0.4343 - val_acc: 0.7889\n",
      "Epoch 29/100\n",
      "176/176 [==============================] - 0s 807us/step - loss: 0.4220 - acc: 0.8039 - val_loss: 0.4338 - val_acc: 0.7854\n",
      "Epoch 30/100\n",
      "176/176 [==============================] - 0s 790us/step - loss: 0.4204 - acc: 0.8048 - val_loss: 0.4338 - val_acc: 0.7861\n",
      "Epoch 31/100\n",
      "176/176 [==============================] - 0s 774us/step - loss: 0.4229 - acc: 0.8043 - val_loss: 0.4333 - val_acc: 0.7832\n",
      "Epoch 32/100\n",
      "176/176 [==============================] - 0s 799us/step - loss: 0.4202 - acc: 0.8021 - val_loss: 0.4332 - val_acc: 0.7839\n",
      "Epoch 33/100\n",
      "176/176 [==============================] - 0s 825us/step - loss: 0.4204 - acc: 0.8055 - val_loss: 0.4331 - val_acc: 0.7875\n",
      "Epoch 34/100\n",
      "176/176 [==============================] - 0s 793us/step - loss: 0.4184 - acc: 0.8059 - val_loss: 0.4339 - val_acc: 0.7861\n",
      "Epoch 35/100\n",
      "176/176 [==============================] - 0s 842us/step - loss: 0.4182 - acc: 0.8027 - val_loss: 0.4332 - val_acc: 0.7825\n",
      "Epoch 36/100\n",
      "176/176 [==============================] - 0s 841us/step - loss: 0.4172 - acc: 0.8087 - val_loss: 0.4336 - val_acc: 0.7854\n",
      "Epoch 37/100\n",
      "176/176 [==============================] - 0s 809us/step - loss: 0.4196 - acc: 0.8060 - val_loss: 0.4339 - val_acc: 0.7839\n",
      "Epoch 38/100\n",
      "176/176 [==============================] - 0s 763us/step - loss: 0.4201 - acc: 0.8037 - val_loss: 0.4341 - val_acc: 0.7846\n",
      "Epoch 39/100\n",
      "176/176 [==============================] - 0s 883us/step - loss: 0.4181 - acc: 0.8032 - val_loss: 0.4345 - val_acc: 0.7854\n",
      "Epoch 40/100\n",
      "176/176 [==============================] - 0s 849us/step - loss: 0.4141 - acc: 0.8096 - val_loss: 0.4340 - val_acc: 0.7846\n",
      "Epoch 41/100\n",
      "176/176 [==============================] - 0s 800us/step - loss: 0.4155 - acc: 0.8052 - val_loss: 0.4343 - val_acc: 0.7875\n",
      "Epoch 42/100\n",
      "176/176 [==============================] - 0s 809us/step - loss: 0.4171 - acc: 0.8007 - val_loss: 0.4335 - val_acc: 0.7854\n",
      "Epoch 43/100\n",
      "176/176 [==============================] - 0s 771us/step - loss: 0.4137 - acc: 0.8032 - val_loss: 0.4333 - val_acc: 0.7868\n",
      "Epoch 44/100\n",
      "176/176 [==============================] - 0s 805us/step - loss: 0.4186 - acc: 0.8053 - val_loss: 0.4329 - val_acc: 0.7882\n",
      "Epoch 45/100\n",
      "176/176 [==============================] - 0s 766us/step - loss: 0.4178 - acc: 0.8005 - val_loss: 0.4333 - val_acc: 0.7846\n",
      "Epoch 46/100\n",
      "176/176 [==============================] - 0s 786us/step - loss: 0.4183 - acc: 0.8025 - val_loss: 0.4347 - val_acc: 0.7875\n",
      "Epoch 47/100\n",
      "176/176 [==============================] - 0s 790us/step - loss: 0.4195 - acc: 0.8021 - val_loss: 0.4335 - val_acc: 0.7846\n",
      "Epoch 48/100\n",
      "176/176 [==============================] - 0s 780us/step - loss: 0.4161 - acc: 0.8057 - val_loss: 0.4338 - val_acc: 0.7846\n",
      "Epoch 49/100\n",
      "176/176 [==============================] - 0s 807us/step - loss: 0.4195 - acc: 0.8014 - val_loss: 0.4349 - val_acc: 0.7839\n",
      "Epoch 50/100\n",
      "176/176 [==============================] - 0s 780us/step - loss: 0.4148 - acc: 0.8050 - val_loss: 0.4335 - val_acc: 0.7839\n",
      "Epoch 51/100\n",
      "176/176 [==============================] - 0s 834us/step - loss: 0.4203 - acc: 0.8039 - val_loss: 0.4332 - val_acc: 0.7875\n",
      "Epoch 52/100\n",
      "176/176 [==============================] - 0s 834us/step - loss: 0.4193 - acc: 0.8034 - val_loss: 0.4328 - val_acc: 0.7875\n",
      "Epoch 53/100\n",
      "176/176 [==============================] - 0s 815us/step - loss: 0.4172 - acc: 0.8027 - val_loss: 0.4346 - val_acc: 0.7854\n",
      "Epoch 54/100\n",
      "176/176 [==============================] - 0s 860us/step - loss: 0.4174 - acc: 0.8004 - val_loss: 0.4337 - val_acc: 0.7868\n",
      "Epoch 55/100\n",
      "176/176 [==============================] - 0s 795us/step - loss: 0.4161 - acc: 0.8007 - val_loss: 0.4336 - val_acc: 0.7875\n",
      "Epoch 56/100\n",
      "176/176 [==============================] - 0s 786us/step - loss: 0.4195 - acc: 0.8016 - val_loss: 0.4342 - val_acc: 0.7811\n",
      "Epoch 57/100\n",
      "176/176 [==============================] - 0s 800us/step - loss: 0.4162 - acc: 0.8048 - val_loss: 0.4338 - val_acc: 0.7832\n",
      "Epoch 58/100\n",
      "176/176 [==============================] - 0s 788us/step - loss: 0.4161 - acc: 0.8082 - val_loss: 0.4343 - val_acc: 0.7861\n",
      "Epoch 59/100\n",
      "176/176 [==============================] - 0s 790us/step - loss: 0.4166 - acc: 0.8043 - val_loss: 0.4340 - val_acc: 0.7854\n",
      "Epoch 60/100\n",
      "176/176 [==============================] - 0s 794us/step - loss: 0.4165 - acc: 0.8085 - val_loss: 0.4340 - val_acc: 0.7839\n",
      "Epoch 61/100\n",
      "176/176 [==============================] - 0s 817us/step - loss: 0.4156 - acc: 0.8053 - val_loss: 0.4348 - val_acc: 0.7818\n",
      "Epoch 62/100\n",
      "176/176 [==============================] - 0s 777us/step - loss: 0.4158 - acc: 0.8027 - val_loss: 0.4350 - val_acc: 0.7825\n",
      "Epoch 63/100\n",
      "176/176 [==============================] - 0s 788us/step - loss: 0.4175 - acc: 0.8052 - val_loss: 0.4355 - val_acc: 0.7825\n",
      "Epoch 64/100\n",
      "176/176 [==============================] - 0s 772us/step - loss: 0.4115 - acc: 0.8073 - val_loss: 0.4364 - val_acc: 0.7882\n",
      "Epoch 65/100\n",
      "176/176 [==============================] - 0s 814us/step - loss: 0.4192 - acc: 0.7998 - val_loss: 0.4355 - val_acc: 0.7839\n",
      "Epoch 66/100\n",
      "176/176 [==============================] - 0s 848us/step - loss: 0.4176 - acc: 0.8037 - val_loss: 0.4354 - val_acc: 0.7832\n",
      "Epoch 67/100\n",
      "176/176 [==============================] - 0s 859us/step - loss: 0.4171 - acc: 0.7995 - val_loss: 0.4355 - val_acc: 0.7861\n",
      "Epoch 68/100\n",
      "176/176 [==============================] - 0s 850us/step - loss: 0.4140 - acc: 0.8052 - val_loss: 0.4355 - val_acc: 0.7825\n",
      "Epoch 69/100\n",
      "176/176 [==============================] - 0s 834us/step - loss: 0.4172 - acc: 0.8064 - val_loss: 0.4355 - val_acc: 0.7846\n",
      "Epoch 70/100\n",
      "176/176 [==============================] - 0s 755us/step - loss: 0.4208 - acc: 0.8018 - val_loss: 0.4349 - val_acc: 0.7846\n",
      "Epoch 71/100\n",
      "176/176 [==============================] - 0s 808us/step - loss: 0.4166 - acc: 0.8034 - val_loss: 0.4350 - val_acc: 0.7818\n",
      "Epoch 72/100\n",
      "176/176 [==============================] - 0s 775us/step - loss: 0.4141 - acc: 0.8041 - val_loss: 0.4350 - val_acc: 0.7825\n",
      "Epoch 73/100\n",
      "176/176 [==============================] - 0s 850us/step - loss: 0.4166 - acc: 0.8046 - val_loss: 0.4351 - val_acc: 0.7797\n",
      "Epoch 74/100\n",
      "176/176 [==============================] - 0s 735us/step - loss: 0.4134 - acc: 0.8068 - val_loss: 0.4354 - val_acc: 0.7875\n",
      "Epoch 75/100\n",
      "176/176 [==============================] - 0s 848us/step - loss: 0.4138 - acc: 0.8075 - val_loss: 0.4362 - val_acc: 0.7846\n",
      "Epoch 76/100\n",
      "176/176 [==============================] - 0s 773us/step - loss: 0.4147 - acc: 0.8028 - val_loss: 0.4348 - val_acc: 0.7804\n",
      "Epoch 77/100\n",
      "176/176 [==============================] - 0s 808us/step - loss: 0.4138 - acc: 0.8025 - val_loss: 0.4358 - val_acc: 0.7854\n",
      "Epoch 78/100\n",
      "176/176 [==============================] - 0s 871us/step - loss: 0.4165 - acc: 0.8043 - val_loss: 0.4352 - val_acc: 0.7882\n",
      "Epoch 79/100\n",
      "176/176 [==============================] - 0s 829us/step - loss: 0.4148 - acc: 0.8028 - val_loss: 0.4352 - val_acc: 0.7832\n",
      "Epoch 80/100\n",
      "176/176 [==============================] - 0s 786us/step - loss: 0.4182 - acc: 0.8050 - val_loss: 0.4348 - val_acc: 0.7882\n",
      "Epoch 81/100\n",
      "176/176 [==============================] - 0s 763us/step - loss: 0.4146 - acc: 0.8060 - val_loss: 0.4348 - val_acc: 0.7868\n",
      "Epoch 82/100\n",
      "176/176 [==============================] - 0s 778us/step - loss: 0.4128 - acc: 0.8082 - val_loss: 0.4356 - val_acc: 0.7839\n",
      "Epoch 83/100\n",
      "176/176 [==============================] - 0s 771us/step - loss: 0.4151 - acc: 0.8039 - val_loss: 0.4349 - val_acc: 0.7839\n",
      "Epoch 84/100\n",
      "176/176 [==============================] - 0s 860us/step - loss: 0.4125 - acc: 0.8069 - val_loss: 0.4364 - val_acc: 0.7839\n",
      "Epoch 85/100\n",
      "176/176 [==============================] - 0s 784us/step - loss: 0.4165 - acc: 0.8039 - val_loss: 0.4359 - val_acc: 0.7839\n",
      "Epoch 86/100\n",
      "176/176 [==============================] - 0s 744us/step - loss: 0.4156 - acc: 0.8096 - val_loss: 0.4356 - val_acc: 0.7846\n",
      "Epoch 87/100\n",
      "176/176 [==============================] - 0s 849us/step - loss: 0.4111 - acc: 0.8084 - val_loss: 0.4361 - val_acc: 0.7790\n",
      "Epoch 88/100\n",
      "176/176 [==============================] - 0s 780us/step - loss: 0.4120 - acc: 0.8034 - val_loss: 0.4361 - val_acc: 0.7811\n",
      "Epoch 89/100\n",
      "176/176 [==============================] - 0s 814us/step - loss: 0.4124 - acc: 0.8046 - val_loss: 0.4368 - val_acc: 0.7868\n",
      "Epoch 90/100\n",
      "176/176 [==============================] - 0s 773us/step - loss: 0.4150 - acc: 0.8057 - val_loss: 0.4371 - val_acc: 0.7868\n",
      "Epoch 91/100\n",
      "176/176 [==============================] - 0s 821us/step - loss: 0.4145 - acc: 0.8032 - val_loss: 0.4367 - val_acc: 0.7790\n",
      "Epoch 92/100\n",
      "176/176 [==============================] - 0s 790us/step - loss: 0.4143 - acc: 0.8057 - val_loss: 0.4363 - val_acc: 0.7839\n",
      "Epoch 93/100\n",
      "176/176 [==============================] - 0s 818us/step - loss: 0.4179 - acc: 0.8048 - val_loss: 0.4366 - val_acc: 0.7882\n",
      "Epoch 94/100\n",
      "176/176 [==============================] - 0s 775us/step - loss: 0.4144 - acc: 0.8076 - val_loss: 0.4368 - val_acc: 0.7861\n",
      "Epoch 95/100\n",
      "176/176 [==============================] - 0s 764us/step - loss: 0.4127 - acc: 0.8028 - val_loss: 0.4375 - val_acc: 0.7868\n",
      "Epoch 96/100\n",
      "176/176 [==============================] - 0s 766us/step - loss: 0.4122 - acc: 0.8044 - val_loss: 0.4367 - val_acc: 0.7825\n",
      "Epoch 97/100\n",
      "176/176 [==============================] - 0s 774us/step - loss: 0.4123 - acc: 0.8016 - val_loss: 0.4362 - val_acc: 0.7903\n",
      "Epoch 98/100\n",
      "176/176 [==============================] - 0s 814us/step - loss: 0.4144 - acc: 0.8030 - val_loss: 0.4364 - val_acc: 0.7825\n",
      "Epoch 99/100\n",
      "176/176 [==============================] - 0s 884us/step - loss: 0.4126 - acc: 0.8096 - val_loss: 0.4371 - val_acc: 0.7861\n",
      "Epoch 100/100\n",
      "176/176 [==============================] - 0s 784us/step - loss: 0.4118 - acc: 0.8103 - val_loss: 0.4364 - val_acc: 0.7832\n"
     ]
    }
   ],
   "source": [
    "history = model.fit(x_train, y_train, epochs=100, validation_data=(x_test, y_test))"
   ]
  },
  {
   "cell_type": "code",
   "execution_count": 48,
   "metadata": {
    "vscode": {
     "languageId": "javascript"
    }
   },
   "outputs": [
    {
     "name": "stdout",
     "output_type": "stream",
     "text": [
      "Train accuary: 0.81\n",
      "Validation accuary: 0.78\n"
     ]
    }
   ],
   "source": [
    "print(f\"Train accuary: {history.history['acc'][-1]:.2f}\")\n",
    "print(f\"Validation accuary: {history.history['val_acc'][-1]:.2f}\")"
   ]
  },
  {
   "cell_type": "markdown",
   "metadata": {},
   "source": [
    "### **Model Evaluation and Interpretation**"
   ]
  },
  {
   "cell_type": "code",
   "execution_count": 49,
   "metadata": {
    "vscode": {
     "languageId": "javascript"
    }
   },
   "outputs": [
    {
     "data": {
      "image/png": "[encoded data removed]",
      "text/plain": [
       "<Figure size 1080x432 with 2 Axes>"
      ]
     },
     "metadata": {
      "needs_background": "light"
     },
     "output_type": "display_data"
    }
   ],
   "source": [
    "tr_acc = history.history['acc']\n",
    "val_acc = history.history['val_acc']\n",
    "\n",
    "tr_loss = history.history['loss']\n",
    "val_loss = history.history['val_loss']\n",
    "\n",
    "\n",
    "plt.figure(figsize=(15,6))\n",
    "\n",
    "plt.subplot(1,2,1)\n",
    "plt.plot(tr_acc, color='r', linestyle='-', label='Training Accuracy')\n",
    "plt.plot(val_acc, color='b', linestyle='-', label='Validation Accuracy')\n",
    "plt.title('Training Accuracy vs Validation Accuracy')\n",
    "plt.xlabel('Epoch')\n",
    "plt.ylabel('Accuracy')\n",
    "plt.legend()\n",
    "plt.grid()\n",
    "\n",
    "\n",
    "plt.subplot(1,2,2)\n",
    "plt.plot(tr_loss, color='r', linestyle='-', label='Training Loss')\n",
    "plt.plot(val_loss, color='b', linestyle='-', label='Validation Loss')\n",
    "plt.title('Training Loss vs Validation Loss')\n",
    "plt.xlabel('Epoch')\n",
    "plt.ylabel('Loss')\n",
    "plt.legend()\n",
    "plt.grid()\n",
    "\n",
    "\n",
    "plt.show()"
   ]
  },
  {
   "cell_type": "code",
   "execution_count": 50,
   "metadata": {
    "vscode": {
     "languageId": "javascript"
    }
   },
   "outputs": [
    {
     "data": {
      "text/plain": [
       "2481    0\n",
       "6784    0\n",
       "6125    1\n",
       "3052    0\n",
       "4099    0\n",
       "Name: Churn, dtype: int64"
      ]
     },
     "execution_count": 50,
     "metadata": {},
     "output_type": "execute_result"
    }
   ],
   "source": [
    "y_test[:5]"
   ]
  },
  {
   "cell_type": "code",
   "execution_count": 51,
   "metadata": {
    "vscode": {
     "languageId": "javascript"
    }
   },
   "outputs": [],
   "source": [
    "y_pred = model.predict(x_test)"
   ]
  },
  {
   "cell_type": "code",
   "execution_count": 52,
   "metadata": {
    "vscode": {
     "languageId": "javascript"
    }
   },
   "outputs": [
    {
     "data": {
      "text/plain": [
       "array([[0.00441981],\n",
       "       [0.11394019],\n",
       "       [0.6294584 ],\n",
       "       [0.12078425],\n",
       "       [0.29162702]], dtype=float32)"
      ]
     },
     "execution_count": 52,
     "metadata": {},
     "output_type": "execute_result"
    }
   ],
   "source": [
    "y_pred[:5]"
   ]
  },
  {
   "cell_type": "code",
   "execution_count": 67,
   "metadata": {
    "vscode": {
     "languageId": "javascript"
    }
   },
   "outputs": [
    {
     "data": {
      "text/plain": [
       "Text(69.0, 0.5, 'Actual')"
      ]
     },
     "execution_count": 67,
     "metadata": {},
     "output_type": "execute_result"
    },
    {
     "data": {
      "image/png": "[encoded data removed]",
      "text/plain": [
       "<Figure size 720x504 with 2 Axes>"
      ]
     },
     "metadata": {
      "needs_background": "light"
     },
     "output_type": "display_data"
    }
   ],
   "source": [
    "y_pred_binary = (y_pred > 0.5).astype(int)\n",
    "\n",
    "cm = tf.math.confusion_matrix(labels=y_test, predictions=y_pred_binary)\n",
    "\n",
    "plt.figure(figsize=(10,7))\n",
    "sns.heatmap(cm, annot=True, fmt='d')\n",
    "plt.xlabel('Predicted')\n",
    "plt.ylabel('Actual')"
   ]
  },
  {
   "cell_type": "code",
   "execution_count": 55,
   "metadata": {
    "vscode": {
     "languageId": "javascript"
    }
   },
   "outputs": [
    {
     "name": "stdout",
     "output_type": "stream",
     "text": [
      "Accuracy by heatmap:  0.78\n"
     ]
    }
   ],
   "source": [
    "print(\"Accuracy by heatmap: \", round((947+154)/(947+86+220+154), 2))"
   ]
  },
  {
   "cell_type": "code",
   "execution_count": 66,
   "metadata": {
    "vscode": {
     "languageId": "javascript"
    }
   },
   "outputs": [
    {
     "name": "stdout",
     "output_type": "stream",
     "text": [
      "Not churn: 81.15%\n"
     ]
    }
   ],
   "source": [
    "print(f\"Not churn: {(947/(947+220))*100:.2f}%\")"
   ]
  },
  {
   "cell_type": "code",
   "execution_count": 65,
   "metadata": {
    "vscode": {
     "languageId": "javascript"
    }
   },
   "outputs": [
    {
     "name": "stdout",
     "output_type": "stream",
     "text": [
      "Churned: 64.17%\n"
     ]
    }
   ],
   "source": [
    "print(f\"Churned: {(154/(154+86))*100:.2f}%\")"
   ]
  },
  {
   "cell_type": "markdown",
   "metadata": {},
   "source": [
    "### **Business Recommendations**\n",
    "\n",
    "1. **Improve Customer Service**:\n",
    "\n",
    "- Focus on providing excellent customer service, especially for customers with month-to-month contracts, as they are more likely to churn.\n",
    "- Implement a customer feedback system to identify and address issues promptly.\n",
    "\n",
    "2. **Offer Incentives**:\n",
    "\n",
    "- Provide incentives for customers to switch to longer-term contracts (one year or two years) to increase customer retention.\n",
    "- Offer discounts or promotions for customers who have been with the company for a longer tenure. \n",
    "\n",
    "3. **Targeted Marketing**:\n",
    "\n",
    "- Use targeted marketing campaigns to reach out to customers who are more likely to churn, such as those with higher monthly charges or those using electronic checks as a payment method.\n",
    "- Personalize offers and communication based on customer data to increase engagement.\n",
    "\n",
    "4. **Enhance Product Offerings**:\n",
    "\n",
    "- Improve the quality and variety of services offered, especially internet services, as customers with no internet service are less likely to churn.\n",
    "- Introduce new features or bundles that add value to the existing services.\n",
    "\n",
    "5. **Customer Education**:\n",
    "\n",
    "- Educate customers on how to make the most of your services, which can increase satisfaction and reduce churn.\n",
    "- Provide easy-to-access resources and support for customers to resolve any issues they may face."
   ]
  }
 ],
 "metadata": {
  "kernelspec": {
   "display_name": "tensorflow",
   "language": "python",
   "name": "python3"
  },
  "language_info": {
   "codemirror_mode": {
    "name": "ipython",
    "version": 3
   },
   "file_extension": ".py",
   "mimetype": "text/x-python",
   "name": "python",
   "nbconvert_exporter": "python",
   "pygments_lexer": "ipython3",
   "version": "3.6.13"
  }
 },
 "nbformat": 4,
 "nbformat_minor": 2
}
