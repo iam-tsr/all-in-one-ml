{
 "cells": [
  {
   "cell_type": "markdown",
   "metadata": {},
   "source": [
    "## $$ Bank Customer Churn Modeling $$\n",
    "\n",
    "```by TSR```"
   ]
  },
  {
   "cell_type": "markdown",
   "metadata": {},
   "source": [
    "### **Data Import**"
   ]
  },
  {
   "cell_type": "code",
   "execution_count": 1,
   "metadata": {},
   "outputs": [],
   "source": [
    "#!/bin/bash\n",
    "# !kaggle datasets download barelydedicated/bank-customer-churn-modeling"
   ]
  },
  {
   "cell_type": "code",
   "execution_count": 2,
   "metadata": {},
   "outputs": [],
   "source": [
    "# !unzip bank-customer-churn-modeling.zip"
   ]
  },
  {
   "cell_type": "markdown",
   "metadata": {},
   "source": [
    "### **Data Cleaning**"
   ]
  },
  {
   "cell_type": "code",
   "execution_count": 3,
   "metadata": {},
   "outputs": [],
   "source": [
    "import pandas as pd\n",
    "import matplotlib.pyplot as plt\n",
    "import numpy as np"
   ]
  },
  {
   "cell_type": "code",
   "execution_count": 4,
   "metadata": {},
   "outputs": [
    {
     "data": {
      "text/html": [
       "<div>\n",
       "<style scoped>\n",
       "    .dataframe tbody tr th:only-of-type {\n",
       "        vertical-align: middle;\n",
       "    }\n",
       "\n",
       "    .dataframe tbody tr th {\n",
       "        vertical-align: top;\n",
       "    }\n",
       "\n",
       "    .dataframe thead th {\n",
       "        text-align: right;\n",
       "    }\n",
       "</style>\n",
       "<table border=\"1\" class=\"dataframe\">\n",
       "  <thead>\n",
       "    <tr style=\"text-align: right;\">\n",
       "      <th></th>\n",
       "      <th>RowNumber</th>\n",
       "      <th>CustomerId</th>\n",
       "      <th>Surname</th>\n",
       "      <th>CreditScore</th>\n",
       "      <th>Geography</th>\n",
       "      <th>Gender</th>\n",
       "      <th>Age</th>\n",
       "      <th>Tenure</th>\n",
       "      <th>Balance</th>\n",
       "      <th>NumOfProducts</th>\n",
       "      <th>HasCrCard</th>\n",
       "      <th>IsActiveMember</th>\n",
       "      <th>EstimatedSalary</th>\n",
       "      <th>Exited</th>\n",
       "    </tr>\n",
       "  </thead>\n",
       "  <tbody>\n",
       "    <tr>\n",
       "      <th>0</th>\n",
       "      <td>1</td>\n",
       "      <td>15634602</td>\n",
       "      <td>Hargrave</td>\n",
       "      <td>619</td>\n",
       "      <td>France</td>\n",
       "      <td>Female</td>\n",
       "      <td>42</td>\n",
       "      <td>2</td>\n",
       "      <td>0.00</td>\n",
       "      <td>1</td>\n",
       "      <td>1</td>\n",
       "      <td>1</td>\n",
       "      <td>101348.88</td>\n",
       "      <td>1</td>\n",
       "    </tr>\n",
       "    <tr>\n",
       "      <th>1</th>\n",
       "      <td>2</td>\n",
       "      <td>15647311</td>\n",
       "      <td>Hill</td>\n",
       "      <td>608</td>\n",
       "      <td>Spain</td>\n",
       "      <td>Female</td>\n",
       "      <td>41</td>\n",
       "      <td>1</td>\n",
       "      <td>83807.86</td>\n",
       "      <td>1</td>\n",
       "      <td>0</td>\n",
       "      <td>1</td>\n",
       "      <td>112542.58</td>\n",
       "      <td>0</td>\n",
       "    </tr>\n",
       "    <tr>\n",
       "      <th>2</th>\n",
       "      <td>3</td>\n",
       "      <td>15619304</td>\n",
       "      <td>Onio</td>\n",
       "      <td>502</td>\n",
       "      <td>France</td>\n",
       "      <td>Female</td>\n",
       "      <td>42</td>\n",
       "      <td>8</td>\n",
       "      <td>159660.80</td>\n",
       "      <td>3</td>\n",
       "      <td>1</td>\n",
       "      <td>0</td>\n",
       "      <td>113931.57</td>\n",
       "      <td>1</td>\n",
       "    </tr>\n",
       "    <tr>\n",
       "      <th>3</th>\n",
       "      <td>4</td>\n",
       "      <td>15701354</td>\n",
       "      <td>Boni</td>\n",
       "      <td>699</td>\n",
       "      <td>France</td>\n",
       "      <td>Female</td>\n",
       "      <td>39</td>\n",
       "      <td>1</td>\n",
       "      <td>0.00</td>\n",
       "      <td>2</td>\n",
       "      <td>0</td>\n",
       "      <td>0</td>\n",
       "      <td>93826.63</td>\n",
       "      <td>0</td>\n",
       "    </tr>\n",
       "    <tr>\n",
       "      <th>4</th>\n",
       "      <td>5</td>\n",
       "      <td>15737888</td>\n",
       "      <td>Mitchell</td>\n",
       "      <td>850</td>\n",
       "      <td>Spain</td>\n",
       "      <td>Female</td>\n",
       "      <td>43</td>\n",
       "      <td>2</td>\n",
       "      <td>125510.82</td>\n",
       "      <td>1</td>\n",
       "      <td>1</td>\n",
       "      <td>1</td>\n",
       "      <td>79084.10</td>\n",
       "      <td>0</td>\n",
       "    </tr>\n",
       "  </tbody>\n",
       "</table>\n",
       "</div>"
      ],
      "text/plain": [
       "   RowNumber  CustomerId   Surname  CreditScore Geography  Gender  Age  \\\n",
       "0          1    15634602  Hargrave          619    France  Female   42   \n",
       "1          2    15647311      Hill          608     Spain  Female   41   \n",
       "2          3    15619304      Onio          502    France  Female   42   \n",
       "3          4    15701354      Boni          699    France  Female   39   \n",
       "4          5    15737888  Mitchell          850     Spain  Female   43   \n",
       "\n",
       "   Tenure    Balance  NumOfProducts  HasCrCard  IsActiveMember  \\\n",
       "0       2       0.00              1          1               1   \n",
       "1       1   83807.86              1          0               1   \n",
       "2       8  159660.80              3          1               0   \n",
       "3       1       0.00              2          0               0   \n",
       "4       2  125510.82              1          1               1   \n",
       "\n",
       "   EstimatedSalary  Exited  \n",
       "0        101348.88       1  \n",
       "1        112542.58       0  \n",
       "2        113931.57       1  \n",
       "3         93826.63       0  \n",
       "4         79084.10       0  "
      ]
     },
     "execution_count": 4,
     "metadata": {},
     "output_type": "execute_result"
    }
   ],
   "source": [
    "df = pd.read_csv(\"Churn_Modelling.csv\")\n",
    "df.head()"
   ]
  },
  {
   "cell_type": "code",
   "execution_count": 5,
   "metadata": {},
   "outputs": [
    {
     "data": {
      "text/plain": [
       "RowNumber            int64\n",
       "CustomerId           int64\n",
       "Surname             object\n",
       "CreditScore          int64\n",
       "Geography           object\n",
       "Gender              object\n",
       "Age                  int64\n",
       "Tenure               int64\n",
       "Balance            float64\n",
       "NumOfProducts        int64\n",
       "HasCrCard            int64\n",
       "IsActiveMember       int64\n",
       "EstimatedSalary    float64\n",
       "Exited               int64\n",
       "dtype: object"
      ]
     },
     "execution_count": 5,
     "metadata": {},
     "output_type": "execute_result"
    }
   ],
   "source": [
    "df.dtypes"
   ]
  },
  {
   "cell_type": "code",
   "execution_count": 6,
   "metadata": {},
   "outputs": [],
   "source": [
    "df.drop(['RowNumber', 'Surname', 'CustomerId'], axis=1, inplace=True)"
   ]
  },
  {
   "cell_type": "code",
   "execution_count": 7,
   "metadata": {},
   "outputs": [
    {
     "data": {
      "text/html": [
       "<div>\n",
       "<style scoped>\n",
       "    .dataframe tbody tr th:only-of-type {\n",
       "        vertical-align: middle;\n",
       "    }\n",
       "\n",
       "    .dataframe tbody tr th {\n",
       "        vertical-align: top;\n",
       "    }\n",
       "\n",
       "    .dataframe thead th {\n",
       "        text-align: right;\n",
       "    }\n",
       "</style>\n",
       "<table border=\"1\" class=\"dataframe\">\n",
       "  <thead>\n",
       "    <tr style=\"text-align: right;\">\n",
       "      <th></th>\n",
       "      <th>CreditScore</th>\n",
       "      <th>Geography</th>\n",
       "      <th>Gender</th>\n",
       "      <th>Age</th>\n",
       "      <th>Tenure</th>\n",
       "      <th>Balance</th>\n",
       "      <th>NumOfProducts</th>\n",
       "      <th>HasCrCard</th>\n",
       "      <th>IsActiveMember</th>\n",
       "      <th>EstimatedSalary</th>\n",
       "      <th>Exited</th>\n",
       "    </tr>\n",
       "  </thead>\n",
       "  <tbody>\n",
       "    <tr>\n",
       "      <th>0</th>\n",
       "      <td>619</td>\n",
       "      <td>France</td>\n",
       "      <td>Female</td>\n",
       "      <td>42</td>\n",
       "      <td>2</td>\n",
       "      <td>0.00</td>\n",
       "      <td>1</td>\n",
       "      <td>1</td>\n",
       "      <td>1</td>\n",
       "      <td>101348.88</td>\n",
       "      <td>1</td>\n",
       "    </tr>\n",
       "    <tr>\n",
       "      <th>1</th>\n",
       "      <td>608</td>\n",
       "      <td>Spain</td>\n",
       "      <td>Female</td>\n",
       "      <td>41</td>\n",
       "      <td>1</td>\n",
       "      <td>83807.86</td>\n",
       "      <td>1</td>\n",
       "      <td>0</td>\n",
       "      <td>1</td>\n",
       "      <td>112542.58</td>\n",
       "      <td>0</td>\n",
       "    </tr>\n",
       "    <tr>\n",
       "      <th>2</th>\n",
       "      <td>502</td>\n",
       "      <td>France</td>\n",
       "      <td>Female</td>\n",
       "      <td>42</td>\n",
       "      <td>8</td>\n",
       "      <td>159660.80</td>\n",
       "      <td>3</td>\n",
       "      <td>1</td>\n",
       "      <td>0</td>\n",
       "      <td>113931.57</td>\n",
       "      <td>1</td>\n",
       "    </tr>\n",
       "    <tr>\n",
       "      <th>3</th>\n",
       "      <td>699</td>\n",
       "      <td>France</td>\n",
       "      <td>Female</td>\n",
       "      <td>39</td>\n",
       "      <td>1</td>\n",
       "      <td>0.00</td>\n",
       "      <td>2</td>\n",
       "      <td>0</td>\n",
       "      <td>0</td>\n",
       "      <td>93826.63</td>\n",
       "      <td>0</td>\n",
       "    </tr>\n",
       "    <tr>\n",
       "      <th>4</th>\n",
       "      <td>850</td>\n",
       "      <td>Spain</td>\n",
       "      <td>Female</td>\n",
       "      <td>43</td>\n",
       "      <td>2</td>\n",
       "      <td>125510.82</td>\n",
       "      <td>1</td>\n",
       "      <td>1</td>\n",
       "      <td>1</td>\n",
       "      <td>79084.10</td>\n",
       "      <td>0</td>\n",
       "    </tr>\n",
       "  </tbody>\n",
       "</table>\n",
       "</div>"
      ],
      "text/plain": [
       "   CreditScore Geography  Gender  Age  Tenure    Balance  NumOfProducts  \\\n",
       "0          619    France  Female   42       2       0.00              1   \n",
       "1          608     Spain  Female   41       1   83807.86              1   \n",
       "2          502    France  Female   42       8  159660.80              3   \n",
       "3          699    France  Female   39       1       0.00              2   \n",
       "4          850     Spain  Female   43       2  125510.82              1   \n",
       "\n",
       "   HasCrCard  IsActiveMember  EstimatedSalary  Exited  \n",
       "0          1               1        101348.88       1  \n",
       "1          0               1        112542.58       0  \n",
       "2          1               0        113931.57       1  \n",
       "3          0               0         93826.63       0  \n",
       "4          1               1         79084.10       0  "
      ]
     },
     "execution_count": 7,
     "metadata": {},
     "output_type": "execute_result"
    }
   ],
   "source": [
    "df.head()"
   ]
  },
  {
   "cell_type": "code",
   "execution_count": 8,
   "metadata": {},
   "outputs": [
    {
     "data": {
      "text/plain": [
       "(10000, 11)"
      ]
     },
     "execution_count": 8,
     "metadata": {},
     "output_type": "execute_result"
    }
   ],
   "source": [
    "df.shape"
   ]
  },
  {
   "cell_type": "code",
   "execution_count": 9,
   "metadata": {},
   "outputs": [
    {
     "data": {
      "text/plain": [
       "CreditScore        0\n",
       "Geography          0\n",
       "Gender             0\n",
       "Age                0\n",
       "Tenure             0\n",
       "Balance            0\n",
       "NumOfProducts      0\n",
       "HasCrCard          0\n",
       "IsActiveMember     0\n",
       "EstimatedSalary    0\n",
       "Exited             0\n",
       "dtype: int64"
      ]
     },
     "execution_count": 9,
     "metadata": {},
     "output_type": "execute_result"
    }
   ],
   "source": [
    "df.isnull().sum()"
   ]
  },
  {
   "cell_type": "code",
   "execution_count": 10,
   "metadata": {},
   "outputs": [
    {
     "data": {
      "text/plain": [
       "0"
      ]
     },
     "execution_count": 10,
     "metadata": {},
     "output_type": "execute_result"
    }
   ],
   "source": [
    "df.duplicated().sum()"
   ]
  },
  {
   "cell_type": "code",
   "execution_count": 11,
   "metadata": {},
   "outputs": [
    {
     "data": {
      "text/plain": [
       "CreditScore          int64\n",
       "Geography           object\n",
       "Gender              object\n",
       "Age                  int64\n",
       "Tenure               int64\n",
       "Balance            float64\n",
       "NumOfProducts        int64\n",
       "HasCrCard            int64\n",
       "IsActiveMember       int64\n",
       "EstimatedSalary    float64\n",
       "Exited               int64\n",
       "dtype: object"
      ]
     },
     "execution_count": 11,
     "metadata": {},
     "output_type": "execute_result"
    }
   ],
   "source": [
    "df.dtypes"
   ]
  },
  {
   "cell_type": "code",
   "execution_count": 12,
   "metadata": {},
   "outputs": [
    {
     "name": "stdout",
     "output_type": "stream",
     "text": [
      "652.0\n",
      "217.33333333333334\n",
      "650.53\n"
     ]
    }
   ],
   "source": [
    "creditScore = df.CreditScore\n",
    "print(np.median(creditScore))\n",
    "print(np.median(creditScore)/3)\n",
    "print(f\"{np.mean(creditScore):.2f}\")"
   ]
  },
  {
   "cell_type": "code",
   "execution_count": 13,
   "metadata": {},
   "outputs": [
    {
     "data": {
      "text/plain": [
       "<function matplotlib.pyplot.show(close=None, block=None)>"
      ]
     },
     "execution_count": 13,
     "metadata": {},
     "output_type": "execute_result"
    },
    {
     "data": {
      "image/png": "[encoded data removed]",
      "text/plain": [
       "<Figure size 720x504 with 1 Axes>"
      ]
     },
     "metadata": {
      "needs_background": "light"
     },
     "output_type": "display_data"
    }
   ],
   "source": [
    "plt.figure(figsize=(10,7))\n",
    "plt.boxplot(df.CreditScore)\n",
    "plt.title('Outlier')\n",
    "plt.ylabel('Credit Score')\n",
    "plt.show"
   ]
  },
  {
   "cell_type": "code",
   "execution_count": 14,
   "metadata": {},
   "outputs": [
    {
     "data": {
      "text/plain": [
       "(10000, 11)"
      ]
     },
     "execution_count": 14,
     "metadata": {},
     "output_type": "execute_result"
    }
   ],
   "source": [
    "df.shape"
   ]
  },
  {
   "cell_type": "code",
   "execution_count": 15,
   "metadata": {},
   "outputs": [
    {
     "data": {
      "text/plain": [
       "(19,)"
      ]
     },
     "execution_count": 15,
     "metadata": {},
     "output_type": "execute_result"
    }
   ],
   "source": [
    "Outlier = df[df.CreditScore<400].index\n",
    "Outlier.shape"
   ]
  },
  {
   "cell_type": "code",
   "execution_count": 16,
   "metadata": {},
   "outputs": [],
   "source": [
    "df1 = df.drop(Outlier)"
   ]
  },
  {
   "cell_type": "code",
   "execution_count": 17,
   "metadata": {},
   "outputs": [
    {
     "data": {
      "text/plain": [
       "(9981, 11)"
      ]
     },
     "execution_count": 17,
     "metadata": {},
     "output_type": "execute_result"
    }
   ],
   "source": [
    "df1.shape"
   ]
  },
  {
   "cell_type": "code",
   "execution_count": 18,
   "metadata": {},
   "outputs": [
    {
     "data": {
      "text/plain": [
       "<function matplotlib.pyplot.show(close=None, block=None)>"
      ]
     },
     "execution_count": 18,
     "metadata": {},
     "output_type": "execute_result"
    },
    {
     "data": {
      "image/png": "[encoded data removed]",
      "text/plain": [
       "<Figure size 720x504 with 1 Axes>"
      ]
     },
     "metadata": {
      "needs_background": "light"
     },
     "output_type": "display_data"
    }
   ],
   "source": [
    "plt.figure(figsize=(10,7))\n",
    "plt.boxplot(df1.CreditScore)\n",
    "plt.title('Outlier')\n",
    "plt.ylabel('Credit Score')\n",
    "plt.show"
   ]
  },
  {
   "cell_type": "code",
   "execution_count": 19,
   "metadata": {},
   "outputs": [
    {
     "data": {
      "text/html": [
       "<div>\n",
       "<style scoped>\n",
       "    .dataframe tbody tr th:only-of-type {\n",
       "        vertical-align: middle;\n",
       "    }\n",
       "\n",
       "    .dataframe tbody tr th {\n",
       "        vertical-align: top;\n",
       "    }\n",
       "\n",
       "    .dataframe thead th {\n",
       "        text-align: right;\n",
       "    }\n",
       "</style>\n",
       "<table border=\"1\" class=\"dataframe\">\n",
       "  <thead>\n",
       "    <tr style=\"text-align: right;\">\n",
       "      <th></th>\n",
       "      <th>CreditScore</th>\n",
       "      <th>Geography</th>\n",
       "      <th>Gender</th>\n",
       "      <th>Age</th>\n",
       "      <th>Tenure</th>\n",
       "      <th>Balance</th>\n",
       "      <th>NumOfProducts</th>\n",
       "      <th>HasCrCard</th>\n",
       "      <th>IsActiveMember</th>\n",
       "      <th>EstimatedSalary</th>\n",
       "      <th>Exited</th>\n",
       "      <th>category</th>\n",
       "    </tr>\n",
       "  </thead>\n",
       "  <tbody>\n",
       "    <tr>\n",
       "      <th>0</th>\n",
       "      <td>619</td>\n",
       "      <td>France</td>\n",
       "      <td>Female</td>\n",
       "      <td>42</td>\n",
       "      <td>2</td>\n",
       "      <td>0.00</td>\n",
       "      <td>1</td>\n",
       "      <td>1</td>\n",
       "      <td>1</td>\n",
       "      <td>101348.88</td>\n",
       "      <td>1</td>\n",
       "      <td>Medium</td>\n",
       "    </tr>\n",
       "    <tr>\n",
       "      <th>1</th>\n",
       "      <td>608</td>\n",
       "      <td>Spain</td>\n",
       "      <td>Female</td>\n",
       "      <td>41</td>\n",
       "      <td>1</td>\n",
       "      <td>83807.86</td>\n",
       "      <td>1</td>\n",
       "      <td>0</td>\n",
       "      <td>1</td>\n",
       "      <td>112542.58</td>\n",
       "      <td>0</td>\n",
       "      <td>Medium</td>\n",
       "    </tr>\n",
       "    <tr>\n",
       "      <th>2</th>\n",
       "      <td>502</td>\n",
       "      <td>France</td>\n",
       "      <td>Female</td>\n",
       "      <td>42</td>\n",
       "      <td>8</td>\n",
       "      <td>159660.80</td>\n",
       "      <td>3</td>\n",
       "      <td>1</td>\n",
       "      <td>0</td>\n",
       "      <td>113931.57</td>\n",
       "      <td>1</td>\n",
       "      <td>Low</td>\n",
       "    </tr>\n",
       "    <tr>\n",
       "      <th>3</th>\n",
       "      <td>699</td>\n",
       "      <td>France</td>\n",
       "      <td>Female</td>\n",
       "      <td>39</td>\n",
       "      <td>1</td>\n",
       "      <td>0.00</td>\n",
       "      <td>2</td>\n",
       "      <td>0</td>\n",
       "      <td>0</td>\n",
       "      <td>93826.63</td>\n",
       "      <td>0</td>\n",
       "      <td>Medium</td>\n",
       "    </tr>\n",
       "    <tr>\n",
       "      <th>4</th>\n",
       "      <td>850</td>\n",
       "      <td>Spain</td>\n",
       "      <td>Female</td>\n",
       "      <td>43</td>\n",
       "      <td>2</td>\n",
       "      <td>125510.82</td>\n",
       "      <td>1</td>\n",
       "      <td>1</td>\n",
       "      <td>1</td>\n",
       "      <td>79084.10</td>\n",
       "      <td>0</td>\n",
       "      <td>High</td>\n",
       "    </tr>\n",
       "    <tr>\n",
       "      <th>...</th>\n",
       "      <td>...</td>\n",
       "      <td>...</td>\n",
       "      <td>...</td>\n",
       "      <td>...</td>\n",
       "      <td>...</td>\n",
       "      <td>...</td>\n",
       "      <td>...</td>\n",
       "      <td>...</td>\n",
       "      <td>...</td>\n",
       "      <td>...</td>\n",
       "      <td>...</td>\n",
       "      <td>...</td>\n",
       "    </tr>\n",
       "    <tr>\n",
       "      <th>9995</th>\n",
       "      <td>771</td>\n",
       "      <td>France</td>\n",
       "      <td>Male</td>\n",
       "      <td>39</td>\n",
       "      <td>5</td>\n",
       "      <td>0.00</td>\n",
       "      <td>2</td>\n",
       "      <td>1</td>\n",
       "      <td>0</td>\n",
       "      <td>96270.64</td>\n",
       "      <td>0</td>\n",
       "      <td>High</td>\n",
       "    </tr>\n",
       "    <tr>\n",
       "      <th>9996</th>\n",
       "      <td>516</td>\n",
       "      <td>France</td>\n",
       "      <td>Male</td>\n",
       "      <td>35</td>\n",
       "      <td>10</td>\n",
       "      <td>57369.61</td>\n",
       "      <td>1</td>\n",
       "      <td>1</td>\n",
       "      <td>1</td>\n",
       "      <td>101699.77</td>\n",
       "      <td>0</td>\n",
       "      <td>Low</td>\n",
       "    </tr>\n",
       "    <tr>\n",
       "      <th>9997</th>\n",
       "      <td>709</td>\n",
       "      <td>France</td>\n",
       "      <td>Female</td>\n",
       "      <td>36</td>\n",
       "      <td>7</td>\n",
       "      <td>0.00</td>\n",
       "      <td>1</td>\n",
       "      <td>0</td>\n",
       "      <td>1</td>\n",
       "      <td>42085.58</td>\n",
       "      <td>1</td>\n",
       "      <td>Medium</td>\n",
       "    </tr>\n",
       "    <tr>\n",
       "      <th>9998</th>\n",
       "      <td>772</td>\n",
       "      <td>Germany</td>\n",
       "      <td>Male</td>\n",
       "      <td>42</td>\n",
       "      <td>3</td>\n",
       "      <td>75075.31</td>\n",
       "      <td>2</td>\n",
       "      <td>1</td>\n",
       "      <td>0</td>\n",
       "      <td>92888.52</td>\n",
       "      <td>1</td>\n",
       "      <td>High</td>\n",
       "    </tr>\n",
       "    <tr>\n",
       "      <th>9999</th>\n",
       "      <td>792</td>\n",
       "      <td>France</td>\n",
       "      <td>Female</td>\n",
       "      <td>28</td>\n",
       "      <td>4</td>\n",
       "      <td>130142.79</td>\n",
       "      <td>1</td>\n",
       "      <td>1</td>\n",
       "      <td>0</td>\n",
       "      <td>38190.78</td>\n",
       "      <td>0</td>\n",
       "      <td>High</td>\n",
       "    </tr>\n",
       "  </tbody>\n",
       "</table>\n",
       "<p>9981 rows × 12 columns</p>\n",
       "</div>"
      ],
      "text/plain": [
       "      CreditScore Geography  Gender  Age  Tenure    Balance  NumOfProducts  \\\n",
       "0             619    France  Female   42       2       0.00              1   \n",
       "1             608     Spain  Female   41       1   83807.86              1   \n",
       "2             502    France  Female   42       8  159660.80              3   \n",
       "3             699    France  Female   39       1       0.00              2   \n",
       "4             850     Spain  Female   43       2  125510.82              1   \n",
       "...           ...       ...     ...  ...     ...        ...            ...   \n",
       "9995          771    France    Male   39       5       0.00              2   \n",
       "9996          516    France    Male   35      10   57369.61              1   \n",
       "9997          709    France  Female   36       7       0.00              1   \n",
       "9998          772   Germany    Male   42       3   75075.31              2   \n",
       "9999          792    France  Female   28       4  130142.79              1   \n",
       "\n",
       "      HasCrCard  IsActiveMember  EstimatedSalary  Exited category  \n",
       "0             1               1        101348.88       1   Medium  \n",
       "1             0               1        112542.58       0   Medium  \n",
       "2             1               0        113931.57       1      Low  \n",
       "3             0               0         93826.63       0   Medium  \n",
       "4             1               1         79084.10       0     High  \n",
       "...         ...             ...              ...     ...      ...  \n",
       "9995          1               0         96270.64       0     High  \n",
       "9996          1               1        101699.77       0      Low  \n",
       "9997          0               1         42085.58       1   Medium  \n",
       "9998          1               0         92888.52       1     High  \n",
       "9999          1               0         38190.78       0     High  \n",
       "\n",
       "[9981 rows x 12 columns]"
      ]
     },
     "execution_count": 19,
     "metadata": {},
     "output_type": "execute_result"
    }
   ],
   "source": [
    "# Assuming `df1` is your DataFrame and 'CreditScore' is the column\n",
    "Q1 = df1['CreditScore'].quantile(0.25)\n",
    "Q3 = df1['CreditScore'].quantile(0.75)\n",
    "\n",
    "# Categorize credit scores\n",
    "df1['category'] = pd.cut(\n",
    "    df1['CreditScore'],\n",
    "    bins=[-float('inf'), Q1, Q3, float('inf')],\n",
    "    labels=['Low', 'Medium', 'High']\n",
    ")\n",
    "\n",
    "df1"
   ]
  },
  {
   "cell_type": "code",
   "execution_count": 20,
   "metadata": {},
   "outputs": [],
   "source": [
    "df1.drop(['CreditScore'], axis=1, inplace=True)"
   ]
  },
  {
   "cell_type": "code",
   "execution_count": 21,
   "metadata": {},
   "outputs": [],
   "source": [
    "df1.rename(columns={'category':'CreditScore'}, inplace=True)"
   ]
  },
  {
   "cell_type": "code",
   "execution_count": 22,
   "metadata": {},
   "outputs": [
    {
     "data": {
      "text/html": [
       "<div>\n",
       "<style scoped>\n",
       "    .dataframe tbody tr th:only-of-type {\n",
       "        vertical-align: middle;\n",
       "    }\n",
       "\n",
       "    .dataframe tbody tr th {\n",
       "        vertical-align: top;\n",
       "    }\n",
       "\n",
       "    .dataframe thead th {\n",
       "        text-align: right;\n",
       "    }\n",
       "</style>\n",
       "<table border=\"1\" class=\"dataframe\">\n",
       "  <thead>\n",
       "    <tr style=\"text-align: right;\">\n",
       "      <th></th>\n",
       "      <th>Geography</th>\n",
       "      <th>Gender</th>\n",
       "      <th>Age</th>\n",
       "      <th>Tenure</th>\n",
       "      <th>Balance</th>\n",
       "      <th>NumOfProducts</th>\n",
       "      <th>HasCrCard</th>\n",
       "      <th>IsActiveMember</th>\n",
       "      <th>EstimatedSalary</th>\n",
       "      <th>Exited</th>\n",
       "      <th>CreditScore</th>\n",
       "    </tr>\n",
       "  </thead>\n",
       "  <tbody>\n",
       "    <tr>\n",
       "      <th>9336</th>\n",
       "      <td>France</td>\n",
       "      <td>Male</td>\n",
       "      <td>49</td>\n",
       "      <td>9</td>\n",
       "      <td>159458.53</td>\n",
       "      <td>1</td>\n",
       "      <td>1</td>\n",
       "      <td>0</td>\n",
       "      <td>135841.35</td>\n",
       "      <td>0</td>\n",
       "      <td>Medium</td>\n",
       "    </tr>\n",
       "    <tr>\n",
       "      <th>7972</th>\n",
       "      <td>Germany</td>\n",
       "      <td>Male</td>\n",
       "      <td>36</td>\n",
       "      <td>5</td>\n",
       "      <td>73194.99</td>\n",
       "      <td>1</td>\n",
       "      <td>1</td>\n",
       "      <td>1</td>\n",
       "      <td>89222.66</td>\n",
       "      <td>0</td>\n",
       "      <td>High</td>\n",
       "    </tr>\n",
       "    <tr>\n",
       "      <th>917</th>\n",
       "      <td>France</td>\n",
       "      <td>Female</td>\n",
       "      <td>45</td>\n",
       "      <td>3</td>\n",
       "      <td>47134.75</td>\n",
       "      <td>1</td>\n",
       "      <td>1</td>\n",
       "      <td>1</td>\n",
       "      <td>57236.44</td>\n",
       "      <td>0</td>\n",
       "      <td>Medium</td>\n",
       "    </tr>\n",
       "    <tr>\n",
       "      <th>6787</th>\n",
       "      <td>France</td>\n",
       "      <td>Male</td>\n",
       "      <td>37</td>\n",
       "      <td>10</td>\n",
       "      <td>0.00</td>\n",
       "      <td>1</td>\n",
       "      <td>1</td>\n",
       "      <td>1</td>\n",
       "      <td>76642.68</td>\n",
       "      <td>0</td>\n",
       "      <td>Low</td>\n",
       "    </tr>\n",
       "    <tr>\n",
       "      <th>6217</th>\n",
       "      <td>France</td>\n",
       "      <td>Male</td>\n",
       "      <td>31</td>\n",
       "      <td>2</td>\n",
       "      <td>0.00</td>\n",
       "      <td>2</td>\n",
       "      <td>1</td>\n",
       "      <td>1</td>\n",
       "      <td>107759.31</td>\n",
       "      <td>0</td>\n",
       "      <td>Medium</td>\n",
       "    </tr>\n",
       "  </tbody>\n",
       "</table>\n",
       "</div>"
      ],
      "text/plain": [
       "     Geography  Gender  Age  Tenure    Balance  NumOfProducts  HasCrCard  \\\n",
       "9336    France    Male   49       9  159458.53              1          1   \n",
       "7972   Germany    Male   36       5   73194.99              1          1   \n",
       "917     France  Female   45       3   47134.75              1          1   \n",
       "6787    France    Male   37      10       0.00              1          1   \n",
       "6217    France    Male   31       2       0.00              2          1   \n",
       "\n",
       "      IsActiveMember  EstimatedSalary  Exited CreditScore  \n",
       "9336               0        135841.35       0      Medium  \n",
       "7972               1         89222.66       0        High  \n",
       "917                1         57236.44       0      Medium  \n",
       "6787               1         76642.68       0         Low  \n",
       "6217               1        107759.31       0      Medium  "
      ]
     },
     "execution_count": 22,
     "metadata": {},
     "output_type": "execute_result"
    }
   ],
   "source": [
    "df1.sample(5)"
   ]
  },
  {
   "cell_type": "code",
   "execution_count": 23,
   "metadata": {},
   "outputs": [],
   "source": [
    "def status(df):\n",
    "    for col in df:\n",
    "        print(f\"{col}: {df[col].unique()}\")"
   ]
  },
  {
   "cell_type": "code",
   "execution_count": 24,
   "metadata": {},
   "outputs": [
    {
     "name": "stdout",
     "output_type": "stream",
     "text": [
      "Geography: ['France' 'Spain' 'Germany']\n",
      "Gender: ['Female' 'Male']\n",
      "Age: [42 41 39 43 44 50 27 31 24 34 25 35 45 58 32 38 46 36 29 33 40 51 61 49\n",
      " 37 19 66 56 26 21 55 75 22 30 28 65 48 52 57 73 47 54 72 20 67 79 62 53\n",
      " 80 59 68 23 60 70 63 64 18 82 69 74 71 76 77 88 85 84 78 81 92 83]\n",
      "Tenure: [ 2  1  8  7  4  6  3 10  5  9  0]\n",
      "Balance: [     0.    83807.86 159660.8  ...  57369.61  75075.31 130142.79]\n",
      "NumOfProducts: [1 3 2 4]\n",
      "HasCrCard: [1 0]\n",
      "IsActiveMember: [1 0]\n",
      "EstimatedSalary: [101348.88 112542.58 113931.57 ...  42085.58  92888.52  38190.78]\n",
      "Exited: [1 0]\n",
      "CreditScore: ['Medium', 'Low', 'High']\n",
      "Categories (3, object): ['Low' < 'Medium' < 'High']\n"
     ]
    }
   ],
   "source": [
    "status(df1)"
   ]
  },
  {
   "cell_type": "code",
   "execution_count": 25,
   "metadata": {},
   "outputs": [
    {
     "data": {
      "text/plain": [
       "array(['France', 'Spain', 'Germany'], dtype=object)"
      ]
     },
     "execution_count": 25,
     "metadata": {},
     "output_type": "execute_result"
    }
   ],
   "source": [
    "df['Geography'].unique()"
   ]
  },
  {
   "cell_type": "code",
   "execution_count": 26,
   "metadata": {},
   "outputs": [
    {
     "data": {
      "text/plain": [
       "array(['Female', 'Male'], dtype=object)"
      ]
     },
     "execution_count": 26,
     "metadata": {},
     "output_type": "execute_result"
    }
   ],
   "source": [
    "df['Gender'].unique()"
   ]
  },
  {
   "cell_type": "code",
   "execution_count": 27,
   "metadata": {},
   "outputs": [
    {
     "data": {
      "text/plain": [
       "Index(['Gender', 'Age', 'Tenure', 'Balance', 'NumOfProducts', 'HasCrCard',\n",
       "       'IsActiveMember', 'EstimatedSalary', 'Exited', 'CreditScore_Low',\n",
       "       'CreditScore_Medium', 'CreditScore_High', 'Geography_France',\n",
       "       'Geography_Germany', 'Geography_Spain'],\n",
       "      dtype='object')"
      ]
     },
     "execution_count": 27,
     "metadata": {},
     "output_type": "execute_result"
    }
   ],
   "source": [
    "df2 = pd.get_dummies(data=df1, columns=['CreditScore', 'Geography'])\n",
    "df2.columns"
   ]
  },
  {
   "cell_type": "code",
   "execution_count": 28,
   "metadata": {},
   "outputs": [],
   "source": [
    "df2.replace({'Male':1, 'Female':0}, inplace=True)"
   ]
  },
  {
   "cell_type": "code",
   "execution_count": 29,
   "metadata": {},
   "outputs": [
    {
     "data": {
      "text/html": [
       "<div>\n",
       "<style scoped>\n",
       "    .dataframe tbody tr th:only-of-type {\n",
       "        vertical-align: middle;\n",
       "    }\n",
       "\n",
       "    .dataframe tbody tr th {\n",
       "        vertical-align: top;\n",
       "    }\n",
       "\n",
       "    .dataframe thead th {\n",
       "        text-align: right;\n",
       "    }\n",
       "</style>\n",
       "<table border=\"1\" class=\"dataframe\">\n",
       "  <thead>\n",
       "    <tr style=\"text-align: right;\">\n",
       "      <th></th>\n",
       "      <th>Gender</th>\n",
       "      <th>Age</th>\n",
       "      <th>Tenure</th>\n",
       "      <th>Balance</th>\n",
       "      <th>NumOfProducts</th>\n",
       "      <th>HasCrCard</th>\n",
       "      <th>IsActiveMember</th>\n",
       "      <th>EstimatedSalary</th>\n",
       "      <th>Exited</th>\n",
       "      <th>CreditScore_Low</th>\n",
       "      <th>CreditScore_Medium</th>\n",
       "      <th>CreditScore_High</th>\n",
       "      <th>Geography_France</th>\n",
       "      <th>Geography_Germany</th>\n",
       "      <th>Geography_Spain</th>\n",
       "    </tr>\n",
       "  </thead>\n",
       "  <tbody>\n",
       "    <tr>\n",
       "      <th>9993</th>\n",
       "      <td>1</td>\n",
       "      <td>28</td>\n",
       "      <td>7</td>\n",
       "      <td>155060.41</td>\n",
       "      <td>1</td>\n",
       "      <td>1</td>\n",
       "      <td>0</td>\n",
       "      <td>29179.52</td>\n",
       "      <td>0</td>\n",
       "      <td>0</td>\n",
       "      <td>1</td>\n",
       "      <td>0</td>\n",
       "      <td>1</td>\n",
       "      <td>0</td>\n",
       "      <td>0</td>\n",
       "    </tr>\n",
       "    <tr>\n",
       "      <th>3879</th>\n",
       "      <td>0</td>\n",
       "      <td>33</td>\n",
       "      <td>9</td>\n",
       "      <td>151772.63</td>\n",
       "      <td>2</td>\n",
       "      <td>0</td>\n",
       "      <td>0</td>\n",
       "      <td>180249.94</td>\n",
       "      <td>1</td>\n",
       "      <td>0</td>\n",
       "      <td>0</td>\n",
       "      <td>1</td>\n",
       "      <td>1</td>\n",
       "      <td>0</td>\n",
       "      <td>0</td>\n",
       "    </tr>\n",
       "    <tr>\n",
       "      <th>7482</th>\n",
       "      <td>1</td>\n",
       "      <td>43</td>\n",
       "      <td>5</td>\n",
       "      <td>132615.73</td>\n",
       "      <td>2</td>\n",
       "      <td>1</td>\n",
       "      <td>0</td>\n",
       "      <td>32999.10</td>\n",
       "      <td>0</td>\n",
       "      <td>0</td>\n",
       "      <td>1</td>\n",
       "      <td>0</td>\n",
       "      <td>0</td>\n",
       "      <td>1</td>\n",
       "      <td>0</td>\n",
       "    </tr>\n",
       "    <tr>\n",
       "      <th>9878</th>\n",
       "      <td>0</td>\n",
       "      <td>43</td>\n",
       "      <td>8</td>\n",
       "      <td>128412.61</td>\n",
       "      <td>1</td>\n",
       "      <td>0</td>\n",
       "      <td>1</td>\n",
       "      <td>139024.31</td>\n",
       "      <td>0</td>\n",
       "      <td>0</td>\n",
       "      <td>0</td>\n",
       "      <td>1</td>\n",
       "      <td>0</td>\n",
       "      <td>0</td>\n",
       "      <td>1</td>\n",
       "    </tr>\n",
       "    <tr>\n",
       "      <th>8415</th>\n",
       "      <td>1</td>\n",
       "      <td>38</td>\n",
       "      <td>3</td>\n",
       "      <td>91241.85</td>\n",
       "      <td>1</td>\n",
       "      <td>0</td>\n",
       "      <td>1</td>\n",
       "      <td>80682.35</td>\n",
       "      <td>0</td>\n",
       "      <td>0</td>\n",
       "      <td>0</td>\n",
       "      <td>1</td>\n",
       "      <td>0</td>\n",
       "      <td>0</td>\n",
       "      <td>1</td>\n",
       "    </tr>\n",
       "  </tbody>\n",
       "</table>\n",
       "</div>"
      ],
      "text/plain": [
       "      Gender  Age  Tenure    Balance  NumOfProducts  HasCrCard  \\\n",
       "9993       1   28       7  155060.41              1          1   \n",
       "3879       0   33       9  151772.63              2          0   \n",
       "7482       1   43       5  132615.73              2          1   \n",
       "9878       0   43       8  128412.61              1          0   \n",
       "8415       1   38       3   91241.85              1          0   \n",
       "\n",
       "      IsActiveMember  EstimatedSalary  Exited  CreditScore_Low  \\\n",
       "9993               0         29179.52       0                0   \n",
       "3879               0        180249.94       1                0   \n",
       "7482               0         32999.10       0                0   \n",
       "9878               1        139024.31       0                0   \n",
       "8415               1         80682.35       0                0   \n",
       "\n",
       "      CreditScore_Medium  CreditScore_High  Geography_France  \\\n",
       "9993                   1                 0                 1   \n",
       "3879                   0                 1                 1   \n",
       "7482                   1                 0                 0   \n",
       "9878                   0                 1                 0   \n",
       "8415                   0                 1                 0   \n",
       "\n",
       "      Geography_Germany  Geography_Spain  \n",
       "9993                  0                0  \n",
       "3879                  0                0  \n",
       "7482                  1                0  \n",
       "9878                  0                1  \n",
       "8415                  0                1  "
      ]
     },
     "execution_count": 29,
     "metadata": {},
     "output_type": "execute_result"
    }
   ],
   "source": [
    "df2.sample(5)"
   ]
  },
  {
   "cell_type": "code",
   "execution_count": 30,
   "metadata": {},
   "outputs": [
    {
     "data": {
      "text/plain": [
       "Gender                  int64\n",
       "Age                     int64\n",
       "Tenure                  int64\n",
       "Balance               float64\n",
       "NumOfProducts           int64\n",
       "HasCrCard               int64\n",
       "IsActiveMember          int64\n",
       "EstimatedSalary       float64\n",
       "Exited                  int64\n",
       "CreditScore_Low         uint8\n",
       "CreditScore_Medium      uint8\n",
       "CreditScore_High        uint8\n",
       "Geography_France        uint8\n",
       "Geography_Germany       uint8\n",
       "Geography_Spain         uint8\n",
       "dtype: object"
      ]
     },
     "execution_count": 30,
     "metadata": {},
     "output_type": "execute_result"
    }
   ],
   "source": [
    "df2.dtypes"
   ]
  },
  {
   "cell_type": "code",
   "execution_count": 31,
   "metadata": {},
   "outputs": [
    {
     "data": {
      "text/plain": [
       "(9981, 15)"
      ]
     },
     "execution_count": 31,
     "metadata": {},
     "output_type": "execute_result"
    }
   ],
   "source": [
    "df2.shape"
   ]
  },
  {
   "cell_type": "code",
   "execution_count": 32,
   "metadata": {},
   "outputs": [
    {
     "name": "stdout",
     "output_type": "stream",
     "text": [
      "Gender: [0 1]\n",
      "Age: [42 41 39 43 44 50 27 31 24 34 25 35 45 58 32 38 46 36 29 33 40 51 61 49\n",
      " 37 19 66 56 26 21 55 75 22 30 28 65 48 52 57 73 47 54 72 20 67 79 62 53\n",
      " 80 59 68 23 60 70 63 64 18 82 69 74 71 76 77 88 85 84 78 81 92 83]\n",
      "Tenure: [ 2  1  8  7  4  6  3 10  5  9  0]\n",
      "Balance: [     0.    83807.86 159660.8  ...  57369.61  75075.31 130142.79]\n",
      "NumOfProducts: [1 3 2 4]\n",
      "HasCrCard: [1 0]\n",
      "IsActiveMember: [1 0]\n",
      "EstimatedSalary: [101348.88 112542.58 113931.57 ...  42085.58  92888.52  38190.78]\n",
      "Exited: [1 0]\n",
      "CreditScore_Low: [0 1]\n",
      "CreditScore_Medium: [1 0]\n",
      "CreditScore_High: [0 1]\n",
      "Geography_France: [1 0]\n",
      "Geography_Germany: [0 1]\n",
      "Geography_Spain: [0 1]\n"
     ]
    }
   ],
   "source": [
    "status(df2)"
   ]
  },
  {
   "cell_type": "code",
   "execution_count": 33,
   "metadata": {},
   "outputs": [
    {
     "data": {
      "text/plain": [
       "199992.48"
      ]
     },
     "execution_count": 33,
     "metadata": {},
     "output_type": "execute_result"
    }
   ],
   "source": [
    "df1.EstimatedSalary.max()"
   ]
  },
  {
   "cell_type": "code",
   "execution_count": 34,
   "metadata": {},
   "outputs": [
    {
     "data": {
      "text/plain": [
       "250898.09"
      ]
     },
     "execution_count": 34,
     "metadata": {},
     "output_type": "execute_result"
    }
   ],
   "source": [
    "df1.Balance.max()"
   ]
  },
  {
   "cell_type": "code",
   "execution_count": 35,
   "metadata": {},
   "outputs": [],
   "source": [
    "cols_to_scale = ['Tenure', 'Balance', 'EstimatedSalary', 'Age']\n",
    "\n",
    "from sklearn.preprocessing import StandardScaler\n",
    "\n",
    "scaler = StandardScaler()\n",
    "\n",
    "df2[cols_to_scale] = scaler.fit_transform(df2[cols_to_scale])"
   ]
  },
  {
   "cell_type": "code",
   "execution_count": 36,
   "metadata": {},
   "outputs": [
    {
     "name": "stdout",
     "output_type": "stream",
     "text": [
      "Tenure: [-1.04263892 -1.38849884  1.03252058  0.68666067 -0.35091908  0.34080075\n",
      " -0.696779    1.72424042 -0.00505917  1.3783805  -1.73435875]\n",
      "Balance: [-1.22527715  0.11782261  1.3334373  ... -0.30587521 -0.02212472\n",
      "  0.86038343]\n",
      "EstimatedSalary: [ 0.02280027  0.21741164  0.24156033 ... -1.0075393  -0.12428982\n",
      " -1.07525349]\n",
      "Age: [ 0.2943892   0.19903633  0.0083306   0.38974207  0.48509494  1.05721214\n",
      " -1.13590381 -0.75449234 -1.42196242 -0.46843374 -1.32660955 -0.37308087\n",
      "  0.5804478   1.82003508 -0.65913948 -0.08702227  0.67580067 -0.277728\n",
      " -0.94519808 -0.56378661  0.10368347  1.15256501  2.10609369  0.96185927\n",
      " -0.18237514 -1.89872676  2.58285803  1.62932935 -1.23125668 -1.70802102\n",
      "  1.53397648  3.44103383 -1.61266815 -0.84984521 -1.04055095  2.48750516\n",
      "  0.86650641  1.24791788  1.72468222  3.2503281   0.77115354  1.43862361\n",
      "  3.15497523 -1.80337389  2.67821089  3.8224453   2.20144655  1.34327075\n",
      "  3.91779817  1.91538795  2.77356376 -1.51731528  2.01074082  2.9642695\n",
      "  2.29679942  2.39215229 -1.99407962  4.10850391  2.86891663  3.34568097\n",
      "  3.05962236  3.5363867   3.63173957  4.68062111  4.39456251  4.29920964\n",
      "  3.72709244  4.01315104  5.06203258  4.20385678]\n"
     ]
    }
   ],
   "source": [
    "for col in cols_to_scale:\n",
    "    print(f\"{col}: {df2[col].unique()}\")"
   ]
  },
  {
   "cell_type": "code",
   "execution_count": 37,
   "metadata": {},
   "outputs": [
    {
     "name": "stdout",
     "output_type": "stream",
     "text": [
      "Gender: [0 1]\n",
      "Age: [ 0.2943892   0.19903633  0.0083306   0.38974207  0.48509494  1.05721214\n",
      " -1.13590381 -0.75449234 -1.42196242 -0.46843374 -1.32660955 -0.37308087\n",
      "  0.5804478   1.82003508 -0.65913948 -0.08702227  0.67580067 -0.277728\n",
      " -0.94519808 -0.56378661  0.10368347  1.15256501  2.10609369  0.96185927\n",
      " -0.18237514 -1.89872676  2.58285803  1.62932935 -1.23125668 -1.70802102\n",
      "  1.53397648  3.44103383 -1.61266815 -0.84984521 -1.04055095  2.48750516\n",
      "  0.86650641  1.24791788  1.72468222  3.2503281   0.77115354  1.43862361\n",
      "  3.15497523 -1.80337389  2.67821089  3.8224453   2.20144655  1.34327075\n",
      "  3.91779817  1.91538795  2.77356376 -1.51731528  2.01074082  2.9642695\n",
      "  2.29679942  2.39215229 -1.99407962  4.10850391  2.86891663  3.34568097\n",
      "  3.05962236  3.5363867   3.63173957  4.68062111  4.39456251  4.29920964\n",
      "  3.72709244  4.01315104  5.06203258  4.20385678]\n",
      "Tenure: [-1.04263892 -1.38849884  1.03252058  0.68666067 -0.35091908  0.34080075\n",
      " -0.696779    1.72424042 -0.00505917  1.3783805  -1.73435875]\n",
      "Balance: [-1.22527715  0.11782261  1.3334373  ... -0.30587521 -0.02212472\n",
      "  0.86038343]\n",
      "NumOfProducts: [1 3 2 4]\n",
      "HasCrCard: [1 0]\n",
      "IsActiveMember: [1 0]\n",
      "EstimatedSalary: [ 0.02280027  0.21741164  0.24156033 ... -1.0075393  -0.12428982\n",
      " -1.07525349]\n",
      "Exited: [1 0]\n",
      "CreditScore_Low: [0 1]\n",
      "CreditScore_Medium: [1 0]\n",
      "CreditScore_High: [0 1]\n",
      "Geography_France: [1 0]\n",
      "Geography_Germany: [0 1]\n",
      "Geography_Spain: [0 1]\n"
     ]
    }
   ],
   "source": [
    "status(df2)"
   ]
  },
  {
   "cell_type": "markdown",
   "metadata": {},
   "source": [
    "### **Data Visualization**"
   ]
  },
  {
   "cell_type": "code",
   "execution_count": 38,
   "metadata": {},
   "outputs": [
    {
     "data": {
      "text/plain": [
       "Geography  Gender  Age  Tenure  Balance    NumOfProducts  HasCrCard  IsActiveMember  EstimatedSalary  Exited  CreditScore\n",
       "Spain      Male    88   10      0.00       2              1          1               52952.24         0       Low            1\n",
       "France     Male    34   1       78829.53   1              1          1               12148.20         0       Low            1\n",
       "                        2       137390.11  2              1          0               9677.00          0       Low            1\n",
       "                                0.00       2              1          1               148528.24        0       Low            1\n",
       "                                                                                     96615.23         0       Low            1\n",
       "                                                                                                                            ..\n",
       "Germany    Male    33   5       96341.00   2              0          0               108313.34        0       Low            1\n",
       "                        4       131023.76  2              0          0               55072.93         0       Low            1\n",
       "                                118400.91  1              0          1               13999.64         1       Low            1\n",
       "                        3       144962.74  1              1          0               58844.84         1       Low            1\n",
       "France     Female  18   4       82767.42   1              1          0               71811.90         0       Low            1\n",
       "Length: 2515, dtype: int64"
      ]
     },
     "execution_count": 38,
     "metadata": {},
     "output_type": "execute_result"
    }
   ],
   "source": [
    "df1[df1['CreditScore'] == 'Low'].value_counts()"
   ]
  },
  {
   "cell_type": "code",
   "execution_count": 86,
   "metadata": {},
   "outputs": [
    {
     "data": {
      "text/plain": [
       "France     1297\n",
       "Germany     623\n",
       "Spain       595\n",
       "Name: Geography, dtype: int64"
      ]
     },
     "execution_count": 86,
     "metadata": {},
     "output_type": "execute_result"
    }
   ],
   "source": [
    "df1[df1['CreditScore'] == 'Low']['Geography'].value_counts()"
   ]
  },
  {
   "cell_type": "code",
   "execution_count": 87,
   "metadata": {},
   "outputs": [
    {
     "data": {
      "text/plain": [
       "France     2494\n",
       "Spain      1278\n",
       "Germany    1231\n",
       "Name: Geography, dtype: int64"
      ]
     },
     "execution_count": 87,
     "metadata": {},
     "output_type": "execute_result"
    }
   ],
   "source": [
    "df1[df1['CreditScore'] == 'Medium']['Geography'].value_counts()"
   ]
  },
  {
   "cell_type": "code",
   "execution_count": 88,
   "metadata": {},
   "outputs": [
    {
     "data": {
      "text/plain": [
       "France     1217\n",
       "Germany     649\n",
       "Spain       597\n",
       "Name: Geography, dtype: int64"
      ]
     },
     "execution_count": 88,
     "metadata": {},
     "output_type": "execute_result"
    }
   ],
   "source": [
    "df1[df1['CreditScore'] == 'High']['Geography'].value_counts()"
   ]
  },
  {
   "cell_type": "code",
   "execution_count": 89,
   "metadata": {},
   "outputs": [
    {
     "data": {
      "text/html": [
       "<div>\n",
       "<style scoped>\n",
       "    .dataframe tbody tr th:only-of-type {\n",
       "        vertical-align: middle;\n",
       "    }\n",
       "\n",
       "    .dataframe tbody tr th {\n",
       "        vertical-align: top;\n",
       "    }\n",
       "\n",
       "    .dataframe thead th {\n",
       "        text-align: right;\n",
       "    }\n",
       "</style>\n",
       "<table border=\"1\" class=\"dataframe\">\n",
       "  <thead>\n",
       "    <tr style=\"text-align: right;\">\n",
       "      <th></th>\n",
       "      <th>Low</th>\n",
       "      <th>Medium</th>\n",
       "      <th>High</th>\n",
       "    </tr>\n",
       "  </thead>\n",
       "  <tbody>\n",
       "    <tr>\n",
       "      <th>France</th>\n",
       "      <td>1297</td>\n",
       "      <td>2494</td>\n",
       "      <td>1217</td>\n",
       "    </tr>\n",
       "    <tr>\n",
       "      <th>Germany</th>\n",
       "      <td>623</td>\n",
       "      <td>1231</td>\n",
       "      <td>649</td>\n",
       "    </tr>\n",
       "    <tr>\n",
       "      <th>Spain</th>\n",
       "      <td>595</td>\n",
       "      <td>1278</td>\n",
       "      <td>597</td>\n",
       "    </tr>\n",
       "  </tbody>\n",
       "</table>\n",
       "</div>"
      ],
      "text/plain": [
       "          Low  Medium  High\n",
       "France   1297    2494  1217\n",
       "Germany   623    1231   649\n",
       "Spain     595    1278   597"
      ]
     },
     "execution_count": 89,
     "metadata": {},
     "output_type": "execute_result"
    }
   ],
   "source": [
    "creditScore_geopgraphy"
   ]
  },
  {
   "cell_type": "code",
   "execution_count": 60,
   "metadata": {},
   "outputs": [
    {
     "data": {
      "image/png": "[encoded data removed]",
      "text/plain": [
       "<Figure size 864x576 with 1 Axes>"
      ]
     },
     "metadata": {
      "needs_background": "light"
     },
     "output_type": "display_data"
    }
   ],
   "source": [
    "lowCreditScore = df1[df1['CreditScore'] == 'Low']['Geography'].value_counts()\n",
    "mediumCreditScore = df1[df1['CreditScore'] == 'Medium']['Geography'].value_counts()\n",
    "highCreditScore = df1[df1['CreditScore'] == 'High']['Geography'].value_counts()\n",
    "\n",
    "creditScore_geopgraphy = pd.DataFrame({\n",
    "    'Low': lowCreditScore,\n",
    "    'Medium' : mediumCreditScore,\n",
    "    'High' : highCreditScore\n",
    "})\n",
    "\n",
    "creditScore_geopgraphy.plot(kind='bar', figsize=(12,8), color=['red','orange','blue'])\n",
    "plt.title('Credit Score Distribution by Geography', fontsize=20, fontweight='bold')\n",
    "plt.xlabel('Geography', fontsize=15)\n",
    "plt.ylabel('Count', fontsize=15)\n",
    "plt.legend(title='Credit Score', fontsize=12)\n",
    "plt.xticks(rotation=0, fontsize=12)\n",
    "plt.yticks(fontsize=12)\n",
    "plt.grid(axis='y', linestyle='--', alpha=0.7)\n",
    "plt.tight_layout()\n",
    "plt.show()"
   ]
  },
  {
   "cell_type": "code",
   "execution_count": 85,
   "metadata": {},
   "outputs": [
    {
     "data": {
      "image/png": "[encoded data removed]",
      "text/plain": [
       "<Figure size 720x504 with 1 Axes>"
      ]
     },
     "metadata": {
      "needs_background": "light"
     },
     "output_type": "display_data"
    }
   ],
   "source": [
    "y_creditCard = df[df.HasCrCard == 1]['IsActiveMember'].value_counts()\n",
    "n_creditCard = df[df.HasCrCard == 0]['IsActiveMember'].value_counts()\n",
    "\n",
    "creditCard = pd.DataFrame({\n",
    "    'Active Member': y_creditCard,\n",
    "    'Non-Active Member': n_creditCard\n",
    "})\n",
    "\n",
    "creditCard.T.plot(kind='bar', color=['green', 'red'], figsize=(10,7))\n",
    "plt.title('Active Status with Credit Card', fontsize=20, fontweight='bold')\n",
    "plt.legend(title='Membership Status', fontsize=12, title_fontsize=13, labels=['Credit Card', 'No Credit Card'])\n",
    "plt.xlabel(\"Has Credit Card\", fontsize=15)\n",
    "plt.ylabel(\"Members\", fontsize=15)\n",
    "plt.xticks(rotation=0, fontsize=12)\n",
    "plt.yticks(fontsize=12)\n",
    "plt.grid(axis='y', linestyle='--', alpha=0.7)\n",
    "plt.tight_layout()\n",
    "plt.show()"
   ]
  },
  {
   "cell_type": "code",
   "execution_count": 41,
   "metadata": {},
   "outputs": [
    {
     "data": {
      "image/png": "[encoded data removed]",
      "text/plain": [
       "<Figure size 720x504 with 1 Axes>"
      ]
     },
     "metadata": {
      "needs_background": "light"
     },
     "output_type": "display_data"
    }
   ],
   "source": [
    "L_creditScore_tenure = df1[df1.CreditScore == 'Low'].Tenure\n",
    "H_creditScore_tenure = df1[df1.CreditScore == 'High'].Tenure\n",
    "M_creditScore_tenure = df1[df1.CreditScore == 'Medium'].Tenure\n",
    "\n",
    "plt.figure(figsize=(10,7))\n",
    "plt.hist([H_creditScore_tenure, M_creditScore_tenure, L_creditScore_tenure], color=['b','y','r'], label=['High', 'Medium', 'Low'])\n",
    "plt.title(\"Credit Score vs Tenure\")\n",
    "plt.xlabel(\"Credit Score\")\n",
    "plt.ylabel(\"Tenure\")\n",
    "plt.legend()\n",
    "plt.show()"
   ]
  },
  {
   "cell_type": "code",
   "execution_count": 42,
   "metadata": {},
   "outputs": [
    {
     "data": {
      "image/png": "[encoded data removed]",
      "text/plain": [
       "<Figure size 432x288 with 1 Axes>"
      ]
     },
     "metadata": {},
     "output_type": "display_data"
    }
   ],
   "source": [
    "france_activateM = df1[(df1.Geography == 'France') & (df1.IsActiveMember == 1)].shape[0]\n",
    "spain_activateM = df1[(df1.Geography == 'Spain') & (df1.IsActiveMember == 1)].shape[0]\n",
    "Germany_activateM = df1[(df1.Geography == 'Germany') & (df1.IsActiveMember == 1)].shape[0]\n",
    "\n",
    "plt.pie([france_activateM, spain_activateM, Germany_activateM], autopct='%0.1f%%', radius=1.5,\n",
    "        textprops={'fontsize':12}, shadow=True)\n",
    "plt.legend(labels=['France', 'Spain', 'Germany'])\n",
    "plt.show()"
   ]
  },
  {
   "cell_type": "code",
   "execution_count": 43,
   "metadata": {},
   "outputs": [
    {
     "data": {
      "image/png": "[encoded data removed]",
      "text/plain": [
       "<Figure size 720x504 with 1 Axes>"
      ]
     },
     "metadata": {
      "needs_background": "light"
     },
     "output_type": "display_data"
    }
   ],
   "source": [
    "active_member_ext = df[df.IsActiveMember == 1]['Exited'].value_counts()\n",
    "active_member_Notext = df[df.IsActiveMember == 0]['Exited'].value_counts()\n",
    "\n",
    "active_ext = pd.DataFrame({\n",
    "    'Not Exited' : active_member_Notext,\n",
    "    'Exited' : active_member_ext\n",
    "})\n",
    "\n",
    "\n",
    "active_ext.plot(kind='bar', color=['g', 'r'], figsize=(10,7))\n",
    "plt.xticks(rotation=1)\n",
    "plt.xlabel(\"Is Active Member\")\n",
    "plt.ylabel(\"Members\")\n",
    "plt.show()"
   ]
  },
  {
   "cell_type": "markdown",
   "metadata": {},
   "source": [
    "### **Training and Prediction**"
   ]
  },
  {
   "cell_type": "code",
   "execution_count": 44,
   "metadata": {},
   "outputs": [],
   "source": [
    "from sklearn.model_selection import train_test_split\n",
    "\n",
    "x = df2.drop(['Exited'], axis=1)\n",
    "y = df2.Exited\n",
    "\n",
    "x_train, x_test, y_train, y_test = train_test_split(x, y, test_size=0.7, random_state=1)"
   ]
  },
  {
   "cell_type": "code",
   "execution_count": 45,
   "metadata": {},
   "outputs": [
    {
     "name": "stdout",
     "output_type": "stream",
     "text": [
      "x_Train Dataset: 2994, y_Train Dataset: 2994\n",
      "x_Test Dataset: 6987, y_Test Dataset: 6987\n"
     ]
    }
   ],
   "source": [
    "print(f\"x_Train Dataset: {x_train.shape[0]}, y_Train Dataset: {y_train.shape[0]}\\nx_Test Dataset: {x_test.shape[0]}, y_Test Dataset: {y_test.shape[0]}\")"
   ]
  },
  {
   "cell_type": "code",
   "execution_count": 46,
   "metadata": {},
   "outputs": [
    {
     "data": {
      "text/html": [
       "<div>\n",
       "<style scoped>\n",
       "    .dataframe tbody tr th:only-of-type {\n",
       "        vertical-align: middle;\n",
       "    }\n",
       "\n",
       "    .dataframe tbody tr th {\n",
       "        vertical-align: top;\n",
       "    }\n",
       "\n",
       "    .dataframe thead th {\n",
       "        text-align: right;\n",
       "    }\n",
       "</style>\n",
       "<table border=\"1\" class=\"dataframe\">\n",
       "  <thead>\n",
       "    <tr style=\"text-align: right;\">\n",
       "      <th></th>\n",
       "      <th>Gender</th>\n",
       "      <th>Age</th>\n",
       "      <th>Tenure</th>\n",
       "      <th>Balance</th>\n",
       "      <th>NumOfProducts</th>\n",
       "      <th>HasCrCard</th>\n",
       "      <th>IsActiveMember</th>\n",
       "      <th>EstimatedSalary</th>\n",
       "      <th>CreditScore_Low</th>\n",
       "      <th>CreditScore_Medium</th>\n",
       "      <th>CreditScore_High</th>\n",
       "      <th>Geography_France</th>\n",
       "      <th>Geography_Germany</th>\n",
       "      <th>Geography_Spain</th>\n",
       "    </tr>\n",
       "  </thead>\n",
       "  <tbody>\n",
       "    <tr>\n",
       "      <th>813</th>\n",
       "      <td>1</td>\n",
       "      <td>-1.040551</td>\n",
       "      <td>1.032521</td>\n",
       "      <td>0.736045</td>\n",
       "      <td>3</td>\n",
       "      <td>1</td>\n",
       "      <td>1</td>\n",
       "      <td>-0.191593</td>\n",
       "      <td>1</td>\n",
       "      <td>0</td>\n",
       "      <td>0</td>\n",
       "      <td>0</td>\n",
       "      <td>1</td>\n",
       "      <td>0</td>\n",
       "    </tr>\n",
       "    <tr>\n",
       "      <th>9760</th>\n",
       "      <td>1</td>\n",
       "      <td>-0.754492</td>\n",
       "      <td>-1.042639</td>\n",
       "      <td>0.684190</td>\n",
       "      <td>1</td>\n",
       "      <td>0</td>\n",
       "      <td>0</td>\n",
       "      <td>0.864122</td>\n",
       "      <td>0</td>\n",
       "      <td>1</td>\n",
       "      <td>0</td>\n",
       "      <td>1</td>\n",
       "      <td>0</td>\n",
       "      <td>0</td>\n",
       "    </tr>\n",
       "    <tr>\n",
       "      <th>3128</th>\n",
       "      <td>0</td>\n",
       "      <td>-0.468434</td>\n",
       "      <td>0.340801</td>\n",
       "      <td>0.989350</td>\n",
       "      <td>2</td>\n",
       "      <td>0</td>\n",
       "      <td>1</td>\n",
       "      <td>0.807983</td>\n",
       "      <td>0</td>\n",
       "      <td>0</td>\n",
       "      <td>1</td>\n",
       "      <td>0</td>\n",
       "      <td>0</td>\n",
       "      <td>1</td>\n",
       "    </tr>\n",
       "    <tr>\n",
       "      <th>5871</th>\n",
       "      <td>0</td>\n",
       "      <td>-0.563787</td>\n",
       "      <td>-1.042639</td>\n",
       "      <td>2.110771</td>\n",
       "      <td>1</td>\n",
       "      <td>0</td>\n",
       "      <td>0</td>\n",
       "      <td>-0.856470</td>\n",
       "      <td>1</td>\n",
       "      <td>0</td>\n",
       "      <td>0</td>\n",
       "      <td>1</td>\n",
       "      <td>0</td>\n",
       "      <td>0</td>\n",
       "    </tr>\n",
       "    <tr>\n",
       "      <th>5273</th>\n",
       "      <td>1</td>\n",
       "      <td>-0.659139</td>\n",
       "      <td>1.378381</td>\n",
       "      <td>1.138451</td>\n",
       "      <td>1</td>\n",
       "      <td>1</td>\n",
       "      <td>0</td>\n",
       "      <td>-1.154088</td>\n",
       "      <td>1</td>\n",
       "      <td>0</td>\n",
       "      <td>0</td>\n",
       "      <td>1</td>\n",
       "      <td>0</td>\n",
       "      <td>0</td>\n",
       "    </tr>\n",
       "    <tr>\n",
       "      <th>6038</th>\n",
       "      <td>0</td>\n",
       "      <td>-1.135904</td>\n",
       "      <td>0.686661</td>\n",
       "      <td>0.455022</td>\n",
       "      <td>1</td>\n",
       "      <td>1</td>\n",
       "      <td>1</td>\n",
       "      <td>1.170932</td>\n",
       "      <td>0</td>\n",
       "      <td>1</td>\n",
       "      <td>0</td>\n",
       "      <td>0</td>\n",
       "      <td>1</td>\n",
       "      <td>0</td>\n",
       "    </tr>\n",
       "    <tr>\n",
       "      <th>3704</th>\n",
       "      <td>0</td>\n",
       "      <td>-0.468434</td>\n",
       "      <td>0.686661</td>\n",
       "      <td>-1.225277</td>\n",
       "      <td>2</td>\n",
       "      <td>1</td>\n",
       "      <td>0</td>\n",
       "      <td>1.616601</td>\n",
       "      <td>0</td>\n",
       "      <td>1</td>\n",
       "      <td>0</td>\n",
       "      <td>1</td>\n",
       "      <td>0</td>\n",
       "      <td>0</td>\n",
       "    </tr>\n",
       "    <tr>\n",
       "      <th>7996</th>\n",
       "      <td>0</td>\n",
       "      <td>-1.612668</td>\n",
       "      <td>-0.005059</td>\n",
       "      <td>0.577081</td>\n",
       "      <td>1</td>\n",
       "      <td>1</td>\n",
       "      <td>1</td>\n",
       "      <td>-0.122738</td>\n",
       "      <td>0</td>\n",
       "      <td>1</td>\n",
       "      <td>0</td>\n",
       "      <td>1</td>\n",
       "      <td>0</td>\n",
       "      <td>0</td>\n",
       "    </tr>\n",
       "    <tr>\n",
       "      <th>4326</th>\n",
       "      <td>1</td>\n",
       "      <td>-1.135904</td>\n",
       "      <td>-0.696779</td>\n",
       "      <td>-1.225277</td>\n",
       "      <td>3</td>\n",
       "      <td>1</td>\n",
       "      <td>1</td>\n",
       "      <td>0.505799</td>\n",
       "      <td>0</td>\n",
       "      <td>1</td>\n",
       "      <td>0</td>\n",
       "      <td>0</td>\n",
       "      <td>0</td>\n",
       "      <td>1</td>\n",
       "    </tr>\n",
       "    <tr>\n",
       "      <th>8715</th>\n",
       "      <td>1</td>\n",
       "      <td>0.199036</td>\n",
       "      <td>-1.734359</td>\n",
       "      <td>1.046395</td>\n",
       "      <td>1</td>\n",
       "      <td>0</td>\n",
       "      <td>1</td>\n",
       "      <td>-1.579255</td>\n",
       "      <td>1</td>\n",
       "      <td>0</td>\n",
       "      <td>0</td>\n",
       "      <td>0</td>\n",
       "      <td>1</td>\n",
       "      <td>0</td>\n",
       "    </tr>\n",
       "  </tbody>\n",
       "</table>\n",
       "</div>"
      ],
      "text/plain": [
       "      Gender       Age    Tenure   Balance  NumOfProducts  HasCrCard  \\\n",
       "813        1 -1.040551  1.032521  0.736045              3          1   \n",
       "9760       1 -0.754492 -1.042639  0.684190              1          0   \n",
       "3128       0 -0.468434  0.340801  0.989350              2          0   \n",
       "5871       0 -0.563787 -1.042639  2.110771              1          0   \n",
       "5273       1 -0.659139  1.378381  1.138451              1          1   \n",
       "6038       0 -1.135904  0.686661  0.455022              1          1   \n",
       "3704       0 -0.468434  0.686661 -1.225277              2          1   \n",
       "7996       0 -1.612668 -0.005059  0.577081              1          1   \n",
       "4326       1 -1.135904 -0.696779 -1.225277              3          1   \n",
       "8715       1  0.199036 -1.734359  1.046395              1          0   \n",
       "\n",
       "      IsActiveMember  EstimatedSalary  CreditScore_Low  CreditScore_Medium  \\\n",
       "813                1        -0.191593                1                   0   \n",
       "9760               0         0.864122                0                   1   \n",
       "3128               1         0.807983                0                   0   \n",
       "5871               0        -0.856470                1                   0   \n",
       "5273               0        -1.154088                1                   0   \n",
       "6038               1         1.170932                0                   1   \n",
       "3704               0         1.616601                0                   1   \n",
       "7996               1        -0.122738                0                   1   \n",
       "4326               1         0.505799                0                   1   \n",
       "8715               1        -1.579255                1                   0   \n",
       "\n",
       "      CreditScore_High  Geography_France  Geography_Germany  Geography_Spain  \n",
       "813                  0                 0                  1                0  \n",
       "9760                 0                 1                  0                0  \n",
       "3128                 1                 0                  0                1  \n",
       "5871                 0                 1                  0                0  \n",
       "5273                 0                 1                  0                0  \n",
       "6038                 0                 0                  1                0  \n",
       "3704                 0                 1                  0                0  \n",
       "7996                 0                 1                  0                0  \n",
       "4326                 0                 0                  0                1  \n",
       "8715                 0                 0                  1                0  "
      ]
     },
     "execution_count": 46,
     "metadata": {},
     "output_type": "execute_result"
    }
   ],
   "source": [
    "x_train[:10]"
   ]
  },
  {
   "cell_type": "code",
   "execution_count": 47,
   "metadata": {},
   "outputs": [
    {
     "data": {
      "text/plain": [
       "(2994, 14)"
      ]
     },
     "execution_count": 47,
     "metadata": {},
     "output_type": "execute_result"
    }
   ],
   "source": [
    "x_train.shape"
   ]
  },
  {
   "cell_type": "code",
   "execution_count": 48,
   "metadata": {},
   "outputs": [],
   "source": [
    "import tensorflow as tf\n",
    "from tensorflow import keras\n",
    "\n",
    "model = keras.Sequential([\n",
    "    keras.layers.Dense(8, input_shape=(14, ), activation='relu'),\n",
    "    keras.layers.Dense(2, activation='relu'),\n",
    "    keras.layers.Dense(1, activation='sigmoid')\n",
    "])"
   ]
  },
  {
   "cell_type": "code",
   "execution_count": 49,
   "metadata": {},
   "outputs": [
    {
     "name": "stdout",
     "output_type": "stream",
     "text": [
      "Model: \"sequential\"\n",
      "_________________________________________________________________\n",
      "Layer (type)                 Output Shape              Param #   \n",
      "=================================================================\n",
      "dense (Dense)                (None, 8)                 120       \n",
      "_________________________________________________________________\n",
      "dense_1 (Dense)              (None, 2)                 18        \n",
      "_________________________________________________________________\n",
      "dense_2 (Dense)              (None, 1)                 3         \n",
      "=================================================================\n",
      "Total params: 141\n",
      "Trainable params: 141\n",
      "Non-trainable params: 0\n",
      "_________________________________________________________________\n"
     ]
    }
   ],
   "source": [
    "model.summary()"
   ]
  },
  {
   "cell_type": "code",
   "execution_count": 50,
   "metadata": {},
   "outputs": [
    {
     "name": "stdout",
     "output_type": "stream",
     "text": [
      "Epoch 1/100\n",
      "75/75 [==============================] - 0s 2ms/step - loss: 0.8227 - acc: 0.4109 - val_loss: 0.7395 - val_acc: 0.5376\n",
      "Epoch 2/100\n",
      "75/75 [==============================] - 0s 870us/step - loss: 0.6985 - acc: 0.6271 - val_loss: 0.6719 - val_acc: 0.7129\n",
      "Epoch 3/100\n",
      "75/75 [==============================] - 0s 868us/step - loss: 0.6592 - acc: 0.7399 - val_loss: 0.6432 - val_acc: 0.7846\n",
      "Epoch 4/100\n",
      "75/75 [==============================] - 0s 893us/step - loss: 0.6388 - acc: 0.7766 - val_loss: 0.6241 - val_acc: 0.8097\n",
      "Epoch 5/100\n",
      "75/75 [==============================] - 0s 884us/step - loss: 0.6235 - acc: 0.7866 - val_loss: 0.6090 - val_acc: 0.8130\n",
      "Epoch 6/100\n",
      "75/75 [==============================] - 0s 797us/step - loss: 0.6104 - acc: 0.7871 - val_loss: 0.5956 - val_acc: 0.8130\n",
      "Epoch 7/100\n",
      "75/75 [==============================] - 0s 792us/step - loss: 0.5985 - acc: 0.7871 - val_loss: 0.5828 - val_acc: 0.8147\n",
      "Epoch 8/100\n",
      "75/75 [==============================] - 0s 833us/step - loss: 0.5875 - acc: 0.7900 - val_loss: 0.5708 - val_acc: 0.8164\n",
      "Epoch 9/100\n",
      "75/75 [==============================] - 0s 832us/step - loss: 0.5769 - acc: 0.7908 - val_loss: 0.5588 - val_acc: 0.8197\n",
      "Epoch 10/100\n",
      "75/75 [==============================] - 0s 795us/step - loss: 0.5665 - acc: 0.7937 - val_loss: 0.5477 - val_acc: 0.8214\n",
      "Epoch 11/100\n",
      "75/75 [==============================] - 0s 848us/step - loss: 0.5562 - acc: 0.7962 - val_loss: 0.5370 - val_acc: 0.8197\n",
      "Epoch 12/100\n",
      "75/75 [==============================] - 0s 812us/step - loss: 0.5464 - acc: 0.7979 - val_loss: 0.5268 - val_acc: 0.8280\n",
      "Epoch 13/100\n",
      "75/75 [==============================] - 0s 881us/step - loss: 0.5370 - acc: 0.8004 - val_loss: 0.5172 - val_acc: 0.8381\n",
      "Epoch 14/100\n",
      "75/75 [==============================] - 0s 801us/step - loss: 0.5283 - acc: 0.8050 - val_loss: 0.5081 - val_acc: 0.8397\n",
      "Epoch 15/100\n",
      "75/75 [==============================] - 0s 859us/step - loss: 0.5200 - acc: 0.8088 - val_loss: 0.4998 - val_acc: 0.8381\n",
      "Epoch 16/100\n",
      "75/75 [==============================] - 0s 852us/step - loss: 0.5122 - acc: 0.8096 - val_loss: 0.4922 - val_acc: 0.8331\n",
      "Epoch 17/100\n",
      "75/75 [==============================] - 0s 768us/step - loss: 0.5045 - acc: 0.8109 - val_loss: 0.4848 - val_acc: 0.8314\n",
      "Epoch 18/100\n",
      "75/75 [==============================] - 0s 827us/step - loss: 0.4977 - acc: 0.8146 - val_loss: 0.4777 - val_acc: 0.8314\n",
      "Epoch 19/100\n",
      "75/75 [==============================] - 0s 792us/step - loss: 0.4913 - acc: 0.8142 - val_loss: 0.4710 - val_acc: 0.8280\n",
      "Epoch 20/100\n",
      "75/75 [==============================] - 0s 839us/step - loss: 0.4853 - acc: 0.8163 - val_loss: 0.4655 - val_acc: 0.8314\n",
      "Epoch 21/100\n",
      "75/75 [==============================] - 0s 914us/step - loss: 0.4795 - acc: 0.8205 - val_loss: 0.4605 - val_acc: 0.8347\n",
      "Epoch 22/100\n",
      "75/75 [==============================] - 0s 865us/step - loss: 0.4744 - acc: 0.8184 - val_loss: 0.4551 - val_acc: 0.8331\n",
      "Epoch 23/100\n",
      "75/75 [==============================] - 0s 1ms/step - loss: 0.4690 - acc: 0.8192 - val_loss: 0.4510 - val_acc: 0.8331\n",
      "Epoch 24/100\n",
      "75/75 [==============================] - 0s 885us/step - loss: 0.4642 - acc: 0.8188 - val_loss: 0.4457 - val_acc: 0.8331\n",
      "Epoch 25/100\n",
      "75/75 [==============================] - 0s 853us/step - loss: 0.4597 - acc: 0.8209 - val_loss: 0.4423 - val_acc: 0.8381\n",
      "Epoch 26/100\n",
      "75/75 [==============================] - 0s 787us/step - loss: 0.4553 - acc: 0.8238 - val_loss: 0.4385 - val_acc: 0.8397\n",
      "Epoch 27/100\n",
      "75/75 [==============================] - 0s 885us/step - loss: 0.4513 - acc: 0.8242 - val_loss: 0.4352 - val_acc: 0.8381\n",
      "Epoch 28/100\n",
      "75/75 [==============================] - 0s 926us/step - loss: 0.4469 - acc: 0.8246 - val_loss: 0.4313 - val_acc: 0.8364\n",
      "Epoch 29/100\n",
      "75/75 [==============================] - 0s 889us/step - loss: 0.4431 - acc: 0.8259 - val_loss: 0.4281 - val_acc: 0.8397\n",
      "Epoch 30/100\n",
      "75/75 [==============================] - 0s 914us/step - loss: 0.4398 - acc: 0.8263 - val_loss: 0.4252 - val_acc: 0.8397\n",
      "Epoch 31/100\n",
      "75/75 [==============================] - 0s 952us/step - loss: 0.4365 - acc: 0.8296 - val_loss: 0.4218 - val_acc: 0.8414\n",
      "Epoch 32/100\n",
      "75/75 [==============================] - 0s 891us/step - loss: 0.4331 - acc: 0.8326 - val_loss: 0.4200 - val_acc: 0.8447\n",
      "Epoch 33/100\n",
      "75/75 [==============================] - 0s 892us/step - loss: 0.4302 - acc: 0.8305 - val_loss: 0.4169 - val_acc: 0.8447\n",
      "Epoch 34/100\n",
      "75/75 [==============================] - 0s 832us/step - loss: 0.4273 - acc: 0.8313 - val_loss: 0.4134 - val_acc: 0.8464\n",
      "Epoch 35/100\n",
      "75/75 [==============================] - 0s 1ms/step - loss: 0.4250 - acc: 0.8334 - val_loss: 0.4127 - val_acc: 0.8497\n",
      "Epoch 36/100\n",
      "75/75 [==============================] - 0s 924us/step - loss: 0.4215 - acc: 0.8334 - val_loss: 0.4103 - val_acc: 0.8531\n",
      "Epoch 37/100\n",
      "75/75 [==============================] - 0s 878us/step - loss: 0.4189 - acc: 0.8342 - val_loss: 0.4073 - val_acc: 0.8531\n",
      "Epoch 38/100\n",
      "75/75 [==============================] - 0s 875us/step - loss: 0.4162 - acc: 0.8359 - val_loss: 0.4058 - val_acc: 0.8548\n",
      "Epoch 39/100\n",
      "75/75 [==============================] - 0s 859us/step - loss: 0.4140 - acc: 0.8359 - val_loss: 0.4035 - val_acc: 0.8548\n",
      "Epoch 40/100\n",
      "75/75 [==============================] - 0s 955us/step - loss: 0.4115 - acc: 0.8355 - val_loss: 0.4017 - val_acc: 0.8564\n",
      "Epoch 41/100\n",
      "75/75 [==============================] - 0s 947us/step - loss: 0.4095 - acc: 0.8372 - val_loss: 0.4014 - val_acc: 0.8514\n",
      "Epoch 42/100\n",
      "75/75 [==============================] - 0s 946us/step - loss: 0.4073 - acc: 0.8405 - val_loss: 0.4002 - val_acc: 0.8497\n",
      "Epoch 43/100\n",
      "75/75 [==============================] - 0s 847us/step - loss: 0.4053 - acc: 0.8397 - val_loss: 0.3970 - val_acc: 0.8531\n",
      "Epoch 44/100\n",
      "75/75 [==============================] - 0s 846us/step - loss: 0.4038 - acc: 0.8401 - val_loss: 0.3980 - val_acc: 0.8497\n",
      "Epoch 45/100\n",
      "75/75 [==============================] - 0s 769us/step - loss: 0.4009 - acc: 0.8413 - val_loss: 0.3938 - val_acc: 0.8531\n",
      "Epoch 46/100\n",
      "75/75 [==============================] - 0s 881us/step - loss: 0.3989 - acc: 0.8434 - val_loss: 0.3947 - val_acc: 0.8531\n",
      "Epoch 47/100\n",
      "75/75 [==============================] - 0s 834us/step - loss: 0.3975 - acc: 0.8409 - val_loss: 0.3907 - val_acc: 0.8514\n",
      "Epoch 48/100\n",
      "75/75 [==============================] - 0s 782us/step - loss: 0.3954 - acc: 0.8434 - val_loss: 0.3925 - val_acc: 0.8514\n",
      "Epoch 49/100\n",
      "75/75 [==============================] - 0s 823us/step - loss: 0.3936 - acc: 0.8459 - val_loss: 0.3886 - val_acc: 0.8548\n",
      "Epoch 50/100\n",
      "75/75 [==============================] - 0s 881us/step - loss: 0.3915 - acc: 0.8434 - val_loss: 0.3888 - val_acc: 0.8531\n",
      "Epoch 51/100\n",
      "75/75 [==============================] - 0s 884us/step - loss: 0.3899 - acc: 0.8459 - val_loss: 0.3903 - val_acc: 0.8531\n",
      "Epoch 52/100\n",
      "75/75 [==============================] - 0s 906us/step - loss: 0.3884 - acc: 0.8455 - val_loss: 0.3872 - val_acc: 0.8548\n",
      "Epoch 53/100\n",
      "75/75 [==============================] - 0s 890us/step - loss: 0.3867 - acc: 0.8476 - val_loss: 0.3862 - val_acc: 0.8548\n",
      "Epoch 54/100\n",
      "75/75 [==============================] - 0s 986us/step - loss: 0.3850 - acc: 0.8493 - val_loss: 0.3854 - val_acc: 0.8564\n",
      "Epoch 55/100\n",
      "75/75 [==============================] - 0s 885us/step - loss: 0.3833 - acc: 0.8505 - val_loss: 0.3876 - val_acc: 0.8548\n",
      "Epoch 56/100\n",
      "75/75 [==============================] - 0s 903us/step - loss: 0.3818 - acc: 0.8514 - val_loss: 0.3822 - val_acc: 0.8598\n",
      "Epoch 57/100\n",
      "75/75 [==============================] - 0s 844us/step - loss: 0.3799 - acc: 0.8522 - val_loss: 0.3819 - val_acc: 0.8581\n",
      "Epoch 58/100\n",
      "75/75 [==============================] - 0s 840us/step - loss: 0.3781 - acc: 0.8514 - val_loss: 0.3799 - val_acc: 0.8598\n",
      "Epoch 59/100\n",
      "75/75 [==============================] - 0s 933us/step - loss: 0.3766 - acc: 0.8534 - val_loss: 0.3777 - val_acc: 0.8598\n",
      "Epoch 60/100\n",
      "75/75 [==============================] - 0s 922us/step - loss: 0.3746 - acc: 0.8543 - val_loss: 0.3813 - val_acc: 0.8598\n",
      "Epoch 61/100\n",
      "75/75 [==============================] - 0s 884us/step - loss: 0.3735 - acc: 0.8543 - val_loss: 0.3755 - val_acc: 0.8614\n",
      "Epoch 62/100\n",
      "75/75 [==============================] - 0s 929us/step - loss: 0.3720 - acc: 0.8551 - val_loss: 0.3791 - val_acc: 0.8631\n",
      "Epoch 63/100\n",
      "75/75 [==============================] - 0s 901us/step - loss: 0.3710 - acc: 0.8555 - val_loss: 0.3827 - val_acc: 0.8598\n",
      "Epoch 64/100\n",
      "75/75 [==============================] - 0s 835us/step - loss: 0.3688 - acc: 0.8564 - val_loss: 0.3725 - val_acc: 0.8598\n",
      "Epoch 65/100\n",
      "75/75 [==============================] - 0s 857us/step - loss: 0.3673 - acc: 0.8580 - val_loss: 0.3768 - val_acc: 0.8614\n",
      "Epoch 66/100\n",
      "75/75 [==============================] - 0s 826us/step - loss: 0.3663 - acc: 0.8597 - val_loss: 0.3733 - val_acc: 0.8648\n",
      "Epoch 67/100\n",
      "75/75 [==============================] - 0s 881us/step - loss: 0.3645 - acc: 0.8585 - val_loss: 0.3713 - val_acc: 0.8648\n",
      "Epoch 68/100\n",
      "75/75 [==============================] - 0s 1ms/step - loss: 0.3634 - acc: 0.8601 - val_loss: 0.3695 - val_acc: 0.8631\n",
      "Epoch 69/100\n",
      "75/75 [==============================] - 0s 963us/step - loss: 0.3627 - acc: 0.8614 - val_loss: 0.3692 - val_acc: 0.8631\n",
      "Epoch 70/100\n",
      "75/75 [==============================] - 0s 944us/step - loss: 0.3608 - acc: 0.8610 - val_loss: 0.3680 - val_acc: 0.8614\n",
      "Epoch 71/100\n",
      "75/75 [==============================] - 0s 870us/step - loss: 0.3598 - acc: 0.8618 - val_loss: 0.3681 - val_acc: 0.8631\n",
      "Epoch 72/100\n",
      "75/75 [==============================] - 0s 891us/step - loss: 0.3589 - acc: 0.8618 - val_loss: 0.3659 - val_acc: 0.8631\n",
      "Epoch 73/100\n",
      "75/75 [==============================] - 0s 757us/step - loss: 0.3582 - acc: 0.8656 - val_loss: 0.3693 - val_acc: 0.8664\n",
      "Epoch 74/100\n",
      "75/75 [==============================] - 0s 810us/step - loss: 0.3563 - acc: 0.8626 - val_loss: 0.3649 - val_acc: 0.8631\n",
      "Epoch 75/100\n",
      "75/75 [==============================] - 0s 845us/step - loss: 0.3545 - acc: 0.8676 - val_loss: 0.3722 - val_acc: 0.8614\n",
      "Epoch 76/100\n",
      "75/75 [==============================] - 0s 886us/step - loss: 0.3552 - acc: 0.8630 - val_loss: 0.3675 - val_acc: 0.8664\n",
      "Epoch 77/100\n",
      "75/75 [==============================] - 0s 828us/step - loss: 0.3548 - acc: 0.8639 - val_loss: 0.3645 - val_acc: 0.8598\n",
      "Epoch 78/100\n",
      "75/75 [==============================] - 0s 874us/step - loss: 0.3530 - acc: 0.8664 - val_loss: 0.3648 - val_acc: 0.8681\n",
      "Epoch 79/100\n",
      "75/75 [==============================] - 0s 897us/step - loss: 0.3523 - acc: 0.8664 - val_loss: 0.3653 - val_acc: 0.8664\n",
      "Epoch 80/100\n",
      "75/75 [==============================] - 0s 945us/step - loss: 0.3519 - acc: 0.8639 - val_loss: 0.3650 - val_acc: 0.8664\n",
      "Epoch 81/100\n",
      "75/75 [==============================] - 0s 856us/step - loss: 0.3504 - acc: 0.8660 - val_loss: 0.3633 - val_acc: 0.8614\n",
      "Epoch 82/100\n",
      "75/75 [==============================] - 0s 913us/step - loss: 0.3506 - acc: 0.8635 - val_loss: 0.3657 - val_acc: 0.8664\n",
      "Epoch 83/100\n",
      "75/75 [==============================] - 0s 943us/step - loss: 0.3493 - acc: 0.8664 - val_loss: 0.3650 - val_acc: 0.8664\n",
      "Epoch 84/100\n",
      "75/75 [==============================] - 0s 815us/step - loss: 0.3483 - acc: 0.8660 - val_loss: 0.3660 - val_acc: 0.8648\n",
      "Epoch 85/100\n",
      "75/75 [==============================] - 0s 876us/step - loss: 0.3474 - acc: 0.8664 - val_loss: 0.3632 - val_acc: 0.8631\n",
      "Epoch 86/100\n",
      "75/75 [==============================] - 0s 857us/step - loss: 0.3469 - acc: 0.8689 - val_loss: 0.3609 - val_acc: 0.8614\n",
      "Epoch 87/100\n",
      "75/75 [==============================] - 0s 864us/step - loss: 0.3466 - acc: 0.8656 - val_loss: 0.3613 - val_acc: 0.8631\n",
      "Epoch 88/100\n",
      "75/75 [==============================] - 0s 860us/step - loss: 0.3459 - acc: 0.8664 - val_loss: 0.3612 - val_acc: 0.8648\n",
      "Epoch 89/100\n",
      "75/75 [==============================] - 0s 870us/step - loss: 0.3469 - acc: 0.8647 - val_loss: 0.3602 - val_acc: 0.8648\n",
      "Epoch 90/100\n",
      "75/75 [==============================] - 0s 850us/step - loss: 0.3446 - acc: 0.8656 - val_loss: 0.3610 - val_acc: 0.8631\n",
      "Epoch 91/100\n",
      "75/75 [==============================] - 0s 840us/step - loss: 0.3443 - acc: 0.8681 - val_loss: 0.3597 - val_acc: 0.8631\n",
      "Epoch 92/100\n",
      "75/75 [==============================] - 0s 896us/step - loss: 0.3430 - acc: 0.8664 - val_loss: 0.3593 - val_acc: 0.8631\n",
      "Epoch 93/100\n",
      "75/75 [==============================] - 0s 827us/step - loss: 0.3428 - acc: 0.8643 - val_loss: 0.3602 - val_acc: 0.8648\n",
      "Epoch 94/100\n",
      "75/75 [==============================] - 0s 885us/step - loss: 0.3424 - acc: 0.8676 - val_loss: 0.3573 - val_acc: 0.8598\n",
      "Epoch 95/100\n",
      "75/75 [==============================] - 0s 835us/step - loss: 0.3413 - acc: 0.8664 - val_loss: 0.3574 - val_acc: 0.8648\n",
      "Epoch 96/100\n",
      "75/75 [==============================] - 0s 830us/step - loss: 0.3413 - acc: 0.8660 - val_loss: 0.3555 - val_acc: 0.8581\n",
      "Epoch 97/100\n",
      "75/75 [==============================] - 0s 869us/step - loss: 0.3405 - acc: 0.8668 - val_loss: 0.3572 - val_acc: 0.8631\n",
      "Epoch 98/100\n",
      "75/75 [==============================] - 0s 833us/step - loss: 0.3403 - acc: 0.8676 - val_loss: 0.3581 - val_acc: 0.8648\n",
      "Epoch 99/100\n",
      "75/75 [==============================] - 0s 853us/step - loss: 0.3397 - acc: 0.8689 - val_loss: 0.3593 - val_acc: 0.8648\n",
      "Epoch 100/100\n",
      "75/75 [==============================] - 0s 824us/step - loss: 0.3391 - acc: 0.8672 - val_loss: 0.3552 - val_acc: 0.8614\n"
     ]
    }
   ],
   "source": [
    "model.compile(optimizer='adam',\n",
    "              loss='binary_crossentropy',\n",
    "              metrics=['acc'])\n",
    "\n",
    "history = model.fit(x_train, y_train, epochs=100, validation_split=0.2)"
   ]
  },
  {
   "cell_type": "code",
   "execution_count": 51,
   "metadata": {},
   "outputs": [
    {
     "data": {
      "image/png": "[encoded data removed]",
      "text/plain": [
       "<Figure size 504x360 with 1 Axes>"
      ]
     },
     "metadata": {
      "needs_background": "light"
     },
     "output_type": "display_data"
    },
    {
     "data": {
      "image/png": "[encoded data removed]",
      "text/plain": [
       "<Figure size 504x360 with 1 Axes>"
      ]
     },
     "metadata": {
      "needs_background": "light"
     },
     "output_type": "display_data"
    }
   ],
   "source": [
    "tr_acc = history.history['acc']\n",
    "val_acc = history.history['val_acc']\n",
    "\n",
    "tr_loss = history.history['loss']\n",
    "val_loss = history.history['val_loss']\n",
    "\n",
    "\n",
    "plt.figure(figsize=(7,5))\n",
    "\n",
    "plt.subplot(1,1,1)\n",
    "plt.plot(tr_acc, color='r', linestyle='-', label='Training Accuracy')\n",
    "plt.plot(val_acc, color='b', linestyle='-', label='Validation Accuracy')\n",
    "plt.title('Training Accuracy vs Validation Accuracy')\n",
    "plt.xlabel('Epoch')\n",
    "plt.ylabel('Accuracy')\n",
    "plt.legend()\n",
    "plt.grid()\n",
    "\n",
    "\n",
    "plt.figure(figsize=(7,5))\n",
    "\n",
    "plt.subplot(1,1,1)\n",
    "plt.plot(tr_loss, color='r', linestyle='-', label='Training Loss')\n",
    "plt.plot(val_loss, color='b', linestyle='-', label='Validation Loss')\n",
    "plt.title('Training Loss vs Validation Loss')\n",
    "plt.xlabel('Epoch')\n",
    "plt.ylabel('Loss')\n",
    "plt.legend()\n",
    "plt.grid()\n",
    "\n",
    "\n",
    "plt.show()"
   ]
  },
  {
   "cell_type": "code",
   "execution_count": 52,
   "metadata": {},
   "outputs": [
    {
     "name": "stdout",
     "output_type": "stream",
     "text": [
      "219/219 [==============================] - 0s 486us/step - loss: 0.3656 - acc: 0.8499\n"
     ]
    }
   ],
   "source": [
    "accuracy = model.evaluate(x_test, y_test)"
   ]
  },
  {
   "cell_type": "code",
   "execution_count": 53,
   "metadata": {},
   "outputs": [
    {
     "name": "stdout",
     "output_type": "stream",
     "text": [
      "Accuracy: 0.85\n"
     ]
    }
   ],
   "source": [
    "print(f\"Accuracy: {accuracy[1]:.2f}\")"
   ]
  },
  {
   "cell_type": "code",
   "execution_count": 54,
   "metadata": {},
   "outputs": [
    {
     "data": {
      "text/plain": [
       "array([[0.10553143],\n",
       "       [0.05791407],\n",
       "       [0.6338875 ],\n",
       "       [0.05791407],\n",
       "       [0.05791407]], dtype=float32)"
      ]
     },
     "execution_count": 54,
     "metadata": {},
     "output_type": "execute_result"
    }
   ],
   "source": [
    "y_log = model.predict(x_test)\n",
    "y_log[:5]"
   ]
  },
  {
   "cell_type": "code",
   "execution_count": 55,
   "metadata": {},
   "outputs": [],
   "source": [
    "y_pred = []\n",
    "for i in y_log:\n",
    "    if i > 0.5:\n",
    "        y_pred.append(1)\n",
    "    else:\n",
    "        y_pred.append(0)"
   ]
  },
  {
   "cell_type": "code",
   "execution_count": 56,
   "metadata": {},
   "outputs": [
    {
     "data": {
      "text/plain": [
       "2774    0\n",
       "4119    0\n",
       "6857    1\n",
       "8640    0\n",
       "6881    0\n",
       "966     0\n",
       "1143    0\n",
       "5619    0\n",
       "5452    1\n",
       "1652    0\n",
       "3069    1\n",
       "620     0\n",
       "807     0\n",
       "6300    0\n",
       "5806    0\n",
       "1581    0\n",
       "4754    1\n",
       "9233    0\n",
       "5488    0\n",
       "4085    0\n",
       "Name: Exited, dtype: int64"
      ]
     },
     "execution_count": 56,
     "metadata": {},
     "output_type": "execute_result"
    }
   ],
   "source": [
    "y_test[0:20]"
   ]
  },
  {
   "cell_type": "code",
   "execution_count": 57,
   "metadata": {},
   "outputs": [
    {
     "data": {
      "text/plain": [
       "[0, 0, 1, 0, 0, 0, 0, 0, 1, 0, 0, 0, 0, 0, 0, 0, 1, 0, 0, 0]"
      ]
     },
     "execution_count": 57,
     "metadata": {},
     "output_type": "execute_result"
    }
   ],
   "source": [
    "y_pred[0:20]"
   ]
  }
 ],
 "metadata": {
  "kernelspec": {
   "display_name": "tensorflow",
   "language": "python",
   "name": "python3"
  },
  "language_info": {
   "codemirror_mode": {
    "name": "ipython",
    "version": 3
   },
   "file_extension": ".py",
   "mimetype": "text/x-python",
   "name": "python",
   "nbconvert_exporter": "python",
   "pygments_lexer": "ipython3",
   "version": "3.6.13"
  }
 },
 "nbformat": 4,
 "nbformat_minor": 2
}
