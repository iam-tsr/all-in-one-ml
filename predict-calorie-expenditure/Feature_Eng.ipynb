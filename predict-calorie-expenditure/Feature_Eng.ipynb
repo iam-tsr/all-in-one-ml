{
 "cells": [
  {
   "metadata": {
    "ExecuteTime": {
     "end_time": "2025-05-19T12:08:30.435867Z",
     "start_time": "2025-05-19T12:08:30.434449Z"
    }
   },
   "cell_type": "code",
   "source": "import pandas as pd",
   "id": "a9739c245191a32d",
   "outputs": [],
   "execution_count": 360
  },
  {
   "metadata": {
    "ExecuteTime": {
     "end_time": "2025-05-19T12:08:30.648465Z",
     "start_time": "2025-05-19T12:08:30.491347Z"
    }
   },
   "cell_type": "code",
   "source": [
    "train_df = pd.read_csv('/mnt/Linux/Learning/Python/Kaggle/Predict Calorie Expenditure/train.csv')\n",
    "train_df.head()"
   ],
   "id": "4333f8c8605aae33",
   "outputs": [
    {
     "data": {
      "text/plain": [
       "   id     Sex  Age  Height  Weight  Duration  Heart_Rate  Body_Temp  Calories\n",
       "0   0    male   36   189.0    82.0      26.0       101.0       41.0     150.0\n",
       "1   1  female   64   163.0    60.0       8.0        85.0       39.7      34.0\n",
       "2   2  female   51   161.0    64.0       7.0        84.0       39.8      29.0\n",
       "3   3    male   20   192.0    90.0      25.0       105.0       40.7     140.0\n",
       "4   4  female   38   166.0    61.0      25.0       102.0       40.6     146.0"
      ],
      "text/html": [
       "<div>\n",
       "<style scoped>\n",
       "    .dataframe tbody tr th:only-of-type {\n",
       "        vertical-align: middle;\n",
       "    }\n",
       "\n",
       "    .dataframe tbody tr th {\n",
       "        vertical-align: top;\n",
       "    }\n",
       "\n",
       "    .dataframe thead th {\n",
       "        text-align: right;\n",
       "    }\n",
       "</style>\n",
       "<table border=\"1\" class=\"dataframe\">\n",
       "  <thead>\n",
       "    <tr style=\"text-align: right;\">\n",
       "      <th></th>\n",
       "      <th>id</th>\n",
       "      <th>Sex</th>\n",
       "      <th>Age</th>\n",
       "      <th>Height</th>\n",
       "      <th>Weight</th>\n",
       "      <th>Duration</th>\n",
       "      <th>Heart_Rate</th>\n",
       "      <th>Body_Temp</th>\n",
       "      <th>Calories</th>\n",
       "    </tr>\n",
       "  </thead>\n",
       "  <tbody>\n",
       "    <tr>\n",
       "      <th>0</th>\n",
       "      <td>0</td>\n",
       "      <td>male</td>\n",
       "      <td>36</td>\n",
       "      <td>189.0</td>\n",
       "      <td>82.0</td>\n",
       "      <td>26.0</td>\n",
       "      <td>101.0</td>\n",
       "      <td>41.0</td>\n",
       "      <td>150.0</td>\n",
       "    </tr>\n",
       "    <tr>\n",
       "      <th>1</th>\n",
       "      <td>1</td>\n",
       "      <td>female</td>\n",
       "      <td>64</td>\n",
       "      <td>163.0</td>\n",
       "      <td>60.0</td>\n",
       "      <td>8.0</td>\n",
       "      <td>85.0</td>\n",
       "      <td>39.7</td>\n",
       "      <td>34.0</td>\n",
       "    </tr>\n",
       "    <tr>\n",
       "      <th>2</th>\n",
       "      <td>2</td>\n",
       "      <td>female</td>\n",
       "      <td>51</td>\n",
       "      <td>161.0</td>\n",
       "      <td>64.0</td>\n",
       "      <td>7.0</td>\n",
       "      <td>84.0</td>\n",
       "      <td>39.8</td>\n",
       "      <td>29.0</td>\n",
       "    </tr>\n",
       "    <tr>\n",
       "      <th>3</th>\n",
       "      <td>3</td>\n",
       "      <td>male</td>\n",
       "      <td>20</td>\n",
       "      <td>192.0</td>\n",
       "      <td>90.0</td>\n",
       "      <td>25.0</td>\n",
       "      <td>105.0</td>\n",
       "      <td>40.7</td>\n",
       "      <td>140.0</td>\n",
       "    </tr>\n",
       "    <tr>\n",
       "      <th>4</th>\n",
       "      <td>4</td>\n",
       "      <td>female</td>\n",
       "      <td>38</td>\n",
       "      <td>166.0</td>\n",
       "      <td>61.0</td>\n",
       "      <td>25.0</td>\n",
       "      <td>102.0</td>\n",
       "      <td>40.6</td>\n",
       "      <td>146.0</td>\n",
       "    </tr>\n",
       "  </tbody>\n",
       "</table>\n",
       "</div>"
      ]
     },
     "execution_count": 361,
     "metadata": {},
     "output_type": "execute_result"
    }
   ],
   "execution_count": 361
  },
  {
   "metadata": {
    "ExecuteTime": {
     "end_time": "2025-05-19T12:08:30.770570Z",
     "start_time": "2025-05-19T12:08:30.676841Z"
    }
   },
   "cell_type": "code",
   "source": "train_df.describe()",
   "id": "d1e6de92be6548cb",
   "outputs": [
    {
     "data": {
      "text/plain": [
       "                  id            Age         Height         Weight  \\\n",
       "count  750000.000000  750000.000000  750000.000000  750000.000000   \n",
       "mean   374999.500000      41.420404     174.697685      75.145668   \n",
       "std    216506.495284      15.175049      12.824496      13.982704   \n",
       "min         0.000000      20.000000     126.000000      36.000000   \n",
       "25%    187499.750000      28.000000     164.000000      63.000000   \n",
       "50%    374999.500000      40.000000     174.000000      74.000000   \n",
       "75%    562499.250000      52.000000     185.000000      87.000000   \n",
       "max    749999.000000      79.000000     222.000000     132.000000   \n",
       "\n",
       "            Duration     Heart_Rate      Body_Temp       Calories  \n",
       "count  750000.000000  750000.000000  750000.000000  750000.000000  \n",
       "mean       15.421015      95.483995      40.036253      88.282781  \n",
       "std         8.354095       9.449845       0.779875      62.395349  \n",
       "min         1.000000      67.000000      37.100000       1.000000  \n",
       "25%         8.000000      88.000000      39.600000      34.000000  \n",
       "50%        15.000000      95.000000      40.300000      77.000000  \n",
       "75%        23.000000     103.000000      40.700000     136.000000  \n",
       "max        30.000000     128.000000      41.500000     314.000000  "
      ],
      "text/html": [
       "<div>\n",
       "<style scoped>\n",
       "    .dataframe tbody tr th:only-of-type {\n",
       "        vertical-align: middle;\n",
       "    }\n",
       "\n",
       "    .dataframe tbody tr th {\n",
       "        vertical-align: top;\n",
       "    }\n",
       "\n",
       "    .dataframe thead th {\n",
       "        text-align: right;\n",
       "    }\n",
       "</style>\n",
       "<table border=\"1\" class=\"dataframe\">\n",
       "  <thead>\n",
       "    <tr style=\"text-align: right;\">\n",
       "      <th></th>\n",
       "      <th>id</th>\n",
       "      <th>Age</th>\n",
       "      <th>Height</th>\n",
       "      <th>Weight</th>\n",
       "      <th>Duration</th>\n",
       "      <th>Heart_Rate</th>\n",
       "      <th>Body_Temp</th>\n",
       "      <th>Calories</th>\n",
       "    </tr>\n",
       "  </thead>\n",
       "  <tbody>\n",
       "    <tr>\n",
       "      <th>count</th>\n",
       "      <td>750000.000000</td>\n",
       "      <td>750000.000000</td>\n",
       "      <td>750000.000000</td>\n",
       "      <td>750000.000000</td>\n",
       "      <td>750000.000000</td>\n",
       "      <td>750000.000000</td>\n",
       "      <td>750000.000000</td>\n",
       "      <td>750000.000000</td>\n",
       "    </tr>\n",
       "    <tr>\n",
       "      <th>mean</th>\n",
       "      <td>374999.500000</td>\n",
       "      <td>41.420404</td>\n",
       "      <td>174.697685</td>\n",
       "      <td>75.145668</td>\n",
       "      <td>15.421015</td>\n",
       "      <td>95.483995</td>\n",
       "      <td>40.036253</td>\n",
       "      <td>88.282781</td>\n",
       "    </tr>\n",
       "    <tr>\n",
       "      <th>std</th>\n",
       "      <td>216506.495284</td>\n",
       "      <td>15.175049</td>\n",
       "      <td>12.824496</td>\n",
       "      <td>13.982704</td>\n",
       "      <td>8.354095</td>\n",
       "      <td>9.449845</td>\n",
       "      <td>0.779875</td>\n",
       "      <td>62.395349</td>\n",
       "    </tr>\n",
       "    <tr>\n",
       "      <th>min</th>\n",
       "      <td>0.000000</td>\n",
       "      <td>20.000000</td>\n",
       "      <td>126.000000</td>\n",
       "      <td>36.000000</td>\n",
       "      <td>1.000000</td>\n",
       "      <td>67.000000</td>\n",
       "      <td>37.100000</td>\n",
       "      <td>1.000000</td>\n",
       "    </tr>\n",
       "    <tr>\n",
       "      <th>25%</th>\n",
       "      <td>187499.750000</td>\n",
       "      <td>28.000000</td>\n",
       "      <td>164.000000</td>\n",
       "      <td>63.000000</td>\n",
       "      <td>8.000000</td>\n",
       "      <td>88.000000</td>\n",
       "      <td>39.600000</td>\n",
       "      <td>34.000000</td>\n",
       "    </tr>\n",
       "    <tr>\n",
       "      <th>50%</th>\n",
       "      <td>374999.500000</td>\n",
       "      <td>40.000000</td>\n",
       "      <td>174.000000</td>\n",
       "      <td>74.000000</td>\n",
       "      <td>15.000000</td>\n",
       "      <td>95.000000</td>\n",
       "      <td>40.300000</td>\n",
       "      <td>77.000000</td>\n",
       "    </tr>\n",
       "    <tr>\n",
       "      <th>75%</th>\n",
       "      <td>562499.250000</td>\n",
       "      <td>52.000000</td>\n",
       "      <td>185.000000</td>\n",
       "      <td>87.000000</td>\n",
       "      <td>23.000000</td>\n",
       "      <td>103.000000</td>\n",
       "      <td>40.700000</td>\n",
       "      <td>136.000000</td>\n",
       "    </tr>\n",
       "    <tr>\n",
       "      <th>max</th>\n",
       "      <td>749999.000000</td>\n",
       "      <td>79.000000</td>\n",
       "      <td>222.000000</td>\n",
       "      <td>132.000000</td>\n",
       "      <td>30.000000</td>\n",
       "      <td>128.000000</td>\n",
       "      <td>41.500000</td>\n",
       "      <td>314.000000</td>\n",
       "    </tr>\n",
       "  </tbody>\n",
       "</table>\n",
       "</div>"
      ]
     },
     "execution_count": 362,
     "metadata": {},
     "output_type": "execute_result"
    }
   ],
   "execution_count": 362
  },
  {
   "metadata": {
    "ExecuteTime": {
     "end_time": "2025-05-19T12:26:04.314703Z",
     "start_time": "2025-05-19T12:26:04.263085Z"
    }
   },
   "cell_type": "code",
   "source": "test_df = pd.read_csv('/mnt/Linux/Learning/Python/Kaggle/Predict Calorie Expenditure/test.csv')",
   "id": "2255bdbe2687798a",
   "outputs": [],
   "execution_count": 378
  },
  {
   "metadata": {
    "ExecuteTime": {
     "end_time": "2025-05-19T12:08:30.897239Z",
     "start_time": "2025-05-19T12:08:30.895576Z"
    }
   },
   "cell_type": "code",
   "source": "train_df.columns",
   "id": "5bce8ea5b0223f87",
   "outputs": [
    {
     "data": {
      "text/plain": [
       "Index(['id', 'Sex', 'Age', 'Height', 'Weight', 'Duration', 'Heart_Rate',\n",
       "       'Body_Temp', 'Calories'],\n",
       "      dtype='object')"
      ]
     },
     "execution_count": 364,
     "metadata": {},
     "output_type": "execute_result"
    }
   ],
   "execution_count": 364
  },
  {
   "metadata": {
    "ExecuteTime": {
     "end_time": "2025-05-19T12:08:30.944301Z",
     "start_time": "2025-05-19T12:08:30.942448Z"
    }
   },
   "cell_type": "code",
   "source": "train_df.dtypes",
   "id": "bc0996e53f2ae651",
   "outputs": [
    {
     "data": {
      "text/plain": [
       "id              int64\n",
       "Sex            object\n",
       "Age             int64\n",
       "Height        float64\n",
       "Weight        float64\n",
       "Duration      float64\n",
       "Heart_Rate    float64\n",
       "Body_Temp     float64\n",
       "Calories      float64\n",
       "dtype: object"
      ]
     },
     "execution_count": 365,
     "metadata": {},
     "output_type": "execute_result"
    }
   ],
   "execution_count": 365
  },
  {
   "metadata": {
    "ExecuteTime": {
     "end_time": "2025-05-19T12:08:30.996825Z",
     "start_time": "2025-05-19T12:08:30.995354Z"
    }
   },
   "cell_type": "code",
   "source": [
    "from sklearn.preprocessing import LabelEncoder\n",
    "\n",
    "def feature_engineering(data):\n",
    "    # Create new features\n",
    "    data['Age_Height'] = data['Age'] * data['Height']\n",
    "    data['Weight_Duration'] = data['Weight'] * data['Duration']\n",
    "\n",
    "    # Convert categorical variables to numerical\n",
    "    le = LabelEncoder()\n",
    "    data['Sex'] = le.fit_transform(data['Sex'])\n",
    "\n",
    "    # Drop unnecessary columns\n",
    "    data.drop(columns=['id', 'Age', 'Height'], inplace=True)\n",
    "\n",
    "    return data"
   ],
   "id": "91b43de09c16befa",
   "outputs": [],
   "execution_count": 366
  },
  {
   "metadata": {
    "ExecuteTime": {
     "end_time": "2025-05-19T12:08:31.104407Z",
     "start_time": "2025-05-19T12:08:31.048892Z"
    }
   },
   "cell_type": "code",
   "source": [
    "feature_engineering(train_df)\n",
    "train_df.head()"
   ],
   "id": "b1a78e5a68871718",
   "outputs": [
    {
     "data": {
      "text/plain": [
       "   Sex  Weight  Duration  Heart_Rate  Body_Temp  Calories  Age_Height  \\\n",
       "0    1    82.0      26.0       101.0       41.0     150.0      6804.0   \n",
       "1    0    60.0       8.0        85.0       39.7      34.0     10432.0   \n",
       "2    0    64.0       7.0        84.0       39.8      29.0      8211.0   \n",
       "3    1    90.0      25.0       105.0       40.7     140.0      3840.0   \n",
       "4    0    61.0      25.0       102.0       40.6     146.0      6308.0   \n",
       "\n",
       "   Weight_Duration  \n",
       "0           2132.0  \n",
       "1            480.0  \n",
       "2            448.0  \n",
       "3           2250.0  \n",
       "4           1525.0  "
      ],
      "text/html": [
       "<div>\n",
       "<style scoped>\n",
       "    .dataframe tbody tr th:only-of-type {\n",
       "        vertical-align: middle;\n",
       "    }\n",
       "\n",
       "    .dataframe tbody tr th {\n",
       "        vertical-align: top;\n",
       "    }\n",
       "\n",
       "    .dataframe thead th {\n",
       "        text-align: right;\n",
       "    }\n",
       "</style>\n",
       "<table border=\"1\" class=\"dataframe\">\n",
       "  <thead>\n",
       "    <tr style=\"text-align: right;\">\n",
       "      <th></th>\n",
       "      <th>Sex</th>\n",
       "      <th>Weight</th>\n",
       "      <th>Duration</th>\n",
       "      <th>Heart_Rate</th>\n",
       "      <th>Body_Temp</th>\n",
       "      <th>Calories</th>\n",
       "      <th>Age_Height</th>\n",
       "      <th>Weight_Duration</th>\n",
       "    </tr>\n",
       "  </thead>\n",
       "  <tbody>\n",
       "    <tr>\n",
       "      <th>0</th>\n",
       "      <td>1</td>\n",
       "      <td>82.0</td>\n",
       "      <td>26.0</td>\n",
       "      <td>101.0</td>\n",
       "      <td>41.0</td>\n",
       "      <td>150.0</td>\n",
       "      <td>6804.0</td>\n",
       "      <td>2132.0</td>\n",
       "    </tr>\n",
       "    <tr>\n",
       "      <th>1</th>\n",
       "      <td>0</td>\n",
       "      <td>60.0</td>\n",
       "      <td>8.0</td>\n",
       "      <td>85.0</td>\n",
       "      <td>39.7</td>\n",
       "      <td>34.0</td>\n",
       "      <td>10432.0</td>\n",
       "      <td>480.0</td>\n",
       "    </tr>\n",
       "    <tr>\n",
       "      <th>2</th>\n",
       "      <td>0</td>\n",
       "      <td>64.0</td>\n",
       "      <td>7.0</td>\n",
       "      <td>84.0</td>\n",
       "      <td>39.8</td>\n",
       "      <td>29.0</td>\n",
       "      <td>8211.0</td>\n",
       "      <td>448.0</td>\n",
       "    </tr>\n",
       "    <tr>\n",
       "      <th>3</th>\n",
       "      <td>1</td>\n",
       "      <td>90.0</td>\n",
       "      <td>25.0</td>\n",
       "      <td>105.0</td>\n",
       "      <td>40.7</td>\n",
       "      <td>140.0</td>\n",
       "      <td>3840.0</td>\n",
       "      <td>2250.0</td>\n",
       "    </tr>\n",
       "    <tr>\n",
       "      <th>4</th>\n",
       "      <td>0</td>\n",
       "      <td>61.0</td>\n",
       "      <td>25.0</td>\n",
       "      <td>102.0</td>\n",
       "      <td>40.6</td>\n",
       "      <td>146.0</td>\n",
       "      <td>6308.0</td>\n",
       "      <td>1525.0</td>\n",
       "    </tr>\n",
       "  </tbody>\n",
       "</table>\n",
       "</div>"
      ]
     },
     "execution_count": 367,
     "metadata": {},
     "output_type": "execute_result"
    }
   ],
   "execution_count": 367
  },
  {
   "metadata": {
    "ExecuteTime": {
     "end_time": "2025-05-19T12:08:31.142865Z",
     "start_time": "2025-05-19T12:08:31.141419Z"
    }
   },
   "cell_type": "code",
   "source": [
    "import matplotlib.pyplot as plt\n",
    "import seaborn as sns\n",
    "\n",
    "def plot_boxplot_all(data):\n",
    "    columns = data.columns\n",
    "    for column in columns:\n",
    "        plt.figure(figsize=(10, 6))\n",
    "        sns.boxplot(x=data[column])\n",
    "        plt.title(f'Boxplot of {column}')\n",
    "        plt.show()\n",
    "\n",
    "# plot_boxplot_all(custom_set2)"
   ],
   "id": "b691ab9b0e4015f0",
   "outputs": [],
   "execution_count": 368
  },
  {
   "metadata": {
    "ExecuteTime": {
     "end_time": "2025-05-19T12:08:31.185869Z",
     "start_time": "2025-05-19T12:08:31.184824Z"
    }
   },
   "cell_type": "code",
   "source": [
    "# def IQR_outlier(data):\n",
    "#     Q1 = data.quantile(0.25)\n",
    "#     Q3 = data.quantile(0.75)\n",
    "#     IQR = Q3 - Q1\n",
    "#     return data[~((data < (Q1 - 1.5 * IQR)) | (data > (Q3 + 1.5 * IQR))).any(axis=1)]\n",
    "#\n",
    "# IQR_outlier(train_df)"
   ],
   "id": "a44a88678f429aa5",
   "outputs": [],
   "execution_count": 369
  },
  {
   "metadata": {
    "ExecuteTime": {
     "end_time": "2025-05-19T12:08:31.242629Z",
     "start_time": "2025-05-19T12:08:31.241527Z"
    }
   },
   "cell_type": "code",
   "source": "# plot_boxplot_all(custom_set2)",
   "id": "fa540fd06cfbcd1c",
   "outputs": [],
   "execution_count": 370
  },
  {
   "metadata": {
    "ExecuteTime": {
     "end_time": "2025-05-19T12:08:35.910841Z",
     "start_time": "2025-05-19T12:08:35.851450Z"
    }
   },
   "cell_type": "code",
   "source": [
    "from sklearn.model_selection import train_test_split\n",
    "from sklearn.preprocessing import MinMaxScaler\n",
    "\n",
    "# Assuming `custom_set2` is your preprocessed dataset\n",
    "X = train_df.drop(columns=['Calories'])\n",
    "y = train_df['Calories']\n",
    "\n",
    "# Split the data\n",
    "X_train, X_test, y_train, y_test = train_test_split(X, y, test_size=0.2, random_state=42)\n",
    "\n",
    "# Fit the scaler on the training set\n",
    "scaler = MinMaxScaler()\n",
    "X_train_scaled = scaler.fit_transform(X_train)\n",
    "\n",
    "# Transform the test set using the same scaler\n",
    "X_test_scaled = scaler.transform(X_test)"
   ],
   "id": "31f8dbf9412f126",
   "outputs": [],
   "execution_count": 371
  },
  {
   "metadata": {
    "ExecuteTime": {
     "end_time": "2025-05-19T12:21:31.633992Z",
     "start_time": "2025-05-19T12:08:37.884784Z"
    }
   },
   "cell_type": "code",
   "source": [
    "from sklearn.ensemble import GradientBoostingRegressor, RandomForestRegressor\n",
    "from sklearn.linear_model import LinearRegression\n",
    "from sklearn.model_selection import KFold\n",
    "from sklearn.metrics import mean_squared_error\n",
    "import numpy as np\n",
    "\n",
    "# Define models\n",
    "models = {\n",
    "    \"GradientBoosting\": GradientBoostingRegressor(n_estimators=100, learning_rate=0.1, random_state=42),\n",
    "    \"RandomForest\": RandomForestRegressor(n_estimators=100, random_state=42),\n",
    "    \"LinearRegression\": LinearRegression()\n",
    "}\n",
    "\n",
    "# K-Fold Cross-Validation\n",
    "kf = KFold(n_splits=5, shuffle=True, random_state=42)\n",
    "predictions = {name: [] for name in models.keys()}\n",
    "true_values = []\n",
    "\n",
    "for train_index, test_index in kf.split(X):\n",
    "    X_train, X_test = X.iloc[train_index], X.iloc[test_index]\n",
    "    y_train, y_test = y.iloc[train_index], y.iloc[test_index]\n",
    "\n",
    "    fold_preds = []\n",
    "    for name, model in models.items():\n",
    "        model.fit(X_train, y_train)\n",
    "        preds = model.predict(X_test)\n",
    "        predictions[name].extend(preds)\n",
    "        fold_preds.append(preds)\n",
    "\n",
    "    # Store true values\n",
    "    true_values.extend(y_test)\n",
    "\n",
    "# Ensemble predictions (e.g., averaging)\n",
    "ensemble_preds = np.mean([np.array(predictions[name]) for name in models.keys()], axis=0)\n",
    "\n",
    "# Evaluate ensemble\n",
    "mse = mean_squared_error(true_values, ensemble_preds)\n",
    "print(f\"Ensemble Mean Squared Error: {mse}\")"
   ],
   "id": "2606a583e0cbee7f",
   "outputs": [
    {
     "name": "stdout",
     "output_type": "stream",
     "text": [
      "Ensemble Mean Squared Error: 27.098105810293735\n"
     ]
    }
   ],
   "execution_count": 372
  },
  {
   "metadata": {
    "ExecuteTime": {
     "end_time": "2025-05-19T11:53:10.761988Z",
     "start_time": "2025-05-19T11:52:40.346314Z"
    }
   },
   "cell_type": "code",
   "source": [
    "# from sklearn.ensemble import GradientBoostingRegressor\n",
    "# # Initialize the Gradient Boosting Regressor\n",
    "# gbr = GradientBoostingRegressor(n_estimators=100, learning_rate=0.3, max_depth=3, random_state=42)\n",
    "#\n",
    "# # Train the model\n",
    "# gbr.fit(X_train, y_train)\n",
    "#\n",
    "# # Predict on the test set\n",
    "# y_pred = gbr.predict(X_test)"
   ],
   "id": "afffb684ada5484",
   "outputs": [],
   "execution_count": 334
  },
  {
   "metadata": {
    "ExecuteTime": {
     "end_time": "2025-05-19T11:53:10.941327Z",
     "start_time": "2025-05-19T11:53:10.939384Z"
    }
   },
   "cell_type": "code",
   "source": [
    "# Evaluate the model\n",
    "# from sklearn.metrics import root_mean_squared_error\n",
    "# rmse = root_mean_squared_error(y_test, y_pred)\n",
    "# print(f\"Mean Squared Error: {rmse}\")"
   ],
   "id": "beba0bf40cc64c36",
   "outputs": [
    {
     "name": "stdout",
     "output_type": "stream",
     "text": [
      "Mean Squared Error: 4.440178623706272\n"
     ]
    }
   ],
   "execution_count": 335
  },
  {
   "metadata": {
    "ExecuteTime": {
     "end_time": "2025-05-19T12:22:20.477924Z",
     "start_time": "2025-05-19T12:22:20.460051Z"
    }
   },
   "cell_type": "code",
   "source": [
    "#find R2 score\n",
    "from sklearn.metrics import r2_score\n",
    "r2 = r2_score(true_values, ensemble_preds)\n",
    "print(f\"R2 Score: {r2}\")"
   ],
   "id": "799027673b6ff188",
   "outputs": [
    {
     "name": "stdout",
     "output_type": "stream",
     "text": [
      "R2 Score: 0.9930395859265426\n"
     ]
    }
   ],
   "execution_count": 373
  },
  {
   "metadata": {
    "ExecuteTime": {
     "end_time": "2025-05-19T12:26:11.519165Z",
     "start_time": "2025-05-19T12:26:11.514131Z"
    }
   },
   "cell_type": "code",
   "source": "test_df",
   "id": "72f960aa79cf2fa5",
   "outputs": [
    {
     "data": {
      "text/plain": [
       "            id     Sex  Age  Height  Weight  Duration  Heart_Rate  Body_Temp\n",
       "0       750000    male   45   177.0    81.0       7.0        87.0       39.8\n",
       "1       750001    male   26   200.0    97.0      20.0       101.0       40.5\n",
       "2       750002  female   29   188.0    85.0      16.0       102.0       40.4\n",
       "3       750003  female   39   172.0    73.0      20.0       107.0       40.6\n",
       "4       750004  female   30   173.0    67.0      16.0        94.0       40.5\n",
       "...        ...     ...  ...     ...     ...       ...         ...        ...\n",
       "249995  999995  female   56   159.0    62.0       6.0        85.0       39.4\n",
       "249996  999996    male   32   202.0   101.0       3.0        84.0       38.4\n",
       "249997  999997  female   31   164.0    64.0      14.0        98.0       40.1\n",
       "249998  999998  female   62   158.0    61.0      25.0       106.0       40.7\n",
       "249999  999999    male   31   199.0    96.0      15.0        98.0       39.9\n",
       "\n",
       "[250000 rows x 8 columns]"
      ],
      "text/html": [
       "<div>\n",
       "<style scoped>\n",
       "    .dataframe tbody tr th:only-of-type {\n",
       "        vertical-align: middle;\n",
       "    }\n",
       "\n",
       "    .dataframe tbody tr th {\n",
       "        vertical-align: top;\n",
       "    }\n",
       "\n",
       "    .dataframe thead th {\n",
       "        text-align: right;\n",
       "    }\n",
       "</style>\n",
       "<table border=\"1\" class=\"dataframe\">\n",
       "  <thead>\n",
       "    <tr style=\"text-align: right;\">\n",
       "      <th></th>\n",
       "      <th>id</th>\n",
       "      <th>Sex</th>\n",
       "      <th>Age</th>\n",
       "      <th>Height</th>\n",
       "      <th>Weight</th>\n",
       "      <th>Duration</th>\n",
       "      <th>Heart_Rate</th>\n",
       "      <th>Body_Temp</th>\n",
       "    </tr>\n",
       "  </thead>\n",
       "  <tbody>\n",
       "    <tr>\n",
       "      <th>0</th>\n",
       "      <td>750000</td>\n",
       "      <td>male</td>\n",
       "      <td>45</td>\n",
       "      <td>177.0</td>\n",
       "      <td>81.0</td>\n",
       "      <td>7.0</td>\n",
       "      <td>87.0</td>\n",
       "      <td>39.8</td>\n",
       "    </tr>\n",
       "    <tr>\n",
       "      <th>1</th>\n",
       "      <td>750001</td>\n",
       "      <td>male</td>\n",
       "      <td>26</td>\n",
       "      <td>200.0</td>\n",
       "      <td>97.0</td>\n",
       "      <td>20.0</td>\n",
       "      <td>101.0</td>\n",
       "      <td>40.5</td>\n",
       "    </tr>\n",
       "    <tr>\n",
       "      <th>2</th>\n",
       "      <td>750002</td>\n",
       "      <td>female</td>\n",
       "      <td>29</td>\n",
       "      <td>188.0</td>\n",
       "      <td>85.0</td>\n",
       "      <td>16.0</td>\n",
       "      <td>102.0</td>\n",
       "      <td>40.4</td>\n",
       "    </tr>\n",
       "    <tr>\n",
       "      <th>3</th>\n",
       "      <td>750003</td>\n",
       "      <td>female</td>\n",
       "      <td>39</td>\n",
       "      <td>172.0</td>\n",
       "      <td>73.0</td>\n",
       "      <td>20.0</td>\n",
       "      <td>107.0</td>\n",
       "      <td>40.6</td>\n",
       "    </tr>\n",
       "    <tr>\n",
       "      <th>4</th>\n",
       "      <td>750004</td>\n",
       "      <td>female</td>\n",
       "      <td>30</td>\n",
       "      <td>173.0</td>\n",
       "      <td>67.0</td>\n",
       "      <td>16.0</td>\n",
       "      <td>94.0</td>\n",
       "      <td>40.5</td>\n",
       "    </tr>\n",
       "    <tr>\n",
       "      <th>...</th>\n",
       "      <td>...</td>\n",
       "      <td>...</td>\n",
       "      <td>...</td>\n",
       "      <td>...</td>\n",
       "      <td>...</td>\n",
       "      <td>...</td>\n",
       "      <td>...</td>\n",
       "      <td>...</td>\n",
       "    </tr>\n",
       "    <tr>\n",
       "      <th>249995</th>\n",
       "      <td>999995</td>\n",
       "      <td>female</td>\n",
       "      <td>56</td>\n",
       "      <td>159.0</td>\n",
       "      <td>62.0</td>\n",
       "      <td>6.0</td>\n",
       "      <td>85.0</td>\n",
       "      <td>39.4</td>\n",
       "    </tr>\n",
       "    <tr>\n",
       "      <th>249996</th>\n",
       "      <td>999996</td>\n",
       "      <td>male</td>\n",
       "      <td>32</td>\n",
       "      <td>202.0</td>\n",
       "      <td>101.0</td>\n",
       "      <td>3.0</td>\n",
       "      <td>84.0</td>\n",
       "      <td>38.4</td>\n",
       "    </tr>\n",
       "    <tr>\n",
       "      <th>249997</th>\n",
       "      <td>999997</td>\n",
       "      <td>female</td>\n",
       "      <td>31</td>\n",
       "      <td>164.0</td>\n",
       "      <td>64.0</td>\n",
       "      <td>14.0</td>\n",
       "      <td>98.0</td>\n",
       "      <td>40.1</td>\n",
       "    </tr>\n",
       "    <tr>\n",
       "      <th>249998</th>\n",
       "      <td>999998</td>\n",
       "      <td>female</td>\n",
       "      <td>62</td>\n",
       "      <td>158.0</td>\n",
       "      <td>61.0</td>\n",
       "      <td>25.0</td>\n",
       "      <td>106.0</td>\n",
       "      <td>40.7</td>\n",
       "    </tr>\n",
       "    <tr>\n",
       "      <th>249999</th>\n",
       "      <td>999999</td>\n",
       "      <td>male</td>\n",
       "      <td>31</td>\n",
       "      <td>199.0</td>\n",
       "      <td>96.0</td>\n",
       "      <td>15.0</td>\n",
       "      <td>98.0</td>\n",
       "      <td>39.9</td>\n",
       "    </tr>\n",
       "  </tbody>\n",
       "</table>\n",
       "<p>250000 rows × 8 columns</p>\n",
       "</div>"
      ]
     },
     "execution_count": 379,
     "metadata": {},
     "output_type": "execute_result"
    }
   ],
   "execution_count": 379
  },
  {
   "metadata": {
    "ExecuteTime": {
     "end_time": "2025-05-19T12:26:41.213411Z",
     "start_time": "2025-05-19T12:26:40.454554Z"
    }
   },
   "cell_type": "code",
   "source": [
    "#prefict test_df\n",
    "\n",
    "test_df = feature_engineering(test_df)\n",
    "# test_df.drop(columns=['id'], inplace=True)\n",
    "test_df_scaled = scaler.transform(test_df)\n",
    "\n",
    "# Predict using the ensemble model\n",
    "ensemble_test_preds = np.mean([model.predict(test_df_scaled) for model in models.values()], axis=0)\n",
    "ensemble_test_preds"
   ],
   "id": "e3d618fb24fc50b8",
   "outputs": [
    {
     "name": "stderr",
     "output_type": "stream",
     "text": [
      "/home/tsr/anaconda3/lib/python3.12/site-packages/sklearn/base.py:493: UserWarning: X does not have valid feature names, but GradientBoostingRegressor was fitted with feature names\n",
      "  warnings.warn(\n",
      "/home/tsr/anaconda3/lib/python3.12/site-packages/sklearn/base.py:493: UserWarning: X does not have valid feature names, but RandomForestRegressor was fitted with feature names\n",
      "  warnings.warn(\n",
      "/home/tsr/anaconda3/lib/python3.12/site-packages/sklearn/base.py:493: UserWarning: X does not have valid feature names, but LinearRegression was fitted with feature names\n",
      "  warnings.warn(\n"
     ]
    },
    {
     "data": {
      "text/plain": [
       "array([177.18214138, 177.05571758, 179.41935193, ..., 179.71261293,\n",
       "       179.57591461, 177.5846659 ])"
      ]
     },
     "execution_count": 380,
     "metadata": {},
     "output_type": "execute_result"
    }
   ],
   "execution_count": 380
  },
  {
   "metadata": {
    "ExecuteTime": {
     "end_time": "2025-05-19T11:55:36.014664Z",
     "start_time": "2025-05-19T11:55:35.989495Z"
    }
   },
   "cell_type": "code",
   "source": [
    "#compare highScore_submission.csv with test_pred\n",
    "highScore_submission = pd.read_csv('/mnt/Linux/Learning/Python/Kaggle/Predict Calorie Expenditure/hightScore_submission.csv')\n",
    "highScore_submission.drop(columns=['id'], inplace=True)"
   ],
   "id": "ab28d1172c82c800",
   "outputs": [],
   "execution_count": 344
  },
  {
   "metadata": {
    "ExecuteTime": {
     "end_time": "2025-05-19T11:53:11.174574158Z",
     "start_time": "2025-05-19T11:16:52.406918Z"
    }
   },
   "cell_type": "code",
   "source": "submission = pd.read_csv(\"/mnt/Linux/Learning/Python/Kaggle/Predict Calorie Expenditure/sample_submission.csv\")",
   "id": "69ef817a5a596061",
   "outputs": [],
   "execution_count": 231
  },
  {
   "metadata": {
    "ExecuteTime": {
     "end_time": "2025-05-19T12:02:30.601673Z",
     "start_time": "2025-05-19T12:02:30.599783Z"
    }
   },
   "cell_type": "code",
   "source": [
    "tsr = pd.DataFrame({\n",
    "    # 'id': submission['id'],\n",
    "    'Calories': test_pred\n",
    "})"
   ],
   "id": "e83d08667adbb664",
   "outputs": [],
   "execution_count": 357
  },
  {
   "metadata": {
    "ExecuteTime": {
     "end_time": "2025-05-19T12:02:33.210166Z",
     "start_time": "2025-05-19T12:02:33.208494Z"
    }
   },
   "cell_type": "code",
   "source": "tsr = tsr.abs()",
   "id": "b774d30b22e29588",
   "outputs": [],
   "execution_count": 358
  },
  {
   "metadata": {
    "ExecuteTime": {
     "end_time": "2025-05-19T12:02:34.233565Z",
     "start_time": "2025-05-19T12:02:34.226309Z"
    }
   },
   "cell_type": "code",
   "source": [
    "from sklearn.metrics import mean_squared_log_error\n",
    "\n",
    "msle = mean_squared_log_error(highScore_submission, tsr)\n",
    "print(f\"Mean Squared Log Error: {msle}\")"
   ],
   "id": "8a614f23413f5466",
   "outputs": [
    {
     "name": "stdout",
     "output_type": "stream",
     "text": [
      "Mean Squared Log Error: 0.009590158338929665\n"
     ]
    }
   ],
   "execution_count": 359
  },
  {
   "metadata": {
    "ExecuteTime": {
     "end_time": "2025-05-19T11:57:41.630379Z",
     "start_time": "2025-05-19T11:57:41.478077Z"
    }
   },
   "cell_type": "code",
   "source": "tsr.to_csv('/mnt/Linux/Learning/Python/Kaggle/Predict Calorie Expenditure/Submission3_TSR.csv', index=False)",
   "id": "b7f349d4a5c99c65",
   "outputs": [],
   "execution_count": 352
  },
  {
   "metadata": {
    "ExecuteTime": {
     "end_time": "2025-05-19T11:55:55.019441Z",
     "start_time": "2025-05-19T11:55:55.015786Z"
    }
   },
   "cell_type": "code",
   "source": [
    "score = r2_score(highScore_submission, tsr)\n",
    "score"
   ],
   "id": "9fde30a87490bdf6",
   "outputs": [
    {
     "data": {
      "text/plain": [
       "0.9981125522792866"
      ]
     },
     "execution_count": 348,
     "metadata": {},
     "output_type": "execute_result"
    }
   ],
   "execution_count": 348
  }
 ],
 "metadata": {
  "kernelspec": {
   "display_name": "Python 3",
   "language": "python",
   "name": "python3"
  },
  "language_info": {
   "codemirror_mode": {
    "name": "ipython",
    "version": 2
   },
   "file_extension": ".py",
   "mimetype": "text/x-python",
   "name": "python",
   "nbconvert_exporter": "python",
   "pygments_lexer": "ipython2",
   "version": "2.7.6"
  }
 },
 "nbformat": 4,
 "nbformat_minor": 5
}
