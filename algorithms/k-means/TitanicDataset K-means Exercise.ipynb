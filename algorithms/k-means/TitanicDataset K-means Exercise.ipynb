{
 "cells": [
  {
   "cell_type": "code",
   "id": "initial_id",
   "metadata": {
    "collapsed": true,
    "ExecuteTime": {
     "end_time": "2025-04-14T10:49:25.486807Z",
     "start_time": "2025-04-14T10:49:25.452200Z"
    }
   },
   "source": [
    "import pandas as pd\n",
    "import numpy as np\n",
    "import matplotlib.pyplot as plt\n",
    "import seaborn as sns"
   ],
   "outputs": [],
   "execution_count": 39
  },
  {
   "metadata": {
    "ExecuteTime": {
     "end_time": "2025-04-14T10:06:48.372372Z",
     "start_time": "2025-04-14T10:06:48.363743Z"
    }
   },
   "cell_type": "code",
   "source": [
    "df = pd.read_csv('/mnt/Linux/Learning/Python/Datasets/titanic-training-data.csv')\n",
    "df.head()"
   ],
   "id": "3880f7f408039b57",
   "outputs": [
    {
     "data": {
      "text/plain": [
       "   PassengerId  Survived  Pclass  \\\n",
       "0            1         0       3   \n",
       "1            2         1       1   \n",
       "2            3         1       3   \n",
       "3            4         1       1   \n",
       "4            5         0       3   \n",
       "\n",
       "                                                Name     Sex   Age  SibSp  \\\n",
       "0                            Braund, Mr. Owen Harris    male  22.0      1   \n",
       "1  Cumings, Mrs. John Bradley (Florence Briggs Th...  female  38.0      1   \n",
       "2                             Heikkinen, Miss. Laina  female  26.0      0   \n",
       "3       Futrelle, Mrs. Jacques Heath (Lily May Peel)  female  35.0      1   \n",
       "4                           Allen, Mr. William Henry    male  35.0      0   \n",
       "\n",
       "   Parch            Ticket     Fare Cabin Embarked  \n",
       "0      0         A/5 21171   7.2500   NaN        S  \n",
       "1      0          PC 17599  71.2833   C85        C  \n",
       "2      0  STON/O2. 3101282   7.9250   NaN        S  \n",
       "3      0            113803  53.1000  C123        S  \n",
       "4      0            373450   8.0500   NaN        S  "
      ],
      "text/html": [
       "<div>\n",
       "<style scoped>\n",
       "    .dataframe tbody tr th:only-of-type {\n",
       "        vertical-align: middle;\n",
       "    }\n",
       "\n",
       "    .dataframe tbody tr th {\n",
       "        vertical-align: top;\n",
       "    }\n",
       "\n",
       "    .dataframe thead th {\n",
       "        text-align: right;\n",
       "    }\n",
       "</style>\n",
       "<table border=\"1\" class=\"dataframe\">\n",
       "  <thead>\n",
       "    <tr style=\"text-align: right;\">\n",
       "      <th></th>\n",
       "      <th>PassengerId</th>\n",
       "      <th>Survived</th>\n",
       "      <th>Pclass</th>\n",
       "      <th>Name</th>\n",
       "      <th>Sex</th>\n",
       "      <th>Age</th>\n",
       "      <th>SibSp</th>\n",
       "      <th>Parch</th>\n",
       "      <th>Ticket</th>\n",
       "      <th>Fare</th>\n",
       "      <th>Cabin</th>\n",
       "      <th>Embarked</th>\n",
       "    </tr>\n",
       "  </thead>\n",
       "  <tbody>\n",
       "    <tr>\n",
       "      <th>0</th>\n",
       "      <td>1</td>\n",
       "      <td>0</td>\n",
       "      <td>3</td>\n",
       "      <td>Braund, Mr. Owen Harris</td>\n",
       "      <td>male</td>\n",
       "      <td>22.0</td>\n",
       "      <td>1</td>\n",
       "      <td>0</td>\n",
       "      <td>A/5 21171</td>\n",
       "      <td>7.2500</td>\n",
       "      <td>NaN</td>\n",
       "      <td>S</td>\n",
       "    </tr>\n",
       "    <tr>\n",
       "      <th>1</th>\n",
       "      <td>2</td>\n",
       "      <td>1</td>\n",
       "      <td>1</td>\n",
       "      <td>Cumings, Mrs. John Bradley (Florence Briggs Th...</td>\n",
       "      <td>female</td>\n",
       "      <td>38.0</td>\n",
       "      <td>1</td>\n",
       "      <td>0</td>\n",
       "      <td>PC 17599</td>\n",
       "      <td>71.2833</td>\n",
       "      <td>C85</td>\n",
       "      <td>C</td>\n",
       "    </tr>\n",
       "    <tr>\n",
       "      <th>2</th>\n",
       "      <td>3</td>\n",
       "      <td>1</td>\n",
       "      <td>3</td>\n",
       "      <td>Heikkinen, Miss. Laina</td>\n",
       "      <td>female</td>\n",
       "      <td>26.0</td>\n",
       "      <td>0</td>\n",
       "      <td>0</td>\n",
       "      <td>STON/O2. 3101282</td>\n",
       "      <td>7.9250</td>\n",
       "      <td>NaN</td>\n",
       "      <td>S</td>\n",
       "    </tr>\n",
       "    <tr>\n",
       "      <th>3</th>\n",
       "      <td>4</td>\n",
       "      <td>1</td>\n",
       "      <td>1</td>\n",
       "      <td>Futrelle, Mrs. Jacques Heath (Lily May Peel)</td>\n",
       "      <td>female</td>\n",
       "      <td>35.0</td>\n",
       "      <td>1</td>\n",
       "      <td>0</td>\n",
       "      <td>113803</td>\n",
       "      <td>53.1000</td>\n",
       "      <td>C123</td>\n",
       "      <td>S</td>\n",
       "    </tr>\n",
       "    <tr>\n",
       "      <th>4</th>\n",
       "      <td>5</td>\n",
       "      <td>0</td>\n",
       "      <td>3</td>\n",
       "      <td>Allen, Mr. William Henry</td>\n",
       "      <td>male</td>\n",
       "      <td>35.0</td>\n",
       "      <td>0</td>\n",
       "      <td>0</td>\n",
       "      <td>373450</td>\n",
       "      <td>8.0500</td>\n",
       "      <td>NaN</td>\n",
       "      <td>S</td>\n",
       "    </tr>\n",
       "  </tbody>\n",
       "</table>\n",
       "</div>"
      ]
     },
     "execution_count": 2,
     "metadata": {},
     "output_type": "execute_result"
    }
   ],
   "execution_count": 2
  },
  {
   "metadata": {
    "ExecuteTime": {
     "end_time": "2025-04-14T10:06:48.421075Z",
     "start_time": "2025-04-14T10:06:48.417471Z"
    }
   },
   "cell_type": "code",
   "source": "df.isna().sum()",
   "id": "1e8a5efea96259d8",
   "outputs": [
    {
     "data": {
      "text/plain": [
       "PassengerId      0\n",
       "Survived         0\n",
       "Pclass           0\n",
       "Name             0\n",
       "Sex              0\n",
       "Age            177\n",
       "SibSp            0\n",
       "Parch            0\n",
       "Ticket           0\n",
       "Fare             0\n",
       "Cabin          687\n",
       "Embarked         2\n",
       "dtype: int64"
      ]
     },
     "execution_count": 3,
     "metadata": {},
     "output_type": "execute_result"
    }
   ],
   "execution_count": 3
  },
  {
   "metadata": {
    "ExecuteTime": {
     "end_time": "2025-04-14T10:06:48.468834Z",
     "start_time": "2025-04-14T10:06:48.466617Z"
    }
   },
   "cell_type": "code",
   "source": "df.columns",
   "id": "f3118c131e60e219",
   "outputs": [
    {
     "data": {
      "text/plain": [
       "Index(['PassengerId', 'Survived', 'Pclass', 'Name', 'Sex', 'Age', 'SibSp',\n",
       "       'Parch', 'Ticket', 'Fare', 'Cabin', 'Embarked'],\n",
       "      dtype='object')"
      ]
     },
     "execution_count": 4,
     "metadata": {},
     "output_type": "execute_result"
    }
   ],
   "execution_count": 4
  },
  {
   "metadata": {
    "ExecuteTime": {
     "end_time": "2025-04-14T10:06:48.515891Z",
     "start_time": "2025-04-14T10:06:48.513627Z"
    }
   },
   "cell_type": "code",
   "source": "df['Embarked'].unique()",
   "id": "da26b68ad8e8fe0c",
   "outputs": [
    {
     "data": {
      "text/plain": [
       "array(['S', 'C', 'Q', nan], dtype=object)"
      ]
     },
     "execution_count": 5,
     "metadata": {},
     "output_type": "execute_result"
    }
   ],
   "execution_count": 5
  },
  {
   "metadata": {
    "ExecuteTime": {
     "end_time": "2025-04-14T10:12:33.394797Z",
     "start_time": "2025-04-14T10:12:33.391103Z"
    }
   },
   "cell_type": "code",
   "source": [
    "def imp_columns(df):\n",
    "    return (df\n",
    "            .loc[:, ['Survived', 'Pclass', 'Age', 'SibSp',\n",
    "       'Parch', 'Fare']]\n",
    "            .dropna()\n",
    "    )\n",
    "\n",
    "df2 = imp_columns(df)\n",
    "df2.isna().sum()"
   ],
   "id": "32592ee31a50fada",
   "outputs": [
    {
     "data": {
      "text/plain": [
       "Survived    0\n",
       "Pclass      0\n",
       "Age         0\n",
       "SibSp       0\n",
       "Parch       0\n",
       "Fare        0\n",
       "dtype: int64"
      ]
     },
     "execution_count": 14,
     "metadata": {},
     "output_type": "execute_result"
    }
   ],
   "execution_count": 14
  },
  {
   "metadata": {
    "ExecuteTime": {
     "end_time": "2025-04-14T10:06:48.645206Z",
     "start_time": "2025-04-14T10:06:48.642723Z"
    }
   },
   "cell_type": "code",
   "source": "df2.shape",
   "id": "fe93cae91ecc61aa",
   "outputs": [
    {
     "data": {
      "text/plain": [
       "(714, 6)"
      ]
     },
     "execution_count": 7,
     "metadata": {},
     "output_type": "execute_result"
    }
   ],
   "execution_count": 7
  },
  {
   "metadata": {
    "ExecuteTime": {
     "end_time": "2025-04-14T10:18:20.923584Z",
     "start_time": "2025-04-14T10:18:20.830826Z"
    }
   },
   "cell_type": "code",
   "source": [
    "from sklearn.ensemble import RandomForestClassifier\n",
    "\n",
    "X = df2.drop(columns=['Survived'])\n",
    "y = df2['Survived']\n",
    "\n",
    "# Handle missing values temporarily for this analysis\n",
    "X = X.fillna(X.median())\n",
    "\n",
    "model = RandomForestClassifier(random_state=42)\n",
    "model.fit(X, y)\n",
    "importances = model.feature_importances_\n",
    "feature_importance_df = pd.DataFrame({'Feature': X.columns, 'Importance': importances})\n",
    "print(feature_importance_df.sort_values(by='Importance', ascending=False))"
   ],
   "id": "d4763ec623eec75e",
   "outputs": [
    {
     "name": "stdout",
     "output_type": "stream",
     "text": [
      "  Feature  Importance\n",
      "1     Age    0.400042\n",
      "4    Fare    0.390792\n",
      "0  Pclass    0.096372\n",
      "2   SibSp    0.059424\n",
      "3   Parch    0.053370\n"
     ]
    }
   ],
   "execution_count": 20
  },
  {
   "metadata": {
    "ExecuteTime": {
     "end_time": "2025-04-14T10:18:08.267896Z",
     "start_time": "2025-04-14T10:18:08.204282Z"
    }
   },
   "cell_type": "code",
   "source": [
    "sns.barplot(x='Feature', y='Importance', data=feature_importance_df)\n",
    "plt.title('Feature Importances')\n",
    "plt.xticks(rotation=45)\n",
    "plt.show()"
   ],
   "id": "bafa478811f8e8e6",
   "outputs": [
    {
     "data": {
      "text/plain": [
       "<Figure size 640x480 with 1 Axes>"
      ],
      "image/png": "[encoded data removed]"
     },
     "metadata": {},
     "output_type": "display_data"
    }
   ],
   "execution_count": 19
  },
  {
   "metadata": {
    "ExecuteTime": {
     "end_time": "2025-04-14T10:21:57.618193Z",
     "start_time": "2025-04-14T10:21:57.613897Z"
    }
   },
   "cell_type": "code",
   "source": [
    "def attributes(df):\n",
    "    for col in df.columns:\n",
    "        print(f\"{col}: {df[col].unique()}\")\n",
    "\n",
    "attributes(df2)"
   ],
   "id": "97043bd3d9f963ad",
   "outputs": [
    {
     "name": "stdout",
     "output_type": "stream",
     "text": [
      "Survived: [0 1]\n",
      "Pclass: [3 1 2]\n",
      "Age: [22.   38.   26.   35.   54.    2.   27.   14.    4.   58.   20.   39.\n",
      " 55.   31.   34.   15.   28.    8.   19.   40.   66.   42.   21.   18.\n",
      "  3.    7.   49.   29.   65.   28.5   5.   11.   45.   17.   32.   16.\n",
      " 25.    0.83 30.   33.   23.   24.   46.   59.   71.   37.   47.   14.5\n",
      " 70.5  32.5  12.    9.   36.5  51.   55.5  40.5  44.    1.   61.   56.\n",
      " 50.   36.   45.5  20.5  62.   41.   52.   63.   23.5   0.92 43.   60.\n",
      " 10.   64.   13.   48.    0.75 53.   57.   80.   70.   24.5   6.    0.67\n",
      " 30.5   0.42 34.5  74.  ]\n",
      "SibSp: [1 0 3 4 2 5]\n",
      "Parch: [0 1 2 5 3 4 6]\n",
      "Fare: [  7.25    71.2833   7.925   53.1      8.05    51.8625  21.075   11.1333\n",
      "  30.0708  16.7     26.55    31.275    7.8542  16.      29.125   18.\n",
      "  26.      13.       8.0292  35.5     31.3875 263.      27.7208  10.5\n",
      "  82.1708  52.      11.2417   9.475   21.      41.5792   7.8792  17.8\n",
      "  39.6875   7.8     76.7292  61.9792   7.2292  27.75    46.9     80.\n",
      "  83.475   27.9      8.1583   8.6625  73.5     14.4542  56.4958   7.65\n",
      "  29.      12.475    9.       9.5     47.1     15.85    34.375   61.175\n",
      "  20.575   34.6542  63.3583  23.       7.8958  77.2875   8.6542   9.825\n",
      "  14.4583   7.75   247.5208   7.1417   6.975    7.05    14.5     15.0458\n",
      "  26.2833   9.2167  79.2      6.75    11.5     36.75     7.7958  12.525\n",
      "  66.6     61.3792   7.7333  16.1     15.75     7.775   20.525   33.5\n",
      "  30.6958  28.7125   0.      39.      22.025   15.5    146.5208   8.4042\n",
      "   6.4958   7.225   10.4625  18.7875  31.     113.275   27.      76.2917\n",
      "  90.       9.35    13.5     26.25    12.275    7.125   52.5542  20.2125\n",
      "  15.2458  86.5    512.3292  79.65   153.4625 135.6333  19.5     29.7\n",
      "  77.9583  20.25    78.85    91.0792  12.875    8.85   151.55   108.9\n",
      "  24.      56.9292  83.1583 262.375   14.     164.8667 134.5     12.35\n",
      "   6.2375  57.9792  28.5     15.9      9.225   55.      75.25    69.3\n",
      "  55.4417 211.5      4.0125 227.525   15.7417  12.     120.      12.65\n",
      "  18.75    32.5     24.15     7.875   14.4     55.9     81.8583  19.2583\n",
      "  30.5     89.1042  38.5     13.7917   9.8375   7.0458   7.5208  12.2875\n",
      "   9.5875  49.5042  78.2667  22.525   26.2875  59.4      7.4958  34.0208\n",
      "  93.5    106.425   49.5     71.     110.8833  39.6     17.4     51.4792\n",
      "  26.3875  30.      40.125   15.      15.55    65.      32.3208   7.0542\n",
      "   7.55     8.4333 133.65    25.5875   9.8417  10.1708 211.3375  57.\n",
      "  13.4167   7.7417   9.4833  33.       8.3625  25.9292   8.6833   8.5167\n",
      "   7.8875  37.0042   6.45     8.3      6.4375  39.4     14.1083  13.8583\n",
      "  50.4958   5.       9.8458  10.5167]\n"
     ]
    }
   ],
   "execution_count": 24
  },
  {
   "metadata": {
    "ExecuteTime": {
     "end_time": "2025-04-14T10:33:24.097084Z",
     "start_time": "2025-04-14T10:33:24.091284Z"
    }
   },
   "cell_type": "code",
   "source": [
    "from sklearn.preprocessing import StandardScaler\n",
    "\n",
    "from sklearn import set_config\n",
    "set_config(transform_output='pandas')\n",
    "\n",
    "scaler = StandardScaler()\n",
    "X = scaler.fit_transform(df2)\n",
    "X"
   ],
   "id": "8b477c1289d8fe4a",
   "outputs": [
    {
     "data": {
      "text/plain": [
       "     Survived    Pclass       Age     SibSp     Parch      Fare\n",
       "0    -0.82702  0.911232 -0.530377  0.524570 -0.505895 -0.518978\n",
       "1     1.20916 -1.476364  0.571831  0.524570 -0.505895  0.691897\n",
       "2     1.20916  0.911232 -0.254825 -0.551703 -0.505895 -0.506214\n",
       "3     1.20916 -1.476364  0.365167  0.524570 -0.505895  0.348049\n",
       "4    -0.82702  0.911232  0.365167 -0.551703 -0.505895 -0.503850\n",
       "..        ...       ...       ...       ...       ...       ...\n",
       "885  -0.82702  0.911232  0.640719 -0.551703  5.357890 -0.105320\n",
       "886  -0.82702 -0.282566 -0.185937 -0.551703 -0.505895 -0.410245\n",
       "887   1.20916 -1.476364 -0.737041 -0.551703 -0.505895 -0.088774\n",
       "889   1.20916 -1.476364 -0.254825 -0.551703 -0.505895 -0.088774\n",
       "890  -0.82702  0.911232  0.158503 -0.551703 -0.505895 -0.509523\n",
       "\n",
       "[714 rows x 6 columns]"
      ],
      "text/html": [
       "<div>\n",
       "<style scoped>\n",
       "    .dataframe tbody tr th:only-of-type {\n",
       "        vertical-align: middle;\n",
       "    }\n",
       "\n",
       "    .dataframe tbody tr th {\n",
       "        vertical-align: top;\n",
       "    }\n",
       "\n",
       "    .dataframe thead th {\n",
       "        text-align: right;\n",
       "    }\n",
       "</style>\n",
       "<table border=\"1\" class=\"dataframe\">\n",
       "  <thead>\n",
       "    <tr style=\"text-align: right;\">\n",
       "      <th></th>\n",
       "      <th>Survived</th>\n",
       "      <th>Pclass</th>\n",
       "      <th>Age</th>\n",
       "      <th>SibSp</th>\n",
       "      <th>Parch</th>\n",
       "      <th>Fare</th>\n",
       "    </tr>\n",
       "  </thead>\n",
       "  <tbody>\n",
       "    <tr>\n",
       "      <th>0</th>\n",
       "      <td>-0.82702</td>\n",
       "      <td>0.911232</td>\n",
       "      <td>-0.530377</td>\n",
       "      <td>0.524570</td>\n",
       "      <td>-0.505895</td>\n",
       "      <td>-0.518978</td>\n",
       "    </tr>\n",
       "    <tr>\n",
       "      <th>1</th>\n",
       "      <td>1.20916</td>\n",
       "      <td>-1.476364</td>\n",
       "      <td>0.571831</td>\n",
       "      <td>0.524570</td>\n",
       "      <td>-0.505895</td>\n",
       "      <td>0.691897</td>\n",
       "    </tr>\n",
       "    <tr>\n",
       "      <th>2</th>\n",
       "      <td>1.20916</td>\n",
       "      <td>0.911232</td>\n",
       "      <td>-0.254825</td>\n",
       "      <td>-0.551703</td>\n",
       "      <td>-0.505895</td>\n",
       "      <td>-0.506214</td>\n",
       "    </tr>\n",
       "    <tr>\n",
       "      <th>3</th>\n",
       "      <td>1.20916</td>\n",
       "      <td>-1.476364</td>\n",
       "      <td>0.365167</td>\n",
       "      <td>0.524570</td>\n",
       "      <td>-0.505895</td>\n",
       "      <td>0.348049</td>\n",
       "    </tr>\n",
       "    <tr>\n",
       "      <th>4</th>\n",
       "      <td>-0.82702</td>\n",
       "      <td>0.911232</td>\n",
       "      <td>0.365167</td>\n",
       "      <td>-0.551703</td>\n",
       "      <td>-0.505895</td>\n",
       "      <td>-0.503850</td>\n",
       "    </tr>\n",
       "    <tr>\n",
       "      <th>...</th>\n",
       "      <td>...</td>\n",
       "      <td>...</td>\n",
       "      <td>...</td>\n",
       "      <td>...</td>\n",
       "      <td>...</td>\n",
       "      <td>...</td>\n",
       "    </tr>\n",
       "    <tr>\n",
       "      <th>885</th>\n",
       "      <td>-0.82702</td>\n",
       "      <td>0.911232</td>\n",
       "      <td>0.640719</td>\n",
       "      <td>-0.551703</td>\n",
       "      <td>5.357890</td>\n",
       "      <td>-0.105320</td>\n",
       "    </tr>\n",
       "    <tr>\n",
       "      <th>886</th>\n",
       "      <td>-0.82702</td>\n",
       "      <td>-0.282566</td>\n",
       "      <td>-0.185937</td>\n",
       "      <td>-0.551703</td>\n",
       "      <td>-0.505895</td>\n",
       "      <td>-0.410245</td>\n",
       "    </tr>\n",
       "    <tr>\n",
       "      <th>887</th>\n",
       "      <td>1.20916</td>\n",
       "      <td>-1.476364</td>\n",
       "      <td>-0.737041</td>\n",
       "      <td>-0.551703</td>\n",
       "      <td>-0.505895</td>\n",
       "      <td>-0.088774</td>\n",
       "    </tr>\n",
       "    <tr>\n",
       "      <th>889</th>\n",
       "      <td>1.20916</td>\n",
       "      <td>-1.476364</td>\n",
       "      <td>-0.254825</td>\n",
       "      <td>-0.551703</td>\n",
       "      <td>-0.505895</td>\n",
       "      <td>-0.088774</td>\n",
       "    </tr>\n",
       "    <tr>\n",
       "      <th>890</th>\n",
       "      <td>-0.82702</td>\n",
       "      <td>0.911232</td>\n",
       "      <td>0.158503</td>\n",
       "      <td>-0.551703</td>\n",
       "      <td>-0.505895</td>\n",
       "      <td>-0.509523</td>\n",
       "    </tr>\n",
       "  </tbody>\n",
       "</table>\n",
       "<p>714 rows × 6 columns</p>\n",
       "</div>"
      ]
     },
     "execution_count": 36,
     "metadata": {},
     "output_type": "execute_result"
    }
   ],
   "execution_count": 36
  },
  {
   "metadata": {
    "ExecuteTime": {
     "end_time": "2025-04-14T10:33:37.585067Z",
     "start_time": "2025-04-14T10:33:37.577427Z"
    }
   },
   "cell_type": "code",
   "source": "X.describe()",
   "id": "15368e0987c593a5",
   "outputs": [
    {
     "data": {
      "text/plain": [
       "           Survived        Pclass           Age         SibSp         Parch  \\\n",
       "count  7.140000e+02  7.140000e+02  7.140000e+02  7.140000e+02  7.140000e+02   \n",
       "mean   1.243947e-17 -5.473368e-17  2.338621e-16 -4.975789e-18 -7.214895e-17   \n",
       "std    1.000701e+00  1.000701e+00  1.000701e+00  1.000701e+00  1.000701e+00   \n",
       "min   -8.270201e-01 -1.476364e+00 -2.016979e+00 -5.517031e-01 -5.058951e-01   \n",
       "25%   -8.270201e-01 -1.476364e+00 -6.595416e-01 -5.517031e-01 -5.058951e-01   \n",
       "50%   -8.270201e-01 -2.825656e-01 -1.170488e-01 -5.517031e-01 -5.058951e-01   \n",
       "75%    1.209160e+00  9.112324e-01  5.718310e-01  5.245701e-01  6.668618e-01   \n",
       "max    1.209160e+00  9.112324e-01  3.465126e+00  4.829663e+00  6.530646e+00   \n",
       "\n",
       "               Fare  \n",
       "count  7.140000e+02  \n",
       "mean  -5.970947e-17  \n",
       "std    1.000701e+00  \n",
       "min   -6.560759e-01  \n",
       "25%   -5.038498e-01  \n",
       "50%   -3.583992e-01  \n",
       "75%   -2.495211e-02  \n",
       "max    9.032109e+00  "
      ],
      "text/html": [
       "<div>\n",
       "<style scoped>\n",
       "    .dataframe tbody tr th:only-of-type {\n",
       "        vertical-align: middle;\n",
       "    }\n",
       "\n",
       "    .dataframe tbody tr th {\n",
       "        vertical-align: top;\n",
       "    }\n",
       "\n",
       "    .dataframe thead th {\n",
       "        text-align: right;\n",
       "    }\n",
       "</style>\n",
       "<table border=\"1\" class=\"dataframe\">\n",
       "  <thead>\n",
       "    <tr style=\"text-align: right;\">\n",
       "      <th></th>\n",
       "      <th>Survived</th>\n",
       "      <th>Pclass</th>\n",
       "      <th>Age</th>\n",
       "      <th>SibSp</th>\n",
       "      <th>Parch</th>\n",
       "      <th>Fare</th>\n",
       "    </tr>\n",
       "  </thead>\n",
       "  <tbody>\n",
       "    <tr>\n",
       "      <th>count</th>\n",
       "      <td>7.140000e+02</td>\n",
       "      <td>7.140000e+02</td>\n",
       "      <td>7.140000e+02</td>\n",
       "      <td>7.140000e+02</td>\n",
       "      <td>7.140000e+02</td>\n",
       "      <td>7.140000e+02</td>\n",
       "    </tr>\n",
       "    <tr>\n",
       "      <th>mean</th>\n",
       "      <td>1.243947e-17</td>\n",
       "      <td>-5.473368e-17</td>\n",
       "      <td>2.338621e-16</td>\n",
       "      <td>-4.975789e-18</td>\n",
       "      <td>-7.214895e-17</td>\n",
       "      <td>-5.970947e-17</td>\n",
       "    </tr>\n",
       "    <tr>\n",
       "      <th>std</th>\n",
       "      <td>1.000701e+00</td>\n",
       "      <td>1.000701e+00</td>\n",
       "      <td>1.000701e+00</td>\n",
       "      <td>1.000701e+00</td>\n",
       "      <td>1.000701e+00</td>\n",
       "      <td>1.000701e+00</td>\n",
       "    </tr>\n",
       "    <tr>\n",
       "      <th>min</th>\n",
       "      <td>-8.270201e-01</td>\n",
       "      <td>-1.476364e+00</td>\n",
       "      <td>-2.016979e+00</td>\n",
       "      <td>-5.517031e-01</td>\n",
       "      <td>-5.058951e-01</td>\n",
       "      <td>-6.560759e-01</td>\n",
       "    </tr>\n",
       "    <tr>\n",
       "      <th>25%</th>\n",
       "      <td>-8.270201e-01</td>\n",
       "      <td>-1.476364e+00</td>\n",
       "      <td>-6.595416e-01</td>\n",
       "      <td>-5.517031e-01</td>\n",
       "      <td>-5.058951e-01</td>\n",
       "      <td>-5.038498e-01</td>\n",
       "    </tr>\n",
       "    <tr>\n",
       "      <th>50%</th>\n",
       "      <td>-8.270201e-01</td>\n",
       "      <td>-2.825656e-01</td>\n",
       "      <td>-1.170488e-01</td>\n",
       "      <td>-5.517031e-01</td>\n",
       "      <td>-5.058951e-01</td>\n",
       "      <td>-3.583992e-01</td>\n",
       "    </tr>\n",
       "    <tr>\n",
       "      <th>75%</th>\n",
       "      <td>1.209160e+00</td>\n",
       "      <td>9.112324e-01</td>\n",
       "      <td>5.718310e-01</td>\n",
       "      <td>5.245701e-01</td>\n",
       "      <td>6.668618e-01</td>\n",
       "      <td>-2.495211e-02</td>\n",
       "    </tr>\n",
       "    <tr>\n",
       "      <th>max</th>\n",
       "      <td>1.209160e+00</td>\n",
       "      <td>9.112324e-01</td>\n",
       "      <td>3.465126e+00</td>\n",
       "      <td>4.829663e+00</td>\n",
       "      <td>6.530646e+00</td>\n",
       "      <td>9.032109e+00</td>\n",
       "    </tr>\n",
       "  </tbody>\n",
       "</table>\n",
       "</div>"
      ]
     },
     "execution_count": 38,
     "metadata": {},
     "output_type": "execute_result"
    }
   ],
   "execution_count": 38
  },
  {
   "metadata": {
    "ExecuteTime": {
     "end_time": "2025-04-14T11:01:42.180391Z",
     "start_time": "2025-04-14T11:01:41.886910Z"
    }
   },
   "cell_type": "code",
   "source": [
    "from sklearn.cluster import KMeans\n",
    "from sklearn.metrics import silhouette_score\n",
    "\n",
    "inertia = []  # To store the sum of squared distances (inertia) for different k values\n",
    "silhouette_scores = []  # To store silhouette scores for different k values\n",
    "\n",
    "k_range = range(2, 11)  # Test k from 2 to 10\n",
    "for k in k_range:\n",
    "    kmeans = KMeans(n_clusters=k, random_state=42)\n",
    "    kmeans.fit(X)\n",
    "    inertia.append(kmeans.inertia_)\n",
    "    silhouette_scores.append(silhouette_score(X, kmeans.labels_))\n",
    "\n",
    "# Plot the Elbow Method\n",
    "plt.figure(figsize=(12, 5))\n",
    "plt.subplot(1, 2, 1)\n",
    "plt.plot(k_range, inertia, marker='o')\n",
    "plt.title('Elbow Method')\n",
    "plt.xlabel('Number of Clusters (k)')\n",
    "plt.ylabel('Inertia')\n",
    "\n",
    "# Plot the Silhouette Scores\n",
    "plt.subplot(1, 2, 2)\n",
    "plt.plot(k_range, silhouette_scores, marker='o')\n",
    "plt.title('Silhouette Scores')\n",
    "plt.xlabel('Number of Clusters (k)')\n",
    "plt.ylabel('Silhouette Score')\n",
    "plt.tight_layout()\n",
    "plt.show()"
   ],
   "id": "6a60e8034e69cd54",
   "outputs": [
    {
     "data": {
      "text/plain": [
       "<Figure size 1200x500 with 2 Axes>"
      ],
      "image/png": "[encoded data removed]"
     },
     "metadata": {},
     "output_type": "display_data"
    }
   ],
   "execution_count": 58
  }
 ],
 "metadata": {
  "kernelspec": {
   "display_name": "Python 3",
   "language": "python",
   "name": "python3"
  },
  "language_info": {
   "codemirror_mode": {
    "name": "ipython",
    "version": 2
   },
   "file_extension": ".py",
   "mimetype": "text/x-python",
   "name": "python",
   "nbconvert_exporter": "python",
   "pygments_lexer": "ipython2",
   "version": "2.7.6"
  }
 },
 "nbformat": 4,
 "nbformat_minor": 5
}
