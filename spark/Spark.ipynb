{
 "cells": [
  {
   "metadata": {
    "ExecuteTime": {
     "end_time": "2024-10-05T14:04:44.007856Z",
     "start_time": "2024-10-05T14:04:43.521572Z"
    }
   },
   "cell_type": "code",
   "source": "pip install pandas",
   "id": "e10a6713102c9da1",
   "outputs": [
    {
     "name": "stdout",
     "output_type": "stream",
     "text": [
      "Requirement already satisfied: pandas in ./Apps-install/anaconda_new/envs/tensorflow/lib/python3.6/site-packages (1.1.5)\r\n",
      "Requirement already satisfied: pytz>=2017.2 in ./Apps-install/anaconda_new/envs/tensorflow/lib/python3.6/site-packages (from pandas) (2021.3)\r\n",
      "Requirement already satisfied: numpy>=1.15.4 in ./Apps-install/anaconda_new/envs/tensorflow/lib/python3.6/site-packages (from pandas) (1.19.5)\r\n",
      "Requirement already satisfied: python-dateutil>=2.7.3 in ./Apps-install/anaconda_new/envs/tensorflow/lib/python3.6/site-packages (from pandas) (2.8.2)\r\n",
      "Requirement already satisfied: six>=1.5 in ./Apps-install/anaconda_new/envs/tensorflow/lib/python3.6/site-packages (from python-dateutil>=2.7.3->pandas) (1.16.0)\r\n",
      "Note: you may need to restart the kernel to use updated packages.\n"
     ]
    }
   ],
   "execution_count": 12
  },
  {
   "cell_type": "code",
   "id": "7d8ea01b-e231-47a8-a612-1bffd6b79044",
   "metadata": {
    "ExecuteTime": {
     "end_time": "2024-10-05T14:04:59.452785Z",
     "start_time": "2024-10-05T14:04:59.195823Z"
    }
   },
   "source": [
    "import pandas as pd\n",
    "import numpy as np\n",
    "import matplotlib.pyplot as plt"
   ],
   "outputs": [],
   "execution_count": 1
  },
  {
   "cell_type": "code",
   "id": "2979ddc5-c0cf-47dc-b551-ac6f686e3200",
   "metadata": {
    "ExecuteTime": {
     "end_time": "2024-10-05T14:03:20.160918Z",
     "start_time": "2024-10-05T14:03:20.152316Z"
    }
   },
   "source": "df = pd.read_csv('/media/tsr/Linux/Projects/Spark/companies.txt', )",
   "outputs": [
    {
     "ename": "ParserError",
     "evalue": "Error tokenizing data. C error: Expected 1 fields in line 4, saw 2\n",
     "output_type": "error",
     "traceback": [
      "\u001B[0;31m---------------------------------------------------------------------------\u001B[0m",
      "\u001B[0;31mParserError\u001B[0m                               Traceback (most recent call last)",
      "\u001B[0;32m<ipython-input-10-3cbf0e91c9d5>\u001B[0m in \u001B[0;36m<module>\u001B[0;34m\u001B[0m\n\u001B[0;32m----> 1\u001B[0;31m \u001B[0mdf\u001B[0m \u001B[0;34m=\u001B[0m \u001B[0mpd\u001B[0m\u001B[0;34m.\u001B[0m\u001B[0mread_csv\u001B[0m\u001B[0;34m(\u001B[0m\u001B[0;34m'/media/tsr/Linux/Projects/Spark/companies.txt'\u001B[0m\u001B[0;34m)\u001B[0m\u001B[0;34m\u001B[0m\u001B[0;34m\u001B[0m\u001B[0m\n\u001B[0m",
      "\u001B[0;32m/media/tsr/Linux/Apps-install/anaconda_new/envs/tensorflow/lib/python3.6/site-packages/pandas/io/parsers.py\u001B[0m in \u001B[0;36mread_csv\u001B[0;34m(filepath_or_buffer, sep, delimiter, header, names, index_col, usecols, squeeze, prefix, mangle_dupe_cols, dtype, engine, converters, true_values, false_values, skipinitialspace, skiprows, skipfooter, nrows, na_values, keep_default_na, na_filter, verbose, skip_blank_lines, parse_dates, infer_datetime_format, keep_date_col, date_parser, dayfirst, cache_dates, iterator, chunksize, compression, thousands, decimal, lineterminator, quotechar, quoting, doublequote, escapechar, comment, encoding, dialect, error_bad_lines, warn_bad_lines, delim_whitespace, low_memory, memory_map, float_precision)\u001B[0m\n\u001B[1;32m    686\u001B[0m     )\n\u001B[1;32m    687\u001B[0m \u001B[0;34m\u001B[0m\u001B[0m\n\u001B[0;32m--> 688\u001B[0;31m     \u001B[0;32mreturn\u001B[0m \u001B[0m_read\u001B[0m\u001B[0;34m(\u001B[0m\u001B[0mfilepath_or_buffer\u001B[0m\u001B[0;34m,\u001B[0m \u001B[0mkwds\u001B[0m\u001B[0;34m)\u001B[0m\u001B[0;34m\u001B[0m\u001B[0;34m\u001B[0m\u001B[0m\n\u001B[0m\u001B[1;32m    689\u001B[0m \u001B[0;34m\u001B[0m\u001B[0m\n\u001B[1;32m    690\u001B[0m \u001B[0;34m\u001B[0m\u001B[0m\n",
      "\u001B[0;32m/media/tsr/Linux/Apps-install/anaconda_new/envs/tensorflow/lib/python3.6/site-packages/pandas/io/parsers.py\u001B[0m in \u001B[0;36m_read\u001B[0;34m(filepath_or_buffer, kwds)\u001B[0m\n\u001B[1;32m    458\u001B[0m \u001B[0;34m\u001B[0m\u001B[0m\n\u001B[1;32m    459\u001B[0m     \u001B[0;32mtry\u001B[0m\u001B[0;34m:\u001B[0m\u001B[0;34m\u001B[0m\u001B[0;34m\u001B[0m\u001B[0m\n\u001B[0;32m--> 460\u001B[0;31m         \u001B[0mdata\u001B[0m \u001B[0;34m=\u001B[0m \u001B[0mparser\u001B[0m\u001B[0;34m.\u001B[0m\u001B[0mread\u001B[0m\u001B[0;34m(\u001B[0m\u001B[0mnrows\u001B[0m\u001B[0;34m)\u001B[0m\u001B[0;34m\u001B[0m\u001B[0;34m\u001B[0m\u001B[0m\n\u001B[0m\u001B[1;32m    461\u001B[0m     \u001B[0;32mfinally\u001B[0m\u001B[0;34m:\u001B[0m\u001B[0;34m\u001B[0m\u001B[0;34m\u001B[0m\u001B[0m\n\u001B[1;32m    462\u001B[0m         \u001B[0mparser\u001B[0m\u001B[0;34m.\u001B[0m\u001B[0mclose\u001B[0m\u001B[0;34m(\u001B[0m\u001B[0;34m)\u001B[0m\u001B[0;34m\u001B[0m\u001B[0;34m\u001B[0m\u001B[0m\n",
      "\u001B[0;32m/media/tsr/Linux/Apps-install/anaconda_new/envs/tensorflow/lib/python3.6/site-packages/pandas/io/parsers.py\u001B[0m in \u001B[0;36mread\u001B[0;34m(self, nrows)\u001B[0m\n\u001B[1;32m   1196\u001B[0m     \u001B[0;32mdef\u001B[0m \u001B[0mread\u001B[0m\u001B[0;34m(\u001B[0m\u001B[0mself\u001B[0m\u001B[0;34m,\u001B[0m \u001B[0mnrows\u001B[0m\u001B[0;34m=\u001B[0m\u001B[0;32mNone\u001B[0m\u001B[0;34m)\u001B[0m\u001B[0;34m:\u001B[0m\u001B[0;34m\u001B[0m\u001B[0;34m\u001B[0m\u001B[0m\n\u001B[1;32m   1197\u001B[0m         \u001B[0mnrows\u001B[0m \u001B[0;34m=\u001B[0m \u001B[0m_validate_integer\u001B[0m\u001B[0;34m(\u001B[0m\u001B[0;34m\"nrows\"\u001B[0m\u001B[0;34m,\u001B[0m \u001B[0mnrows\u001B[0m\u001B[0;34m)\u001B[0m\u001B[0;34m\u001B[0m\u001B[0;34m\u001B[0m\u001B[0m\n\u001B[0;32m-> 1198\u001B[0;31m         \u001B[0mret\u001B[0m \u001B[0;34m=\u001B[0m \u001B[0mself\u001B[0m\u001B[0;34m.\u001B[0m\u001B[0m_engine\u001B[0m\u001B[0;34m.\u001B[0m\u001B[0mread\u001B[0m\u001B[0;34m(\u001B[0m\u001B[0mnrows\u001B[0m\u001B[0;34m)\u001B[0m\u001B[0;34m\u001B[0m\u001B[0;34m\u001B[0m\u001B[0m\n\u001B[0m\u001B[1;32m   1199\u001B[0m \u001B[0;34m\u001B[0m\u001B[0m\n\u001B[1;32m   1200\u001B[0m         \u001B[0;31m# May alter columns / col_dict\u001B[0m\u001B[0;34m\u001B[0m\u001B[0;34m\u001B[0m\u001B[0;34m\u001B[0m\u001B[0m\n",
      "\u001B[0;32m/media/tsr/Linux/Apps-install/anaconda_new/envs/tensorflow/lib/python3.6/site-packages/pandas/io/parsers.py\u001B[0m in \u001B[0;36mread\u001B[0;34m(self, nrows)\u001B[0m\n\u001B[1;32m   2155\u001B[0m     \u001B[0;32mdef\u001B[0m \u001B[0mread\u001B[0m\u001B[0;34m(\u001B[0m\u001B[0mself\u001B[0m\u001B[0;34m,\u001B[0m \u001B[0mnrows\u001B[0m\u001B[0;34m=\u001B[0m\u001B[0;32mNone\u001B[0m\u001B[0;34m)\u001B[0m\u001B[0;34m:\u001B[0m\u001B[0;34m\u001B[0m\u001B[0;34m\u001B[0m\u001B[0m\n\u001B[1;32m   2156\u001B[0m         \u001B[0;32mtry\u001B[0m\u001B[0;34m:\u001B[0m\u001B[0;34m\u001B[0m\u001B[0;34m\u001B[0m\u001B[0m\n\u001B[0;32m-> 2157\u001B[0;31m             \u001B[0mdata\u001B[0m \u001B[0;34m=\u001B[0m \u001B[0mself\u001B[0m\u001B[0;34m.\u001B[0m\u001B[0m_reader\u001B[0m\u001B[0;34m.\u001B[0m\u001B[0mread\u001B[0m\u001B[0;34m(\u001B[0m\u001B[0mnrows\u001B[0m\u001B[0;34m)\u001B[0m\u001B[0;34m\u001B[0m\u001B[0;34m\u001B[0m\u001B[0m\n\u001B[0m\u001B[1;32m   2158\u001B[0m         \u001B[0;32mexcept\u001B[0m \u001B[0mStopIteration\u001B[0m\u001B[0;34m:\u001B[0m\u001B[0;34m\u001B[0m\u001B[0;34m\u001B[0m\u001B[0m\n\u001B[1;32m   2159\u001B[0m             \u001B[0;32mif\u001B[0m \u001B[0mself\u001B[0m\u001B[0;34m.\u001B[0m\u001B[0m_first_chunk\u001B[0m\u001B[0;34m:\u001B[0m\u001B[0;34m\u001B[0m\u001B[0;34m\u001B[0m\u001B[0m\n",
      "\u001B[0;32mpandas/_libs/parsers.pyx\u001B[0m in \u001B[0;36mpandas._libs.parsers.TextReader.read\u001B[0;34m()\u001B[0m\n",
      "\u001B[0;32mpandas/_libs/parsers.pyx\u001B[0m in \u001B[0;36mpandas._libs.parsers.TextReader._read_low_memory\u001B[0;34m()\u001B[0m\n",
      "\u001B[0;32mpandas/_libs/parsers.pyx\u001B[0m in \u001B[0;36mpandas._libs.parsers.TextReader._read_rows\u001B[0;34m()\u001B[0m\n",
      "\u001B[0;32mpandas/_libs/parsers.pyx\u001B[0m in \u001B[0;36mpandas._libs.parsers.TextReader._tokenize_rows\u001B[0;34m()\u001B[0m\n",
      "\u001B[0;32mpandas/_libs/parsers.pyx\u001B[0m in \u001B[0;36mpandas._libs.parsers.raise_parser_error\u001B[0;34m()\u001B[0m\n",
      "\u001B[0;31mParserError\u001B[0m: Error tokenizing data. C error: Expected 1 fields in line 4, saw 2\n"
     ]
    }
   ],
   "execution_count": 10
  },
  {
   "cell_type": "markdown",
   "id": "76d640a9-c9e2-46e3-8e86-f46867ec4980",
   "metadata": {},
   "source": [
    "## Rounds2 Data Manipulation"
   ]
  },
  {
   "cell_type": "code",
   "id": "8066f5d2-2513-44b7-85c2-d59eb2bb4b09",
   "metadata": {
    "ExecuteTime": {
     "end_time": "2024-10-05T14:05:33.573815Z",
     "start_time": "2024-10-05T14:05:33.472496Z"
    }
   },
   "source": "df = pd.read_csv('/media/tsr/Linux/Projects/Spark/rounds2.csv', encoding='ISO-8859-1')",
   "outputs": [],
   "execution_count": 3
  },
  {
   "cell_type": "code",
   "id": "4fff50c0-9e20-4f15-8403-9def57844641",
   "metadata": {
    "ExecuteTime": {
     "end_time": "2024-10-05T14:05:35.806579Z",
     "start_time": "2024-10-05T14:05:35.802211Z"
    }
   },
   "source": [
    "df.dtypes"
   ],
   "outputs": [
    {
     "data": {
      "text/plain": [
       "company_permalink           object\n",
       "funding_round_permalink     object\n",
       "funding_round_type          object\n",
       "funding_round_code          object\n",
       "funded_at                   object\n",
       "raised_amount_usd          float64\n",
       "dtype: object"
      ]
     },
     "execution_count": 4,
     "metadata": {},
     "output_type": "execute_result"
    }
   ],
   "execution_count": 4
  },
  {
   "cell_type": "code",
   "id": "b5c0c075-78c5-4d04-a770-b8b9377bce99",
   "metadata": {
    "ExecuteTime": {
     "end_time": "2024-10-05T14:05:39.437134Z",
     "start_time": "2024-10-05T14:05:39.432917Z"
    }
   },
   "source": [
    "df.shape"
   ],
   "outputs": [
    {
     "data": {
      "text/plain": [
       "(114949, 6)"
      ]
     },
     "execution_count": 5,
     "metadata": {},
     "output_type": "execute_result"
    }
   ],
   "execution_count": 5
  },
  {
   "cell_type": "code",
   "id": "00839c58-1e50-4973-96c3-8155c01df517",
   "metadata": {
    "ExecuteTime": {
     "end_time": "2024-10-05T14:05:44.662964Z",
     "start_time": "2024-10-05T14:05:44.612284Z"
    }
   },
   "source": [
    "df['company_permalink'] = df['company_permalink'].str.replace('/organization/-', '', case=False, regex=False)\n",
    "\n",
    "df['company_permalink'] = df['company_permalink'].str.replace('/organization/', '', case=False, regex=False)"
   ],
   "outputs": [],
   "execution_count": 6
  },
  {
   "cell_type": "code",
   "id": "616e3f93-6dfe-46cb-a974-8f7ffa7a42b3",
   "metadata": {
    "ExecuteTime": {
     "end_time": "2024-10-05T14:05:46.371494Z",
     "start_time": "2024-10-05T14:05:46.335982Z"
    }
   },
   "source": [
    "df['funding_round_permalink'] = df['funding_round_permalink'].str.replace('/funding-round/', '', regex=False)"
   ],
   "outputs": [],
   "execution_count": 7
  },
  {
   "cell_type": "code",
   "id": "55532243-3b4d-412a-ac92-c8dde8520c05",
   "metadata": {
    "ExecuteTime": {
     "end_time": "2024-10-05T14:05:47.834129Z",
     "start_time": "2024-10-05T14:05:47.827227Z"
    }
   },
   "source": [
    "df.head()"
   ],
   "outputs": [
    {
     "data": {
      "text/plain": [
       "                     company_permalink           funding_round_permalink  \\\n",
       "0                                 fame  9a01d05418af9f794eebff7ace91f638   \n",
       "1               /ORGANIZATION/-QOUNTER  22dacff496eb7acb2b901dec1dfe5633   \n",
       "2                              qounter  b44fbb94153f6cdef13083530bb48030   \n",
       "3  /ORGANIZATION/-THE-ONE-OF-THEM-INC-  650b8f704416801069bb178a1418776b   \n",
       "4                              0-6-com  5727accaeaa57461bd22a9bdd945382d   \n",
       "\n",
       "  funding_round_type funding_round_code   funded_at  raised_amount_usd  \n",
       "0            venture                  B  05-01-2015         10000000.0  \n",
       "1            venture                  A  14-10-2014                NaN  \n",
       "2               seed                NaN  01-03-2014           700000.0  \n",
       "3            venture                  B  30-01-2014          3406878.0  \n",
       "4            venture                  A  19-03-2008          2000000.0  "
      ],
      "text/html": [
       "<div>\n",
       "<style scoped>\n",
       "    .dataframe tbody tr th:only-of-type {\n",
       "        vertical-align: middle;\n",
       "    }\n",
       "\n",
       "    .dataframe tbody tr th {\n",
       "        vertical-align: top;\n",
       "    }\n",
       "\n",
       "    .dataframe thead th {\n",
       "        text-align: right;\n",
       "    }\n",
       "</style>\n",
       "<table border=\"1\" class=\"dataframe\">\n",
       "  <thead>\n",
       "    <tr style=\"text-align: right;\">\n",
       "      <th></th>\n",
       "      <th>company_permalink</th>\n",
       "      <th>funding_round_permalink</th>\n",
       "      <th>funding_round_type</th>\n",
       "      <th>funding_round_code</th>\n",
       "      <th>funded_at</th>\n",
       "      <th>raised_amount_usd</th>\n",
       "    </tr>\n",
       "  </thead>\n",
       "  <tbody>\n",
       "    <tr>\n",
       "      <th>0</th>\n",
       "      <td>fame</td>\n",
       "      <td>9a01d05418af9f794eebff7ace91f638</td>\n",
       "      <td>venture</td>\n",
       "      <td>B</td>\n",
       "      <td>05-01-2015</td>\n",
       "      <td>10000000.0</td>\n",
       "    </tr>\n",
       "    <tr>\n",
       "      <th>1</th>\n",
       "      <td>/ORGANIZATION/-QOUNTER</td>\n",
       "      <td>22dacff496eb7acb2b901dec1dfe5633</td>\n",
       "      <td>venture</td>\n",
       "      <td>A</td>\n",
       "      <td>14-10-2014</td>\n",
       "      <td>NaN</td>\n",
       "    </tr>\n",
       "    <tr>\n",
       "      <th>2</th>\n",
       "      <td>qounter</td>\n",
       "      <td>b44fbb94153f6cdef13083530bb48030</td>\n",
       "      <td>seed</td>\n",
       "      <td>NaN</td>\n",
       "      <td>01-03-2014</td>\n",
       "      <td>700000.0</td>\n",
       "    </tr>\n",
       "    <tr>\n",
       "      <th>3</th>\n",
       "      <td>/ORGANIZATION/-THE-ONE-OF-THEM-INC-</td>\n",
       "      <td>650b8f704416801069bb178a1418776b</td>\n",
       "      <td>venture</td>\n",
       "      <td>B</td>\n",
       "      <td>30-01-2014</td>\n",
       "      <td>3406878.0</td>\n",
       "    </tr>\n",
       "    <tr>\n",
       "      <th>4</th>\n",
       "      <td>0-6-com</td>\n",
       "      <td>5727accaeaa57461bd22a9bdd945382d</td>\n",
       "      <td>venture</td>\n",
       "      <td>A</td>\n",
       "      <td>19-03-2008</td>\n",
       "      <td>2000000.0</td>\n",
       "    </tr>\n",
       "  </tbody>\n",
       "</table>\n",
       "</div>"
      ]
     },
     "execution_count": 8,
     "metadata": {},
     "output_type": "execute_result"
    }
   ],
   "execution_count": 8
  },
  {
   "cell_type": "code",
   "execution_count": 17,
   "id": "95729f28-a2f9-429a-92c4-f2f3946bfb50",
   "metadata": {},
   "outputs": [
    {
     "data": {
      "text/plain": [
       "company_permalink              0\n",
       "funding_round_permalink        0\n",
       "funding_round_type             0\n",
       "funding_round_code         83809\n",
       "funded_at                      0\n",
       "raised_amount_usd          19990\n",
       "dtype: int64"
      ]
     },
     "execution_count": 17,
     "metadata": {},
     "output_type": "execute_result"
    }
   ],
   "source": [
    "df.isnull().sum()"
   ]
  },
  {
   "cell_type": "code",
   "execution_count": 20,
   "id": "33222f9a-a6e5-460e-a280-5066c82f815f",
   "metadata": {},
   "outputs": [
    {
     "data": {
      "text/plain": [
       "array(['fame', 'QOUNTER', 'qounter', ..., 'ã\\x81eron', 'Ã\\x94ASYS-2',\n",
       "       'ä°novatiff-reklam-ve-tanä±tä±m-hizmetleri-tic'], dtype=object)"
      ]
     },
     "execution_count": 20,
     "metadata": {},
     "output_type": "execute_result"
    }
   ],
   "source": [
    "df['company_permalink'].unique()"
   ]
  },
  {
   "cell_type": "code",
   "execution_count": 23,
   "id": "288045ac-a9a1-42ec-ac6c-46c6e51ba895",
   "metadata": {},
   "outputs": [
    {
     "data": {
      "text/plain": [
       "(90245,)"
      ]
     },
     "execution_count": 23,
     "metadata": {},
     "output_type": "execute_result"
    }
   ],
   "source": [
    "df['company_permalink'].unique().shape"
   ]
  },
  {
   "cell_type": "code",
   "execution_count": 65,
   "id": "d26fb59d-b534-49f4-a43f-58bf14948e3b",
   "metadata": {},
   "outputs": [
    {
     "data": {
      "text/plain": [
       "'venture'"
      ]
     },
     "execution_count": 65,
     "metadata": {},
     "output_type": "execute_result"
    }
   ],
   "source": [
    "funding_type = df['funding_round_type'].value_counts()\n",
    "funding_type.idxmax()"
   ]
  },
  {
   "cell_type": "code",
   "execution_count": 255,
   "id": "c741a01a-e8bf-411e-be8b-b864cdfd464d",
   "metadata": {},
   "outputs": [
    {
     "name": "stdout",
     "output_type": "stream",
     "text": [
      "Company with the highest total funds: verizon ($30,079,503,000.00)\n"
     ]
    }
   ],
   "source": [
    "df['company_permalink'] = df['company_permalink'].str.lower()\n",
    "\n",
    "grouped_sum = df.groupby('company_permalink')['raised_amount_usd'].sum()\n",
    "\n",
    "highest_company = grouped_sum.idxmax()\n",
    "highest_amount = grouped_sum.max()\n",
    "\n",
    "print(f\"Company with the highest total funds: {highest_company} (${highest_amount:,.2f})\")"
   ]
  },
  {
   "cell_type": "code",
   "execution_count": 267,
   "id": "572934f2-4c5a-4db9-a5cc-87c9d7ff5123",
   "metadata": {},
   "outputs": [
    {
     "data": {
      "text/plain": [
       "company_permalink\n",
       "verizon                              30,079,503,000.00\n",
       "freescale                            17,600,000,000.00\n",
       "cambridge-technology-group           10,664,943,639.00\n",
       "uber                                  8,207,450,000.00\n",
       "clearwire                             5,820,000,000.00\n",
       "sberbank                              5,800,000,000.00\n",
       "charter-communications                5,162,513,431.00\n",
       "cambridge-technology-partners-ctp     5,150,000,000.00\n",
       "alibaba                               4,812,000,000.00\n",
       "Name: raised_amount_usd, dtype: object"
      ]
     },
     "execution_count": 267,
     "metadata": {},
     "output_type": "execute_result"
    }
   ],
   "source": [
    "df['company_permalink'] = df['company_permalink'].str.lower()\n",
    "\n",
    "grouped_sum = df.groupby('company_permalink')['raised_amount_usd'].sum()\n",
    "grouped_sum.sort_values(ascending=False).head(9).apply(lambda x: f\"{x:,.2f}\")"
   ]
  },
  {
   "cell_type": "code",
   "execution_count": 49,
   "id": "2b063a0f-0734-4923-a8a9-1e434cb654ef",
   "metadata": {},
   "outputs": [
    {
     "data": {
      "text/html": [
       "<div>\n",
       "<style scoped>\n",
       "    .dataframe tbody tr th:only-of-type {\n",
       "        vertical-align: middle;\n",
       "    }\n",
       "\n",
       "    .dataframe tbody tr th {\n",
       "        vertical-align: top;\n",
       "    }\n",
       "\n",
       "    .dataframe thead th {\n",
       "        text-align: right;\n",
       "    }\n",
       "</style>\n",
       "<table border=\"1\" class=\"dataframe\">\n",
       "  <thead>\n",
       "    <tr style=\"text-align: right;\">\n",
       "      <th></th>\n",
       "      <th>company_permalink</th>\n",
       "      <th>funding_round_permalink</th>\n",
       "      <th>funding_round_type</th>\n",
       "      <th>funding_round_code</th>\n",
       "      <th>funded_at</th>\n",
       "      <th>raised_amount_usd</th>\n",
       "    </tr>\n",
       "  </thead>\n",
       "  <tbody>\n",
       "    <tr>\n",
       "      <th>106561</th>\n",
       "      <td>verizon</td>\n",
       "      <td>21b69a198a07a70bb48ca811709ef04c</td>\n",
       "      <td>debt_financing</td>\n",
       "      <td>NaN</td>\n",
       "      <td>26-01-2010</td>\n",
       "      <td>1.500000e+08</td>\n",
       "    </tr>\n",
       "    <tr>\n",
       "      <th>106562</th>\n",
       "      <td>verizon</td>\n",
       "      <td>2bd1f5a0e7b03d7db9af5f714e6b9cdd</td>\n",
       "      <td>debt_financing</td>\n",
       "      <td>NaN</td>\n",
       "      <td>28-02-2014</td>\n",
       "      <td>2.127194e+10</td>\n",
       "    </tr>\n",
       "    <tr>\n",
       "      <th>106563</th>\n",
       "      <td>verizon</td>\n",
       "      <td>42008177de80d82a06eb45eb8a75a9dd</td>\n",
       "      <td>debt_financing</td>\n",
       "      <td>NaN</td>\n",
       "      <td>04-03-2010</td>\n",
       "      <td>1.000000e+09</td>\n",
       "    </tr>\n",
       "    <tr>\n",
       "      <th>106564</th>\n",
       "      <td>verizon</td>\n",
       "      <td>d93e96a34475247d7902a12c3525b87f</td>\n",
       "      <td>debt_financing</td>\n",
       "      <td>NaN</td>\n",
       "      <td>05-03-2012</td>\n",
       "      <td>3.835050e+09</td>\n",
       "    </tr>\n",
       "    <tr>\n",
       "      <th>106565</th>\n",
       "      <td>verizon</td>\n",
       "      <td>fbb999526a72f69c7ac2b5088fb7116a</td>\n",
       "      <td>debt_financing</td>\n",
       "      <td>NaN</td>\n",
       "      <td>01-03-2013</td>\n",
       "      <td>3.822518e+09</td>\n",
       "    </tr>\n",
       "  </tbody>\n",
       "</table>\n",
       "</div>"
      ],
      "text/plain": [
       "       company_permalink           funding_round_permalink funding_round_type  \\\n",
       "106561           verizon  21b69a198a07a70bb48ca811709ef04c     debt_financing   \n",
       "106562           verizon  2bd1f5a0e7b03d7db9af5f714e6b9cdd     debt_financing   \n",
       "106563           verizon  42008177de80d82a06eb45eb8a75a9dd     debt_financing   \n",
       "106564           verizon  d93e96a34475247d7902a12c3525b87f     debt_financing   \n",
       "106565           verizon  fbb999526a72f69c7ac2b5088fb7116a     debt_financing   \n",
       "\n",
       "       funding_round_code   funded_at  raised_amount_usd  \n",
       "106561                NaN  26-01-2010       1.500000e+08  \n",
       "106562                NaN  28-02-2014       2.127194e+10  \n",
       "106563                NaN  04-03-2010       1.000000e+09  \n",
       "106564                NaN  05-03-2012       3.835050e+09  \n",
       "106565                NaN  01-03-2013       3.822518e+09  "
      ]
     },
     "execution_count": 49,
     "metadata": {},
     "output_type": "execute_result"
    }
   ],
   "source": [
    "highest_company_entries = df[df['company_permalink'] == highest_company]\n",
    "# companies = ['company_permalink', 'raised_amount_usd']\n",
    "highest_company_entries"
   ]
  },
  {
   "cell_type": "code",
   "execution_count": 275,
   "id": "9e830b6f-cdc7-45ce-9497-7794d1b1e74a",
   "metadata": {},
   "outputs": [
    {
     "data": {
      "text/html": [
       "<div>\n",
       "<style scoped>\n",
       "    .dataframe tbody tr th:only-of-type {\n",
       "        vertical-align: middle;\n",
       "    }\n",
       "\n",
       "    .dataframe tbody tr th {\n",
       "        vertical-align: top;\n",
       "    }\n",
       "\n",
       "    .dataframe thead th {\n",
       "        text-align: right;\n",
       "    }\n",
       "</style>\n",
       "<table border=\"1\" class=\"dataframe\">\n",
       "  <thead>\n",
       "    <tr style=\"text-align: right;\">\n",
       "      <th></th>\n",
       "      <th>permalink</th>\n",
       "      <th>name</th>\n",
       "      <th>homepage_url</th>\n",
       "      <th>category_list</th>\n",
       "      <th>status</th>\n",
       "      <th>country_code</th>\n",
       "      <th>state_code</th>\n",
       "      <th>region</th>\n",
       "      <th>city</th>\n",
       "      <th>founded_at</th>\n",
       "    </tr>\n",
       "  </thead>\n",
       "  <tbody>\n",
       "    <tr>\n",
       "      <th>0</th>\n",
       "      <td>Fame</td>\n",
       "      <td>#fame</td>\n",
       "      <td>http://livfame.com</td>\n",
       "      <td>Media</td>\n",
       "      <td>operating</td>\n",
       "      <td>IND</td>\n",
       "      <td>16</td>\n",
       "      <td>Mumbai</td>\n",
       "      <td>Mumbai</td>\n",
       "      <td>NaN</td>\n",
       "    </tr>\n",
       "    <tr>\n",
       "      <th>1</th>\n",
       "      <td>Qounter</td>\n",
       "      <td>:Qounter</td>\n",
       "      <td>http://www.qounter.com</td>\n",
       "      <td>Application Platforms|Real Time|Social Network...</td>\n",
       "      <td>operating</td>\n",
       "      <td>USA</td>\n",
       "      <td>DE</td>\n",
       "      <td>DE - Other</td>\n",
       "      <td>Delaware City</td>\n",
       "      <td>04-09-2014</td>\n",
       "    </tr>\n",
       "    <tr>\n",
       "      <th>2</th>\n",
       "      <td>The-One-Of-Them-Inc-</td>\n",
       "      <td>(THE) ONE of THEM,Inc.</td>\n",
       "      <td>http://oneofthem.jp</td>\n",
       "      <td>Apps|Games|Mobile</td>\n",
       "      <td>operating</td>\n",
       "      <td>NaN</td>\n",
       "      <td>NaN</td>\n",
       "      <td>NaN</td>\n",
       "      <td>NaN</td>\n",
       "      <td>NaN</td>\n",
       "    </tr>\n",
       "    <tr>\n",
       "      <th>3</th>\n",
       "      <td>0-6-Com</td>\n",
       "      <td>0-6.com</td>\n",
       "      <td>http://www.0-6.com</td>\n",
       "      <td>Curated Web</td>\n",
       "      <td>operating</td>\n",
       "      <td>CHN</td>\n",
       "      <td>22</td>\n",
       "      <td>Beijing</td>\n",
       "      <td>Beijing</td>\n",
       "      <td>01-01-2007</td>\n",
       "    </tr>\n",
       "    <tr>\n",
       "      <th>4</th>\n",
       "      <td>004-Technologies</td>\n",
       "      <td>004 Technologies</td>\n",
       "      <td>http://004gmbh.de/en/004-interact</td>\n",
       "      <td>Software</td>\n",
       "      <td>operating</td>\n",
       "      <td>USA</td>\n",
       "      <td>IL</td>\n",
       "      <td>Springfield, Illinois</td>\n",
       "      <td>Champaign</td>\n",
       "      <td>01-01-2010</td>\n",
       "    </tr>\n",
       "    <tr>\n",
       "      <th>5</th>\n",
       "      <td>01Games-Technology</td>\n",
       "      <td>01Games Technology</td>\n",
       "      <td>http://www.01games.hk/</td>\n",
       "      <td>Games</td>\n",
       "      <td>operating</td>\n",
       "      <td>HKG</td>\n",
       "      <td>NaN</td>\n",
       "      <td>Hong Kong</td>\n",
       "      <td>Hong Kong</td>\n",
       "      <td>NaN</td>\n",
       "    </tr>\n",
       "    <tr>\n",
       "      <th>6</th>\n",
       "      <td>0Ndine-Biomedical-Inc</td>\n",
       "      <td>Ondine Biomedical Inc.</td>\n",
       "      <td>http://ondinebio.com</td>\n",
       "      <td>Biotechnology</td>\n",
       "      <td>operating</td>\n",
       "      <td>CAN</td>\n",
       "      <td>BC</td>\n",
       "      <td>Vancouver</td>\n",
       "      <td>Vancouver</td>\n",
       "      <td>01-01-1997</td>\n",
       "    </tr>\n",
       "    <tr>\n",
       "      <th>7</th>\n",
       "      <td>0Xdata</td>\n",
       "      <td>H2O.ai</td>\n",
       "      <td>http://h2o.ai/</td>\n",
       "      <td>Analytics</td>\n",
       "      <td>operating</td>\n",
       "      <td>USA</td>\n",
       "      <td>CA</td>\n",
       "      <td>SF Bay Area</td>\n",
       "      <td>Mountain View</td>\n",
       "      <td>01-01-2011</td>\n",
       "    </tr>\n",
       "    <tr>\n",
       "      <th>8</th>\n",
       "      <td>1</td>\n",
       "      <td>One Inc.</td>\n",
       "      <td>http://whatis1.com</td>\n",
       "      <td>Mobile</td>\n",
       "      <td>operating</td>\n",
       "      <td>USA</td>\n",
       "      <td>CA</td>\n",
       "      <td>SF Bay Area</td>\n",
       "      <td>San Francisco</td>\n",
       "      <td>01-08-2011</td>\n",
       "    </tr>\n",
       "    <tr>\n",
       "      <th>9</th>\n",
       "      <td>1-2-3-Listo</td>\n",
       "      <td>1,2,3 Listo</td>\n",
       "      <td>http://www.123listo.com</td>\n",
       "      <td>E-Commerce</td>\n",
       "      <td>operating</td>\n",
       "      <td>CHL</td>\n",
       "      <td>12</td>\n",
       "      <td>Santiago</td>\n",
       "      <td>Las Condes</td>\n",
       "      <td>01-01-2012</td>\n",
       "    </tr>\n",
       "  </tbody>\n",
       "</table>\n",
       "</div>"
      ],
      "text/plain": [
       "               permalink                    name  \\\n",
       "0                   Fame                   #fame   \n",
       "1                Qounter                :Qounter   \n",
       "2   The-One-Of-Them-Inc-  (THE) ONE of THEM,Inc.   \n",
       "3                0-6-Com                 0-6.com   \n",
       "4       004-Technologies        004 Technologies   \n",
       "5     01Games-Technology      01Games Technology   \n",
       "6  0Ndine-Biomedical-Inc  Ondine Biomedical Inc.   \n",
       "7                 0Xdata                  H2O.ai   \n",
       "8                      1                One Inc.   \n",
       "9            1-2-3-Listo             1,2,3 Listo   \n",
       "\n",
       "                        homepage_url  \\\n",
       "0                 http://livfame.com   \n",
       "1             http://www.qounter.com   \n",
       "2                http://oneofthem.jp   \n",
       "3                 http://www.0-6.com   \n",
       "4  http://004gmbh.de/en/004-interact   \n",
       "5             http://www.01games.hk/   \n",
       "6               http://ondinebio.com   \n",
       "7                     http://h2o.ai/   \n",
       "8                 http://whatis1.com   \n",
       "9            http://www.123listo.com   \n",
       "\n",
       "                                       category_list     status country_code  \\\n",
       "0                                              Media  operating          IND   \n",
       "1  Application Platforms|Real Time|Social Network...  operating          USA   \n",
       "2                                  Apps|Games|Mobile  operating          NaN   \n",
       "3                                        Curated Web  operating          CHN   \n",
       "4                                           Software  operating          USA   \n",
       "5                                              Games  operating          HKG   \n",
       "6                                      Biotechnology  operating          CAN   \n",
       "7                                          Analytics  operating          USA   \n",
       "8                                             Mobile  operating          USA   \n",
       "9                                         E-Commerce  operating          CHL   \n",
       "\n",
       "  state_code                 region           city  founded_at  \n",
       "0         16                 Mumbai         Mumbai         NaN  \n",
       "1         DE             DE - Other  Delaware City  04-09-2014  \n",
       "2        NaN                    NaN            NaN         NaN  \n",
       "3         22                Beijing        Beijing  01-01-2007  \n",
       "4         IL  Springfield, Illinois      Champaign  01-01-2010  \n",
       "5        NaN              Hong Kong      Hong Kong         NaN  \n",
       "6         BC              Vancouver      Vancouver  01-01-1997  \n",
       "7         CA            SF Bay Area  Mountain View  01-01-2011  \n",
       "8         CA            SF Bay Area  San Francisco  01-08-2011  \n",
       "9         12               Santiago     Las Condes  01-01-2012  "
      ]
     },
     "execution_count": 275,
     "metadata": {},
     "output_type": "execute_result"
    }
   ],
   "source": [
    "df2 = pd.read_csv('tsr-companies.csv')\n",
    "df2.head(10)"
   ]
  },
  {
   "cell_type": "code",
   "execution_count": 279,
   "id": "f3fbf215-b0ba-4f82-8bfc-00a6a83e7d9f",
   "metadata": {},
   "outputs": [
    {
     "data": {
      "text/plain": [
       "array(['operating', 'acquired', 'closed', 'ipo'], dtype=object)"
      ]
     },
     "execution_count": 279,
     "metadata": {},
     "output_type": "execute_result"
    }
   ],
   "source": [
    "df2['status'].unique()"
   ]
  }
 ],
 "metadata": {
  "kernelspec": {
   "display_name": "Python 3 (ipykernel)",
   "language": "python",
   "name": "python3"
  },
  "language_info": {
   "codemirror_mode": {
    "name": "ipython",
    "version": 3
   },
   "file_extension": ".py",
   "mimetype": "text/x-python",
   "name": "python",
   "nbconvert_exporter": "python",
   "pygments_lexer": "ipython3",
   "version": "3.12.4"
  }
 },
 "nbformat": 4,
 "nbformat_minor": 5
}
